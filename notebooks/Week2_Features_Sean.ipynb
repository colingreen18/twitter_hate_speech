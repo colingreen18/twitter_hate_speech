{
 "cells": [
  {
   "cell_type": "code",
   "execution_count": 1,
   "metadata": {},
   "outputs": [],
   "source": [
    "import pandas as pd\n",
    "import numpy as np\n",
    "from matplotlib import pyplot as plt\n",
    "import sqlite3\n",
    "%matplotlib inline"
   ]
  },
  {
   "cell_type": "code",
   "execution_count": 2,
   "metadata": {},
   "outputs": [],
   "source": [
    "#import previous df from sqlite\n",
    "con = sqlite3.connect('twitter_hate.db')\n",
    "sql = \"\"\"\n",
    "SELECT * FROM tweets_nlp\n",
    "\"\"\"\n",
    "with sqlite3.connect('twitter_hate.db') as con:\n",
    "    df = pd.read_sql_query(sql, con)"
   ]
  },
  {
   "cell_type": "code",
   "execution_count": 3,
   "metadata": {},
   "outputs": [
    {
     "name": "stderr",
     "output_type": "stream",
     "text": [
      "C:\\Users\\seanx\\anaconda3\\lib\\site-packages\\ipykernel_launcher.py:15: SettingWithCopyWarning: \n",
      "A value is trying to be set on a copy of a slice from a DataFrame\n",
      "\n",
      "See the caveats in the documentation: https://pandas.pydata.org/pandas-docs/stable/user_guide/indexing.html#returning-a-view-versus-a-copy\n",
      "  from ipykernel import kernelapp as app\n"
     ]
    }
   ],
   "source": [
    "tweets = df['tweet_clean']\n",
    "\n",
    "mentions = []\n",
    "urls = []\n",
    "hashtags = []\n",
    "i = 0\n",
    "for tweet in tweets:\n",
    "    tweet = tweet.split()\n",
    "    mentions.append(tweet.count('mentionhere')+tweet.count('mentionhere:')+tweet.count('\"mentionhere:')+tweet.count('&#;mentionhere:'))\n",
    "    urls.append(tweet.count('urlhere'))\n",
    "    hashtags.append(tweet.count('hashtaghere'))\n",
    "    tweet = [token for token in tweet if token not in [';&','']]\n",
    "    tweet = [token for token in tweet if token not in ['&#;mentionhere:','mentionhere:','\"mentionhere:','mentionhere', 'urlhere', 'hashtaghere', 'rt', 'amp']]\n",
    "    tweet = \" \".join(tweet)\n",
    "    tweets[i] = tweet\n",
    "    i += 1\n",
    "    \n",
    "df['tweet_no_others'] = tweets\n",
    "df['mention_count'] = mentions\n",
    "df['url_count'] = urls\n",
    "df['hashtag_count'] = hashtags"
   ]
  },
  {
   "cell_type": "code",
   "execution_count": 4,
   "metadata": {},
   "outputs": [
    {
     "data": {
      "text/html": [
       "<div>\n",
       "<style scoped>\n",
       "    .dataframe tbody tr th:only-of-type {\n",
       "        vertical-align: middle;\n",
       "    }\n",
       "\n",
       "    .dataframe tbody tr th {\n",
       "        vertical-align: top;\n",
       "    }\n",
       "\n",
       "    .dataframe thead th {\n",
       "        text-align: right;\n",
       "    }\n",
       "</style>\n",
       "<table border=\"1\" class=\"dataframe\">\n",
       "  <thead>\n",
       "    <tr style=\"text-align: right;\">\n",
       "      <th></th>\n",
       "      <th>index</th>\n",
       "      <th>count</th>\n",
       "      <th>hate_speech</th>\n",
       "      <th>offensive_language</th>\n",
       "      <th>neither</th>\n",
       "      <th>class</th>\n",
       "      <th>tweet</th>\n",
       "      <th>tweet_clean</th>\n",
       "      <th>tweet_lemma</th>\n",
       "      <th>tweet_nouns</th>\n",
       "      <th>tweet_sym</th>\n",
       "      <th>tweet_verbs</th>\n",
       "      <th>tweet_nv</th>\n",
       "      <th>num_tokens</th>\n",
       "      <th>tweet_no_others</th>\n",
       "      <th>mention_count</th>\n",
       "      <th>url_count</th>\n",
       "      <th>hashtag_count</th>\n",
       "    </tr>\n",
       "  </thead>\n",
       "  <tbody>\n",
       "    <tr>\n",
       "      <th>0</th>\n",
       "      <td>17</td>\n",
       "      <td>3</td>\n",
       "      <td>1</td>\n",
       "      <td>2</td>\n",
       "      <td>0</td>\n",
       "      <td>1</td>\n",
       "      <td>\" bitch who do you love \"</td>\n",
       "      <td>bitch love</td>\n",
       "      <td>bitch love</td>\n",
       "      <td>bitch love</td>\n",
       "      <td></td>\n",
       "      <td></td>\n",
       "      <td>bitch love</td>\n",
       "      <td>2.0</td>\n",
       "      <td>bitch love</td>\n",
       "      <td>0</td>\n",
       "      <td>0</td>\n",
       "      <td>0</td>\n",
       "    </tr>\n",
       "    <tr>\n",
       "      <th>1</th>\n",
       "      <td>23</td>\n",
       "      <td>3</td>\n",
       "      <td>0</td>\n",
       "      <td>3</td>\n",
       "      <td>0</td>\n",
       "      <td>1</td>\n",
       "      <td>\" fuck no that bitch dont even suck dick \" &amp;#1...</td>\n",
       "      <td>fuck bitch dont even suck dick kermit videos b...</td>\n",
       "      <td>fuck bitch do not even suck dick              ...</td>\n",
       "      <td>bitch dick kermit videos bout fuck</td>\n",
       "      <td></td>\n",
       "      <td>suck</td>\n",
       "      <td>bitch dick kermit videos bout fuck suck</td>\n",
       "      <td>13.0</td>\n",
       "      <td>fuck bitch dont even suck dick kermit videos b...</td>\n",
       "      <td>0</td>\n",
       "      <td>0</td>\n",
       "      <td>0</td>\n",
       "    </tr>\n",
       "    <tr>\n",
       "      <th>2</th>\n",
       "      <td>38</td>\n",
       "      <td>3</td>\n",
       "      <td>0</td>\n",
       "      <td>2</td>\n",
       "      <td>1</td>\n",
       "      <td>1</td>\n",
       "      <td>\" lames crying over hoes thats tears of a clown \"</td>\n",
       "      <td>lames crying hoes thats tears clown</td>\n",
       "      <td>lame cry hoe that s tear clown</td>\n",
       "      <td>lame hoe s tear clown</td>\n",
       "      <td></td>\n",
       "      <td>cry</td>\n",
       "      <td>lame hoe s tear clown cry</td>\n",
       "      <td>7.0</td>\n",
       "      <td>lames crying hoes thats tears clown</td>\n",
       "      <td>0</td>\n",
       "      <td>0</td>\n",
       "      <td>0</td>\n",
       "    </tr>\n",
       "    <tr>\n",
       "      <th>3</th>\n",
       "      <td>59</td>\n",
       "      <td>3</td>\n",
       "      <td>0</td>\n",
       "      <td>3</td>\n",
       "      <td>0</td>\n",
       "      <td>1</td>\n",
       "      <td>\"..All I wanna do is get money and fuck model ...</td>\n",
       "      <td>all i wanna get money fuck model bitches russe...</td>\n",
       "      <td>all i wanna get money fuck model bitch      ru...</td>\n",
       "      <td>wanna money fuck model bitch russell simmons</td>\n",
       "      <td></td>\n",
       "      <td>get</td>\n",
       "      <td>wanna money fuck model bitch russell simmons get</td>\n",
       "      <td>11.0</td>\n",
       "      <td>all i wanna get money fuck model bitches russe...</td>\n",
       "      <td>0</td>\n",
       "      <td>0</td>\n",
       "      <td>0</td>\n",
       "    </tr>\n",
       "    <tr>\n",
       "      <th>4</th>\n",
       "      <td>62</td>\n",
       "      <td>3</td>\n",
       "      <td>0</td>\n",
       "      <td>3</td>\n",
       "      <td>0</td>\n",
       "      <td>1</td>\n",
       "      <td>\"@ARIZZLEINDACUT: Females think dating a pussy...</td>\n",
       "      <td>females think dating pussy cute now stuff make...</td>\n",
       "      <td>mentionhere   female think date pussy cute now...</td>\n",
       "      <td>mentionhere female cute stuff</td>\n",
       "      <td></td>\n",
       "      <td>think date urlhere make</td>\n",
       "      <td>mentionhere female cute stuff think date urlhe...</td>\n",
       "      <td>14.0</td>\n",
       "      <td>females think dating pussy cute now stuff make...</td>\n",
       "      <td>1</td>\n",
       "      <td>1</td>\n",
       "      <td>0</td>\n",
       "    </tr>\n",
       "  </tbody>\n",
       "</table>\n",
       "</div>"
      ],
      "text/plain": [
       "   index  count  hate_speech  offensive_language  neither  class  \\\n",
       "0     17      3            1                   2        0      1   \n",
       "1     23      3            0                   3        0      1   \n",
       "2     38      3            0                   2        1      1   \n",
       "3     59      3            0                   3        0      1   \n",
       "4     62      3            0                   3        0      1   \n",
       "\n",
       "                                               tweet  \\\n",
       "0                          \" bitch who do you love \"   \n",
       "1  \" fuck no that bitch dont even suck dick \" &#1...   \n",
       "2  \" lames crying over hoes thats tears of a clown \"   \n",
       "3  \"..All I wanna do is get money and fuck model ...   \n",
       "4  \"@ARIZZLEINDACUT: Females think dating a pussy...   \n",
       "\n",
       "                                         tweet_clean  \\\n",
       "0                                         bitch love   \n",
       "1  fuck bitch dont even suck dick kermit videos b...   \n",
       "2                lames crying hoes thats tears clown   \n",
       "3  all i wanna get money fuck model bitches russe...   \n",
       "4  females think dating pussy cute now stuff make...   \n",
       "\n",
       "                                         tweet_lemma  \\\n",
       "0                                         bitch love   \n",
       "1  fuck bitch do not even suck dick              ...   \n",
       "2                     lame cry hoe that s tear clown   \n",
       "3  all i wanna get money fuck model bitch      ru...   \n",
       "4  mentionhere   female think date pussy cute now...   \n",
       "\n",
       "                                    tweet_nouns tweet_sym  \\\n",
       "0                                    bitch love             \n",
       "1            bitch dick kermit videos bout fuck             \n",
       "2                         lame hoe s tear clown             \n",
       "3  wanna money fuck model bitch russell simmons             \n",
       "4                 mentionhere female cute stuff             \n",
       "\n",
       "               tweet_verbs                                           tweet_nv  \\\n",
       "0                                                                  bitch love   \n",
       "1                     suck            bitch dick kermit videos bout fuck suck   \n",
       "2                      cry                          lame hoe s tear clown cry   \n",
       "3                      get   wanna money fuck model bitch russell simmons get   \n",
       "4  think date urlhere make  mentionhere female cute stuff think date urlhe...   \n",
       "\n",
       "   num_tokens                                    tweet_no_others  \\\n",
       "0         2.0                                         bitch love   \n",
       "1        13.0  fuck bitch dont even suck dick kermit videos b...   \n",
       "2         7.0                lames crying hoes thats tears clown   \n",
       "3        11.0  all i wanna get money fuck model bitches russe...   \n",
       "4        14.0  females think dating pussy cute now stuff make...   \n",
       "\n",
       "   mention_count  url_count  hashtag_count  \n",
       "0              0          0              0  \n",
       "1              0          0              0  \n",
       "2              0          0              0  \n",
       "3              0          0              0  \n",
       "4              1          1              0  "
      ]
     },
     "execution_count": 4,
     "metadata": {},
     "output_type": "execute_result"
    }
   ],
   "source": [
    "df.head()"
   ]
  },
  {
   "cell_type": "code",
   "execution_count": 5,
   "metadata": {},
   "outputs": [],
   "source": [
    "corpus = df['tweet_no_others']"
   ]
  },
  {
   "cell_type": "markdown",
   "metadata": {},
   "source": [
    "### Bag of Words Features"
   ]
  },
  {
   "cell_type": "code",
   "execution_count": 6,
   "metadata": {},
   "outputs": [
    {
     "data": {
      "text/plain": [
       "array([[0, 0, 0, ..., 0, 0, 0],\n",
       "       [0, 0, 0, ..., 0, 0, 0],\n",
       "       [0, 0, 0, ..., 0, 0, 0],\n",
       "       ...,\n",
       "       [0, 0, 0, ..., 0, 0, 0],\n",
       "       [0, 0, 0, ..., 0, 0, 0],\n",
       "       [0, 0, 0, ..., 0, 0, 0]], dtype=int64)"
      ]
     },
     "execution_count": 6,
     "metadata": {},
     "output_type": "execute_result"
    }
   ],
   "source": [
    "from sklearn.feature_extraction.text import CountVectorizer\n",
    "\n",
    "cv = CountVectorizer(min_df=0., max_df=1.)\n",
    "cv_matrix = cv.fit_transform(corpus)\n",
    "cv_matrix = cv_matrix.toarray()\n",
    "cv_matrix"
   ]
  },
  {
   "cell_type": "code",
   "execution_count": 7,
   "metadata": {},
   "outputs": [
    {
     "data": {
      "text/html": [
       "<div>\n",
       "<style scoped>\n",
       "    .dataframe tbody tr th:only-of-type {\n",
       "        vertical-align: middle;\n",
       "    }\n",
       "\n",
       "    .dataframe tbody tr th {\n",
       "        vertical-align: top;\n",
       "    }\n",
       "\n",
       "    .dataframe thead th {\n",
       "        text-align: right;\n",
       "    }\n",
       "</style>\n",
       "<table border=\"1\" class=\"dataframe\">\n",
       "  <thead>\n",
       "    <tr style=\"text-align: right;\">\n",
       "      <th></th>\n",
       "      <th>aa</th>\n",
       "      <th>aaaaaaaaand</th>\n",
       "      <th>aap</th>\n",
       "      <th>aaron</th>\n",
       "      <th>aaronmacgruder</th>\n",
       "      <th>ab</th>\n",
       "      <th>ability</th>\n",
       "      <th>abortion</th>\n",
       "      <th>about</th>\n",
       "      <th>abraham</th>\n",
       "      <th>...</th>\n",
       "      <th>zimmerman</th>\n",
       "      <th>zimmy</th>\n",
       "      <th>zion</th>\n",
       "      <th>zionist</th>\n",
       "      <th>zipperheads</th>\n",
       "      <th>zoe</th>\n",
       "      <th>zog</th>\n",
       "      <th>zone</th>\n",
       "      <th>zoom</th>\n",
       "      <th>zzzzzz</th>\n",
       "    </tr>\n",
       "  </thead>\n",
       "  <tbody>\n",
       "    <tr>\n",
       "      <th>0</th>\n",
       "      <td>0</td>\n",
       "      <td>0</td>\n",
       "      <td>0</td>\n",
       "      <td>0</td>\n",
       "      <td>0</td>\n",
       "      <td>0</td>\n",
       "      <td>0</td>\n",
       "      <td>0</td>\n",
       "      <td>0</td>\n",
       "      <td>0</td>\n",
       "      <td>...</td>\n",
       "      <td>0</td>\n",
       "      <td>0</td>\n",
       "      <td>0</td>\n",
       "      <td>0</td>\n",
       "      <td>0</td>\n",
       "      <td>0</td>\n",
       "      <td>0</td>\n",
       "      <td>0</td>\n",
       "      <td>0</td>\n",
       "      <td>0</td>\n",
       "    </tr>\n",
       "    <tr>\n",
       "      <th>1</th>\n",
       "      <td>0</td>\n",
       "      <td>0</td>\n",
       "      <td>0</td>\n",
       "      <td>0</td>\n",
       "      <td>0</td>\n",
       "      <td>0</td>\n",
       "      <td>0</td>\n",
       "      <td>0</td>\n",
       "      <td>0</td>\n",
       "      <td>0</td>\n",
       "      <td>...</td>\n",
       "      <td>0</td>\n",
       "      <td>0</td>\n",
       "      <td>0</td>\n",
       "      <td>0</td>\n",
       "      <td>0</td>\n",
       "      <td>0</td>\n",
       "      <td>0</td>\n",
       "      <td>0</td>\n",
       "      <td>0</td>\n",
       "      <td>0</td>\n",
       "    </tr>\n",
       "    <tr>\n",
       "      <th>2</th>\n",
       "      <td>0</td>\n",
       "      <td>0</td>\n",
       "      <td>0</td>\n",
       "      <td>0</td>\n",
       "      <td>0</td>\n",
       "      <td>0</td>\n",
       "      <td>0</td>\n",
       "      <td>0</td>\n",
       "      <td>0</td>\n",
       "      <td>0</td>\n",
       "      <td>...</td>\n",
       "      <td>0</td>\n",
       "      <td>0</td>\n",
       "      <td>0</td>\n",
       "      <td>0</td>\n",
       "      <td>0</td>\n",
       "      <td>0</td>\n",
       "      <td>0</td>\n",
       "      <td>0</td>\n",
       "      <td>0</td>\n",
       "      <td>0</td>\n",
       "    </tr>\n",
       "    <tr>\n",
       "      <th>3</th>\n",
       "      <td>0</td>\n",
       "      <td>0</td>\n",
       "      <td>0</td>\n",
       "      <td>0</td>\n",
       "      <td>0</td>\n",
       "      <td>0</td>\n",
       "      <td>0</td>\n",
       "      <td>0</td>\n",
       "      <td>0</td>\n",
       "      <td>0</td>\n",
       "      <td>...</td>\n",
       "      <td>0</td>\n",
       "      <td>0</td>\n",
       "      <td>0</td>\n",
       "      <td>0</td>\n",
       "      <td>0</td>\n",
       "      <td>0</td>\n",
       "      <td>0</td>\n",
       "      <td>0</td>\n",
       "      <td>0</td>\n",
       "      <td>0</td>\n",
       "    </tr>\n",
       "    <tr>\n",
       "      <th>4</th>\n",
       "      <td>0</td>\n",
       "      <td>0</td>\n",
       "      <td>0</td>\n",
       "      <td>0</td>\n",
       "      <td>0</td>\n",
       "      <td>0</td>\n",
       "      <td>0</td>\n",
       "      <td>0</td>\n",
       "      <td>0</td>\n",
       "      <td>0</td>\n",
       "      <td>...</td>\n",
       "      <td>0</td>\n",
       "      <td>0</td>\n",
       "      <td>0</td>\n",
       "      <td>0</td>\n",
       "      <td>0</td>\n",
       "      <td>0</td>\n",
       "      <td>0</td>\n",
       "      <td>0</td>\n",
       "      <td>0</td>\n",
       "      <td>0</td>\n",
       "    </tr>\n",
       "    <tr>\n",
       "      <th>...</th>\n",
       "      <td>...</td>\n",
       "      <td>...</td>\n",
       "      <td>...</td>\n",
       "      <td>...</td>\n",
       "      <td>...</td>\n",
       "      <td>...</td>\n",
       "      <td>...</td>\n",
       "      <td>...</td>\n",
       "      <td>...</td>\n",
       "      <td>...</td>\n",
       "      <td>...</td>\n",
       "      <td>...</td>\n",
       "      <td>...</td>\n",
       "      <td>...</td>\n",
       "      <td>...</td>\n",
       "      <td>...</td>\n",
       "      <td>...</td>\n",
       "      <td>...</td>\n",
       "      <td>...</td>\n",
       "      <td>...</td>\n",
       "      <td>...</td>\n",
       "    </tr>\n",
       "    <tr>\n",
       "      <th>2855</th>\n",
       "      <td>0</td>\n",
       "      <td>0</td>\n",
       "      <td>0</td>\n",
       "      <td>0</td>\n",
       "      <td>0</td>\n",
       "      <td>0</td>\n",
       "      <td>0</td>\n",
       "      <td>0</td>\n",
       "      <td>0</td>\n",
       "      <td>0</td>\n",
       "      <td>...</td>\n",
       "      <td>0</td>\n",
       "      <td>0</td>\n",
       "      <td>0</td>\n",
       "      <td>0</td>\n",
       "      <td>0</td>\n",
       "      <td>0</td>\n",
       "      <td>0</td>\n",
       "      <td>0</td>\n",
       "      <td>0</td>\n",
       "      <td>0</td>\n",
       "    </tr>\n",
       "    <tr>\n",
       "      <th>2856</th>\n",
       "      <td>0</td>\n",
       "      <td>0</td>\n",
       "      <td>0</td>\n",
       "      <td>0</td>\n",
       "      <td>0</td>\n",
       "      <td>0</td>\n",
       "      <td>0</td>\n",
       "      <td>0</td>\n",
       "      <td>0</td>\n",
       "      <td>0</td>\n",
       "      <td>...</td>\n",
       "      <td>0</td>\n",
       "      <td>0</td>\n",
       "      <td>0</td>\n",
       "      <td>0</td>\n",
       "      <td>0</td>\n",
       "      <td>0</td>\n",
       "      <td>0</td>\n",
       "      <td>0</td>\n",
       "      <td>0</td>\n",
       "      <td>0</td>\n",
       "    </tr>\n",
       "    <tr>\n",
       "      <th>2857</th>\n",
       "      <td>0</td>\n",
       "      <td>0</td>\n",
       "      <td>0</td>\n",
       "      <td>0</td>\n",
       "      <td>0</td>\n",
       "      <td>0</td>\n",
       "      <td>0</td>\n",
       "      <td>0</td>\n",
       "      <td>0</td>\n",
       "      <td>0</td>\n",
       "      <td>...</td>\n",
       "      <td>0</td>\n",
       "      <td>0</td>\n",
       "      <td>0</td>\n",
       "      <td>0</td>\n",
       "      <td>0</td>\n",
       "      <td>0</td>\n",
       "      <td>0</td>\n",
       "      <td>0</td>\n",
       "      <td>0</td>\n",
       "      <td>0</td>\n",
       "    </tr>\n",
       "    <tr>\n",
       "      <th>2858</th>\n",
       "      <td>0</td>\n",
       "      <td>0</td>\n",
       "      <td>0</td>\n",
       "      <td>0</td>\n",
       "      <td>0</td>\n",
       "      <td>0</td>\n",
       "      <td>0</td>\n",
       "      <td>0</td>\n",
       "      <td>0</td>\n",
       "      <td>0</td>\n",
       "      <td>...</td>\n",
       "      <td>0</td>\n",
       "      <td>0</td>\n",
       "      <td>0</td>\n",
       "      <td>0</td>\n",
       "      <td>0</td>\n",
       "      <td>0</td>\n",
       "      <td>0</td>\n",
       "      <td>0</td>\n",
       "      <td>0</td>\n",
       "      <td>0</td>\n",
       "    </tr>\n",
       "    <tr>\n",
       "      <th>2859</th>\n",
       "      <td>0</td>\n",
       "      <td>0</td>\n",
       "      <td>0</td>\n",
       "      <td>0</td>\n",
       "      <td>0</td>\n",
       "      <td>0</td>\n",
       "      <td>0</td>\n",
       "      <td>0</td>\n",
       "      <td>0</td>\n",
       "      <td>0</td>\n",
       "      <td>...</td>\n",
       "      <td>0</td>\n",
       "      <td>0</td>\n",
       "      <td>0</td>\n",
       "      <td>0</td>\n",
       "      <td>0</td>\n",
       "      <td>0</td>\n",
       "      <td>0</td>\n",
       "      <td>0</td>\n",
       "      <td>0</td>\n",
       "      <td>0</td>\n",
       "    </tr>\n",
       "  </tbody>\n",
       "</table>\n",
       "<p>2860 rows × 5139 columns</p>\n",
       "</div>"
      ],
      "text/plain": [
       "      aa  aaaaaaaaand  aap  aaron  aaronmacgruder  ab  ability  abortion  \\\n",
       "0      0            0    0      0               0   0        0         0   \n",
       "1      0            0    0      0               0   0        0         0   \n",
       "2      0            0    0      0               0   0        0         0   \n",
       "3      0            0    0      0               0   0        0         0   \n",
       "4      0            0    0      0               0   0        0         0   \n",
       "...   ..          ...  ...    ...             ...  ..      ...       ...   \n",
       "2855   0            0    0      0               0   0        0         0   \n",
       "2856   0            0    0      0               0   0        0         0   \n",
       "2857   0            0    0      0               0   0        0         0   \n",
       "2858   0            0    0      0               0   0        0         0   \n",
       "2859   0            0    0      0               0   0        0         0   \n",
       "\n",
       "      about  abraham  ...  zimmerman  zimmy  zion  zionist  zipperheads  zoe  \\\n",
       "0         0        0  ...          0      0     0        0            0    0   \n",
       "1         0        0  ...          0      0     0        0            0    0   \n",
       "2         0        0  ...          0      0     0        0            0    0   \n",
       "3         0        0  ...          0      0     0        0            0    0   \n",
       "4         0        0  ...          0      0     0        0            0    0   \n",
       "...     ...      ...  ...        ...    ...   ...      ...          ...  ...   \n",
       "2855      0        0  ...          0      0     0        0            0    0   \n",
       "2856      0        0  ...          0      0     0        0            0    0   \n",
       "2857      0        0  ...          0      0     0        0            0    0   \n",
       "2858      0        0  ...          0      0     0        0            0    0   \n",
       "2859      0        0  ...          0      0     0        0            0    0   \n",
       "\n",
       "      zog  zone  zoom  zzzzzz  \n",
       "0       0     0     0       0  \n",
       "1       0     0     0       0  \n",
       "2       0     0     0       0  \n",
       "3       0     0     0       0  \n",
       "4       0     0     0       0  \n",
       "...   ...   ...   ...     ...  \n",
       "2855    0     0     0       0  \n",
       "2856    0     0     0       0  \n",
       "2857    0     0     0       0  \n",
       "2858    0     0     0       0  \n",
       "2859    0     0     0       0  \n",
       "\n",
       "[2860 rows x 5139 columns]"
      ]
     },
     "execution_count": 7,
     "metadata": {},
     "output_type": "execute_result"
    }
   ],
   "source": [
    "# get all unique words in the corpus\n",
    "vocab = cv.get_feature_names()\n",
    "# show document feature vectors\n",
    "df_BOW = pd.DataFrame(cv_matrix, columns=vocab)\n",
    "df_BOW['class'] = df['class']\n",
    "df_BOW"
   ]
  },
  {
   "cell_type": "code",
   "execution_count": 8,
   "metadata": {},
   "outputs": [],
   "source": [
    "BOW_offensive = df_BOW[df_BOW['class'] == 1]\n",
    "BOW_hate = df_BOW[df_BOW['class'] == 0]\n",
    "BOW_offensive = BOW_offensive.drop(columns=['class'])\n",
    "BOW_hate = BOW_hate.drop(columns=['class'])"
   ]
  },
  {
   "cell_type": "code",
   "execution_count": 9,
   "metadata": {},
   "outputs": [
    {
     "data": {
      "text/plain": [
       "<matplotlib.axes._subplots.AxesSubplot at 0x18127cdebc8>"
      ]
     },
     "execution_count": 9,
     "metadata": {},
     "output_type": "execute_result"
    },
    {
     "data": {
      "image/png": "[encoded data removed]",
      "text/plain": [
       "<Figure size 432x288 with 1 Axes>"
      ]
     },
     "metadata": {
      "needs_background": "light"
     },
     "output_type": "display_data"
    }
   ],
   "source": [
    "BOW_count_off=BOW_offensive.sum()\n",
    "BOW_off_largest = BOW_count_off.nlargest(20)\n",
    "BOW_off_largest.plot(kind='bar')"
   ]
  },
  {
   "cell_type": "code",
   "execution_count": 10,
   "metadata": {},
   "outputs": [
    {
     "data": {
      "text/plain": [
       "<matplotlib.axes._subplots.AxesSubplot at 0x18127ce5c48>"
      ]
     },
     "execution_count": 10,
     "metadata": {},
     "output_type": "execute_result"
    },
    {
     "data": {
      "image/png": "[encoded data removed]",
      "text/plain": [
       "<Figure size 432x288 with 1 Axes>"
      ]
     },
     "metadata": {
      "needs_background": "light"
     },
     "output_type": "display_data"
    }
   ],
   "source": [
    "BOW_count_hate=BOW_hate.sum()\n",
    "BOW_hate_largest = BOW_count_hate.nlargest(20)\n",
    "BOW_hate_largest.plot(kind='bar')"
   ]
  },
  {
   "cell_type": "markdown",
   "metadata": {},
   "source": [
    "### Training BOW with Logistic Regression and Decision Tree"
   ]
  },
  {
   "cell_type": "code",
   "execution_count": 11,
   "metadata": {},
   "outputs": [],
   "source": [
    "X = pd.concat([df_BOW.drop(columns = ['class']), df[['mention_count', 'url_count', 'hashtag_count']]], axis = 1)\n",
    "y = df['class'].astype(int)"
   ]
  },
  {
   "cell_type": "code",
   "execution_count": 12,
   "metadata": {},
   "outputs": [],
   "source": [
    "from sklearn.model_selection import train_test_split\n",
    "X_train, X_test, y_train, y_test = train_test_split(X, y, random_state=42)"
   ]
  },
  {
   "cell_type": "code",
   "execution_count": 20,
   "metadata": {},
   "outputs": [],
   "source": [
    "from sklearn.pipeline import Pipeline\n",
    "from sklearn.model_selection import KFold, GridSearchCV\n",
    "from sklearn.linear_model import LogisticRegression\n",
    "from sklearn.tree import DecisionTreeClassifier\n",
    "from sklearn.feature_selection import SelectFromModel\n",
    "from sklearn.metrics import classification_report"
   ]
  },
  {
   "cell_type": "code",
   "execution_count": 21,
   "metadata": {},
   "outputs": [
    {
     "name": "stderr",
     "output_type": "stream",
     "text": [
      "C:\\Users\\seanx\\anaconda3\\lib\\site-packages\\sklearn\\model_selection\\_split.py:296: FutureWarning: Setting a random_state has no effect since shuffle is False. This will raise an error in 0.24. You should leave random_state to its default (None), or set shuffle=True.\n",
      "  FutureWarning\n",
      "[Parallel(n_jobs=1)]: Using backend SequentialBackend with 1 concurrent workers.\n"
     ]
    },
    {
     "name": "stdout",
     "output_type": "stream",
     "text": [
      "Fitting 5 folds for each of 1 candidates, totalling 5 fits\n",
      "[CV]  ................................................................\n",
      "[CV] ................................................. , total=   0.7s\n",
      "[CV]  ................................................................\n"
     ]
    },
    {
     "name": "stderr",
     "output_type": "stream",
     "text": [
      "[Parallel(n_jobs=1)]: Done   1 out of   1 | elapsed:    0.6s remaining:    0.0s\n"
     ]
    },
    {
     "name": "stdout",
     "output_type": "stream",
     "text": [
      "[CV] ................................................. , total=   0.8s\n",
      "[CV]  ................................................................\n",
      "[CV] ................................................. , total=   0.7s\n",
      "[CV]  ................................................................\n",
      "[CV] ................................................. , total=   0.7s\n",
      "[CV]  ................................................................\n",
      "[CV] ................................................. , total=   0.8s\n"
     ]
    },
    {
     "name": "stderr",
     "output_type": "stream",
     "text": [
      "[Parallel(n_jobs=1)]: Done   5 out of   5 | elapsed:    3.7s finished\n"
     ]
    }
   ],
   "source": [
    "param_grid = [{}]\n",
    "lg = GridSearchCV(LogisticRegression(), \n",
    "                           param_grid,\n",
    "                           cv=KFold(n_splits=5, \n",
    "                                              random_state=42).split(X_train, y_train), \n",
    "                           verbose=2)\n",
    "y_preds_lg = lg.fit(X_train, y_train).predict(X_test)"
   ]
  },
  {
   "cell_type": "code",
   "execution_count": 22,
   "metadata": {},
   "outputs": [
    {
     "data": {
      "text/plain": [
       "<sklearn.metrics._plot.confusion_matrix.ConfusionMatrixDisplay at 0x18134f0ca48>"
      ]
     },
     "execution_count": 22,
     "metadata": {},
     "output_type": "execute_result"
    },
    {
     "data": {
      "image/png": "[encoded data removed]",
      "text/plain": [
       "<Figure size 432x288 with 2 Axes>"
      ]
     },
     "metadata": {
      "needs_background": "light"
     },
     "output_type": "display_data"
    }
   ],
   "source": [
    "from sklearn.metrics import plot_confusion_matrix\n",
    "class_names = ['Offensive', 'Hate']\n",
    "plot_confusion_matrix(lg, X_test, y_test, cmap=plt.cm.Blues, display_labels = class_names, values_format = '')"
   ]
  },
  {
   "cell_type": "raw",
   "metadata": {},
   "source": [
    "from sklearn.metrics import classification_report\n",
    "report_lg_BOW = classification_report( y_test, y_preds_lg)\n",
    "print(report)"
   ]
  },
  {
   "cell_type": "code",
   "execution_count": 23,
   "metadata": {},
   "outputs": [
    {
     "data": {
      "text/html": [
       "<div>\n",
       "<style scoped>\n",
       "    .dataframe tbody tr th:only-of-type {\n",
       "        vertical-align: middle;\n",
       "    }\n",
       "\n",
       "    .dataframe tbody tr th {\n",
       "        vertical-align: top;\n",
       "    }\n",
       "\n",
       "    .dataframe thead th {\n",
       "        text-align: right;\n",
       "    }\n",
       "</style>\n",
       "<table border=\"1\" class=\"dataframe\">\n",
       "  <thead>\n",
       "    <tr style=\"text-align: right;\">\n",
       "      <th></th>\n",
       "      <th>features</th>\n",
       "      <th>importance</th>\n",
       "    </tr>\n",
       "  </thead>\n",
       "  <tbody>\n",
       "    <tr>\n",
       "      <th>1455</th>\n",
       "      <td>faggit</td>\n",
       "      <td>-2.108559</td>\n",
       "    </tr>\n",
       "    <tr>\n",
       "      <th>3030</th>\n",
       "      <td>niggaz</td>\n",
       "      <td>-2.079960</td>\n",
       "    </tr>\n",
       "    <tr>\n",
       "      <th>3027</th>\n",
       "      <td>niggahs</td>\n",
       "      <td>-1.998250</td>\n",
       "    </tr>\n",
       "    <tr>\n",
       "      <th>1456</th>\n",
       "      <td>faggot</td>\n",
       "      <td>-1.949334</td>\n",
       "    </tr>\n",
       "    <tr>\n",
       "      <th>3033</th>\n",
       "      <td>niggerous</td>\n",
       "      <td>-1.639718</td>\n",
       "    </tr>\n",
       "    <tr>\n",
       "      <th>1732</th>\n",
       "      <td>gave</td>\n",
       "      <td>-1.594995</td>\n",
       "    </tr>\n",
       "    <tr>\n",
       "      <th>3023</th>\n",
       "      <td>nigerian</td>\n",
       "      <td>-1.555284</td>\n",
       "    </tr>\n",
       "    <tr>\n",
       "      <th>2411</th>\n",
       "      <td>kike</td>\n",
       "      <td>-1.518631</td>\n",
       "    </tr>\n",
       "    <tr>\n",
       "      <th>4949</th>\n",
       "      <td>whistle</td>\n",
       "      <td>-1.385182</td>\n",
       "    </tr>\n",
       "    <tr>\n",
       "      <th>3546</th>\n",
       "      <td>queen</td>\n",
       "      <td>-1.284641</td>\n",
       "    </tr>\n",
       "    <tr>\n",
       "      <th>444</th>\n",
       "      <td>black</td>\n",
       "      <td>-1.274186</td>\n",
       "    </tr>\n",
       "    <tr>\n",
       "      <th>1305</th>\n",
       "      <td>dwn</td>\n",
       "      <td>-1.250660</td>\n",
       "    </tr>\n",
       "    <tr>\n",
       "      <th>1458</th>\n",
       "      <td>fagjo</td>\n",
       "      <td>-1.218483</td>\n",
       "    </tr>\n",
       "    <tr>\n",
       "      <th>1453</th>\n",
       "      <td>facts</td>\n",
       "      <td>-1.196915</td>\n",
       "    </tr>\n",
       "    <tr>\n",
       "      <th>911</th>\n",
       "      <td>cool</td>\n",
       "      <td>-1.137583</td>\n",
       "    </tr>\n",
       "    <tr>\n",
       "      <th>3283</th>\n",
       "      <td>pennsylvanians</td>\n",
       "      <td>-1.103863</td>\n",
       "    </tr>\n",
       "    <tr>\n",
       "      <th>4160</th>\n",
       "      <td>sperm</td>\n",
       "      <td>-1.076972</td>\n",
       "    </tr>\n",
       "    <tr>\n",
       "      <th>851</th>\n",
       "      <td>comfortable</td>\n",
       "      <td>-1.046262</td>\n",
       "    </tr>\n",
       "    <tr>\n",
       "      <th>348</th>\n",
       "      <td>beaner</td>\n",
       "      <td>-1.045217</td>\n",
       "    </tr>\n",
       "    <tr>\n",
       "      <th>4061</th>\n",
       "      <td>smfh</td>\n",
       "      <td>-1.037146</td>\n",
       "    </tr>\n",
       "  </tbody>\n",
       "</table>\n",
       "</div>"
      ],
      "text/plain": [
       "            features  importance\n",
       "1455          faggit   -2.108559\n",
       "3030          niggaz   -2.079960\n",
       "3027         niggahs   -1.998250\n",
       "1456          faggot   -1.949334\n",
       "3033       niggerous   -1.639718\n",
       "1732            gave   -1.594995\n",
       "3023        nigerian   -1.555284\n",
       "2411            kike   -1.518631\n",
       "4949         whistle   -1.385182\n",
       "3546           queen   -1.284641\n",
       "444            black   -1.274186\n",
       "1305             dwn   -1.250660\n",
       "1458           fagjo   -1.218483\n",
       "1453           facts   -1.196915\n",
       "911             cool   -1.137583\n",
       "3283  pennsylvanians   -1.103863\n",
       "4160           sperm   -1.076972\n",
       "851      comfortable   -1.046262\n",
       "348           beaner   -1.045217\n",
       "4061            smfh   -1.037146"
      ]
     },
     "execution_count": 23,
     "metadata": {},
     "output_type": "execute_result"
    }
   ],
   "source": [
    "importance_logreg = lg.best_estimator_.coef_.tolist()[0]\n",
    "\n",
    "features = list(df_BOW.columns)\n",
    "feature_importance_logreg = pd.DataFrame(list(zip(features,importance_logreg)), columns =['features','importance'])\n",
    "feature_importance_logreg = feature_importance_logreg.sort_values(by='importance')\n",
    "feature_importance_logreg.head(20)"
   ]
  },
  {
   "cell_type": "code",
   "execution_count": 28,
   "metadata": {},
   "outputs": [
    {
     "name": "stderr",
     "output_type": "stream",
     "text": [
      "C:\\Users\\seanx\\anaconda3\\lib\\site-packages\\sklearn\\model_selection\\_split.py:296: FutureWarning: Setting a random_state has no effect since shuffle is False. This will raise an error in 0.24. You should leave random_state to its default (None), or set shuffle=True.\n",
      "  FutureWarning\n",
      "[Parallel(n_jobs=1)]: Using backend SequentialBackend with 1 concurrent workers.\n"
     ]
    },
    {
     "name": "stdout",
     "output_type": "stream",
     "text": [
      "Fitting 5 folds for each of 1 candidates, totalling 5 fits\n",
      "[CV]  ................................................................\n",
      "[CV] ................................................. , total=   0.9s\n",
      "[CV]  ................................................................\n"
     ]
    },
    {
     "name": "stderr",
     "output_type": "stream",
     "text": [
      "[Parallel(n_jobs=1)]: Done   1 out of   1 | elapsed:    0.8s remaining:    0.0s\n"
     ]
    },
    {
     "name": "stdout",
     "output_type": "stream",
     "text": [
      "[CV] ................................................. , total=   1.0s\n",
      "[CV]  ................................................................\n",
      "[CV] ................................................. , total=   1.1s\n",
      "[CV]  ................................................................\n",
      "[CV] ................................................. , total=   1.1s\n",
      "[CV]  ................................................................\n",
      "[CV] ................................................. , total=   1.1s\n"
     ]
    },
    {
     "name": "stderr",
     "output_type": "stream",
     "text": [
      "[Parallel(n_jobs=1)]: Done   5 out of   5 | elapsed:    5.1s finished\n"
     ]
    }
   ],
   "source": [
    "tree = GridSearchCV(DecisionTreeClassifier(), \n",
    "                           param_grid,\n",
    "                           cv=KFold(n_splits=5, \n",
    "                                              random_state=42).split(X_train, y_train), \n",
    "                           verbose=2)\n",
    "\n",
    "y_preds_tree = tree.fit(X_train, y_train).predict(X_test)"
   ]
  },
  {
   "cell_type": "code",
   "execution_count": 29,
   "metadata": {},
   "outputs": [
    {
     "data": {
      "text/plain": [
       "<sklearn.metrics._plot.confusion_matrix.ConfusionMatrixDisplay at 0x181350725c8>"
      ]
     },
     "execution_count": 29,
     "metadata": {},
     "output_type": "execute_result"
    },
    {
     "data": {
      "image/png": "[encoded data removed]",
      "text/plain": [
       "<Figure size 432x288 with 2 Axes>"
      ]
     },
     "metadata": {
      "needs_background": "light"
     },
     "output_type": "display_data"
    }
   ],
   "source": [
    "plot_confusion_matrix(tree, X_test, y_test, cmap=plt.cm.Blues, display_labels = class_names, values_format = '')"
   ]
  },
  {
   "cell_type": "code",
   "execution_count": 30,
   "metadata": {},
   "outputs": [
    {
     "name": "stdout",
     "output_type": "stream",
     "text": [
      "              precision    recall  f1-score   support\n",
      "\n",
      "           0       0.73      0.76      0.75       341\n",
      "           1       0.78      0.75      0.76       374\n",
      "\n",
      "    accuracy                           0.76       715\n",
      "   macro avg       0.76      0.76      0.76       715\n",
      "weighted avg       0.76      0.76      0.76       715\n",
      "\n"
     ]
    }
   ],
   "source": [
    "report_tree = classification_report( y_test, y_preds_tree)\n",
    "print(report_tree)"
   ]
  },
  {
   "cell_type": "code",
   "execution_count": 32,
   "metadata": {},
   "outputs": [
    {
     "data": {
      "text/html": [
       "<div>\n",
       "<style scoped>\n",
       "    .dataframe tbody tr th:only-of-type {\n",
       "        vertical-align: middle;\n",
       "    }\n",
       "\n",
       "    .dataframe tbody tr th {\n",
       "        vertical-align: top;\n",
       "    }\n",
       "\n",
       "    .dataframe thead th {\n",
       "        text-align: right;\n",
       "    }\n",
       "</style>\n",
       "<table border=\"1\" class=\"dataframe\">\n",
       "  <thead>\n",
       "    <tr style=\"text-align: right;\">\n",
       "      <th></th>\n",
       "      <th>features</th>\n",
       "      <th>importance</th>\n",
       "    </tr>\n",
       "  </thead>\n",
       "  <tbody>\n",
       "    <tr>\n",
       "      <th>432</th>\n",
       "      <td>bitch</td>\n",
       "      <td>0.090740</td>\n",
       "    </tr>\n",
       "    <tr>\n",
       "      <th>434</th>\n",
       "      <td>bitches</td>\n",
       "      <td>0.071552</td>\n",
       "    </tr>\n",
       "    <tr>\n",
       "      <th>3535</th>\n",
       "      <td>pussies</td>\n",
       "      <td>0.069759</td>\n",
       "    </tr>\n",
       "    <tr>\n",
       "      <th>2046</th>\n",
       "      <td>hoeing</td>\n",
       "      <td>0.065031</td>\n",
       "    </tr>\n",
       "    <tr>\n",
       "      <th>2044</th>\n",
       "      <td>hockey</td>\n",
       "      <td>0.054338</td>\n",
       "    </tr>\n",
       "    <tr>\n",
       "      <th>3027</th>\n",
       "      <td>niggahs</td>\n",
       "      <td>0.025053</td>\n",
       "    </tr>\n",
       "    <tr>\n",
       "      <th>3023</th>\n",
       "      <td>nigerian</td>\n",
       "      <td>0.024679</td>\n",
       "    </tr>\n",
       "    <tr>\n",
       "      <th>3025</th>\n",
       "      <td>niggaa</td>\n",
       "      <td>0.010125</td>\n",
       "    </tr>\n",
       "    <tr>\n",
       "      <th>224</th>\n",
       "      <td>ass</td>\n",
       "      <td>0.007966</td>\n",
       "    </tr>\n",
       "    <tr>\n",
       "      <th>1455</th>\n",
       "      <td>faggit</td>\n",
       "      <td>0.007966</td>\n",
       "    </tr>\n",
       "    <tr>\n",
       "      <th>4949</th>\n",
       "      <td>whistle</td>\n",
       "      <td>0.007725</td>\n",
       "    </tr>\n",
       "    <tr>\n",
       "      <th>1305</th>\n",
       "      <td>dwn</td>\n",
       "      <td>0.007717</td>\n",
       "    </tr>\n",
       "    <tr>\n",
       "      <th>5138</th>\n",
       "      <td>zzzzzz</td>\n",
       "      <td>0.007306</td>\n",
       "    </tr>\n",
       "    <tr>\n",
       "      <th>4683</th>\n",
       "      <td>tv</td>\n",
       "      <td>0.006569</td>\n",
       "    </tr>\n",
       "    <tr>\n",
       "      <th>423</th>\n",
       "      <td>bird</td>\n",
       "      <td>0.006502</td>\n",
       "    </tr>\n",
       "    <tr>\n",
       "      <th>1942</th>\n",
       "      <td>hat</td>\n",
       "      <td>0.006423</td>\n",
       "    </tr>\n",
       "    <tr>\n",
       "      <th>1676</th>\n",
       "      <td>fuckin</td>\n",
       "      <td>0.006230</td>\n",
       "    </tr>\n",
       "    <tr>\n",
       "      <th>4716</th>\n",
       "      <td>ugliest</td>\n",
       "      <td>0.005897</td>\n",
       "    </tr>\n",
       "    <tr>\n",
       "      <th>1667</th>\n",
       "      <td>fuccing</td>\n",
       "      <td>0.005763</td>\n",
       "    </tr>\n",
       "    <tr>\n",
       "      <th>1157</th>\n",
       "      <td>dice</td>\n",
       "      <td>0.004977</td>\n",
       "    </tr>\n",
       "  </tbody>\n",
       "</table>\n",
       "</div>"
      ],
      "text/plain": [
       "      features  importance\n",
       "432      bitch    0.090740\n",
       "434    bitches    0.071552\n",
       "3535   pussies    0.069759\n",
       "2046    hoeing    0.065031\n",
       "2044    hockey    0.054338\n",
       "3027   niggahs    0.025053\n",
       "3023  nigerian    0.024679\n",
       "3025    niggaa    0.010125\n",
       "224        ass    0.007966\n",
       "1455    faggit    0.007966\n",
       "4949   whistle    0.007725\n",
       "1305       dwn    0.007717\n",
       "5138    zzzzzz    0.007306\n",
       "4683        tv    0.006569\n",
       "423       bird    0.006502\n",
       "1942       hat    0.006423\n",
       "1676    fuckin    0.006230\n",
       "4716   ugliest    0.005897\n",
       "1667   fuccing    0.005763\n",
       "1157      dice    0.004977"
      ]
     },
     "execution_count": 32,
     "metadata": {},
     "output_type": "execute_result"
    }
   ],
   "source": [
    "importance_tree = tree.best_estimator_.feature_importances_.tolist()\n",
    "\n",
    "features = list(df_BOW.columns)\n",
    "feature_importance_logreg = pd.DataFrame(list(zip(features,importance_tree)), columns =['features','importance'])\n",
    "feature_importance_logreg = feature_importance_logreg.sort_values(by='importance', ascending = False)\n",
    "feature_importance_logreg.head(20)"
   ]
  },
  {
   "cell_type": "markdown",
   "metadata": {},
   "source": [
    "### Word2vec embedding\n"
   ]
  },
  {
   "cell_type": "code",
   "execution_count": 33,
   "metadata": {},
   "outputs": [],
   "source": [
    "from gensim.models import word2vec\n",
    "import nltk"
   ]
  },
  {
   "cell_type": "code",
   "execution_count": 34,
   "metadata": {},
   "outputs": [
    {
     "data": {
      "text/plain": [
       "{'hate': ['cripples', 'dairy', 'goddamit', 'ing', 'stubborn'],\n",
       " 'love': ['victoria', 'mitchell', 'bread', 'hrs', 'emojis'],\n",
       " 'nigger': ['ohio', 'kidnapped', 'traditions', 'span', 'republicans'],\n",
       " 'faggot': ['tear', 'overly', 'powered', 'worlds', 'little'],\n",
       " 'bitch': ['next', 'daddy', 'knowing', 'rules', 'hoe'],\n",
       " 'pussy': ['another', 'strap', 'catfish', 'shara', 'scien'],\n",
       " 'cracker': ['woohoo', 'friday', 'month', 'blocked', 'have'],\n",
       " 'nigga': ['lame', 'yah', 'cuffin', 'knowing', 'dont'],\n",
       " 'homo': ['fairly', 'bullet', 'dudes', 'describes', 'twisted'],\n",
       " 'cunt': ['piss', 'dress', 'pm', 'freshman', 'profile'],\n",
       " 'fuck': ['fish', 'zima', 'whiney', 'hmm', 'talking'],\n",
       " 'trash': ['white', 'arkansas', 'westbrook', 'trailer', 'texarkana'],\n",
       " 'queer': ['sweet', 'gaywrites', 'fotos', 'lbum', 'yost']}"
      ]
     },
     "execution_count": 34,
     "metadata": {},
     "output_type": "execute_result"
    }
   ],
   "source": [
    "feature_size = 100    # Word vector dimensionality  \n",
    "window_context = 30          # Context window size                                                                                    \n",
    "min_word_count = 1   # Minimum word count                        \n",
    "sample = 1e-3   # Downsample setting for frequent words\n",
    "\n",
    "wpt = nltk.WordPunctTokenizer()\n",
    "tokenized_corpus = [wpt.tokenize(document) for document in corpus]\n",
    "\n",
    "# Set values for various parameters\n",
    "feature_size = 100    # Word vector dimensionality  \n",
    "window_context = 30          # Context window size                                                                                    \n",
    "min_word_count = 1   # Minimum word count                        \n",
    "sample = 1e-3   # Downsample setting for frequent words\n",
    "\n",
    "w2v_model = word2vec.Word2Vec(tokenized_corpus, size=feature_size, \n",
    "                          window=window_context, min_count=min_word_count,\n",
    "                          sample=sample, iter=50)\n",
    "\n",
    "# view similar words based on gensim's model\n",
    "similar_words = {search_term: [item[0] for item in w2v_model.wv.most_similar([search_term], topn=5)]\n",
    "                  for search_term in ['hate','love','nigger','faggot','bitch','pussy','cracker','nigga','homo','cunt','fuck','trash','queer']}\n",
    "similar_words"
   ]
  },
  {
   "cell_type": "code",
   "execution_count": 35,
   "metadata": {},
   "outputs": [
    {
     "name": "stderr",
     "output_type": "stream",
     "text": [
      "C:\\Users\\seanx\\anaconda3\\lib\\site-packages\\ipykernel_launcher.py:9: DeprecationWarning: Call to deprecated `__getitem__` (Method will be removed in 4.0.0, use self.wv.__getitem__() instead).\n",
      "  if __name__ == '__main__':\n"
     ]
    },
    {
     "data": {
      "text/html": [
       "<div>\n",
       "<style scoped>\n",
       "    .dataframe tbody tr th:only-of-type {\n",
       "        vertical-align: middle;\n",
       "    }\n",
       "\n",
       "    .dataframe tbody tr th {\n",
       "        vertical-align: top;\n",
       "    }\n",
       "\n",
       "    .dataframe thead th {\n",
       "        text-align: right;\n",
       "    }\n",
       "</style>\n",
       "<table border=\"1\" class=\"dataframe\">\n",
       "  <thead>\n",
       "    <tr style=\"text-align: right;\">\n",
       "      <th></th>\n",
       "      <th>0</th>\n",
       "      <th>1</th>\n",
       "      <th>2</th>\n",
       "      <th>3</th>\n",
       "      <th>4</th>\n",
       "      <th>5</th>\n",
       "      <th>6</th>\n",
       "      <th>7</th>\n",
       "      <th>8</th>\n",
       "      <th>9</th>\n",
       "      <th>...</th>\n",
       "      <th>90</th>\n",
       "      <th>91</th>\n",
       "      <th>92</th>\n",
       "      <th>93</th>\n",
       "      <th>94</th>\n",
       "      <th>95</th>\n",
       "      <th>96</th>\n",
       "      <th>97</th>\n",
       "      <th>98</th>\n",
       "      <th>99</th>\n",
       "    </tr>\n",
       "  </thead>\n",
       "  <tbody>\n",
       "    <tr>\n",
       "      <th>0</th>\n",
       "      <td>0.373675</td>\n",
       "      <td>-0.230015</td>\n",
       "      <td>0.714431</td>\n",
       "      <td>-0.735537</td>\n",
       "      <td>-0.351424</td>\n",
       "      <td>0.085093</td>\n",
       "      <td>0.062134</td>\n",
       "      <td>0.783520</td>\n",
       "      <td>0.231252</td>\n",
       "      <td>-0.476048</td>\n",
       "      <td>...</td>\n",
       "      <td>-0.665011</td>\n",
       "      <td>0.448188</td>\n",
       "      <td>-0.706569</td>\n",
       "      <td>-0.413789</td>\n",
       "      <td>-0.582460</td>\n",
       "      <td>1.273598</td>\n",
       "      <td>0.191490</td>\n",
       "      <td>-0.290541</td>\n",
       "      <td>0.202037</td>\n",
       "      <td>-0.172052</td>\n",
       "    </tr>\n",
       "    <tr>\n",
       "      <th>1</th>\n",
       "      <td>0.486814</td>\n",
       "      <td>-0.394742</td>\n",
       "      <td>0.597427</td>\n",
       "      <td>-0.243557</td>\n",
       "      <td>-0.401050</td>\n",
       "      <td>0.233365</td>\n",
       "      <td>-0.067375</td>\n",
       "      <td>0.468252</td>\n",
       "      <td>0.562432</td>\n",
       "      <td>-0.624963</td>\n",
       "      <td>...</td>\n",
       "      <td>-0.435749</td>\n",
       "      <td>0.420060</td>\n",
       "      <td>-0.684954</td>\n",
       "      <td>-0.311156</td>\n",
       "      <td>-0.210534</td>\n",
       "      <td>1.051670</td>\n",
       "      <td>-0.012179</td>\n",
       "      <td>-0.396400</td>\n",
       "      <td>0.284964</td>\n",
       "      <td>-0.182925</td>\n",
       "    </tr>\n",
       "    <tr>\n",
       "      <th>2</th>\n",
       "      <td>0.462764</td>\n",
       "      <td>-0.142431</td>\n",
       "      <td>0.283101</td>\n",
       "      <td>-0.382809</td>\n",
       "      <td>-0.205366</td>\n",
       "      <td>-0.062921</td>\n",
       "      <td>-0.054206</td>\n",
       "      <td>0.328629</td>\n",
       "      <td>0.513112</td>\n",
       "      <td>-0.279831</td>\n",
       "      <td>...</td>\n",
       "      <td>-0.382145</td>\n",
       "      <td>0.072100</td>\n",
       "      <td>-0.363213</td>\n",
       "      <td>-0.144610</td>\n",
       "      <td>-0.275720</td>\n",
       "      <td>0.764615</td>\n",
       "      <td>-0.067597</td>\n",
       "      <td>-0.138319</td>\n",
       "      <td>-0.034561</td>\n",
       "      <td>-0.226595</td>\n",
       "    </tr>\n",
       "    <tr>\n",
       "      <th>3</th>\n",
       "      <td>0.311067</td>\n",
       "      <td>0.094030</td>\n",
       "      <td>0.371831</td>\n",
       "      <td>-0.720960</td>\n",
       "      <td>0.070567</td>\n",
       "      <td>-0.275243</td>\n",
       "      <td>-0.138265</td>\n",
       "      <td>0.753090</td>\n",
       "      <td>0.695362</td>\n",
       "      <td>-0.315212</td>\n",
       "      <td>...</td>\n",
       "      <td>-0.467322</td>\n",
       "      <td>0.354582</td>\n",
       "      <td>-0.462764</td>\n",
       "      <td>-0.179455</td>\n",
       "      <td>-0.572666</td>\n",
       "      <td>1.183279</td>\n",
       "      <td>0.078388</td>\n",
       "      <td>-0.286536</td>\n",
       "      <td>-0.241993</td>\n",
       "      <td>-0.101877</td>\n",
       "    </tr>\n",
       "    <tr>\n",
       "      <th>4</th>\n",
       "      <td>0.426236</td>\n",
       "      <td>-0.535375</td>\n",
       "      <td>0.231810</td>\n",
       "      <td>-0.440138</td>\n",
       "      <td>-0.162199</td>\n",
       "      <td>0.039922</td>\n",
       "      <td>0.089507</td>\n",
       "      <td>0.444615</td>\n",
       "      <td>0.616601</td>\n",
       "      <td>-0.151653</td>\n",
       "      <td>...</td>\n",
       "      <td>-0.067522</td>\n",
       "      <td>-0.232671</td>\n",
       "      <td>-0.270197</td>\n",
       "      <td>-0.145257</td>\n",
       "      <td>-0.176683</td>\n",
       "      <td>0.635260</td>\n",
       "      <td>-0.362133</td>\n",
       "      <td>-0.002625</td>\n",
       "      <td>0.001137</td>\n",
       "      <td>-0.412617</td>\n",
       "    </tr>\n",
       "    <tr>\n",
       "      <th>...</th>\n",
       "      <td>...</td>\n",
       "      <td>...</td>\n",
       "      <td>...</td>\n",
       "      <td>...</td>\n",
       "      <td>...</td>\n",
       "      <td>...</td>\n",
       "      <td>...</td>\n",
       "      <td>...</td>\n",
       "      <td>...</td>\n",
       "      <td>...</td>\n",
       "      <td>...</td>\n",
       "      <td>...</td>\n",
       "      <td>...</td>\n",
       "      <td>...</td>\n",
       "      <td>...</td>\n",
       "      <td>...</td>\n",
       "      <td>...</td>\n",
       "      <td>...</td>\n",
       "      <td>...</td>\n",
       "      <td>...</td>\n",
       "      <td>...</td>\n",
       "    </tr>\n",
       "    <tr>\n",
       "      <th>2855</th>\n",
       "      <td>0.000023</td>\n",
       "      <td>-0.259850</td>\n",
       "      <td>0.392050</td>\n",
       "      <td>-0.754084</td>\n",
       "      <td>-0.260333</td>\n",
       "      <td>0.221180</td>\n",
       "      <td>0.004116</td>\n",
       "      <td>0.180272</td>\n",
       "      <td>1.278783</td>\n",
       "      <td>-0.522734</td>\n",
       "      <td>...</td>\n",
       "      <td>-0.279368</td>\n",
       "      <td>0.146638</td>\n",
       "      <td>-0.331120</td>\n",
       "      <td>0.070323</td>\n",
       "      <td>-0.171738</td>\n",
       "      <td>0.865657</td>\n",
       "      <td>0.509313</td>\n",
       "      <td>-0.833680</td>\n",
       "      <td>-0.057110</td>\n",
       "      <td>0.239282</td>\n",
       "    </tr>\n",
       "    <tr>\n",
       "      <th>2856</th>\n",
       "      <td>-0.676594</td>\n",
       "      <td>-0.512071</td>\n",
       "      <td>-0.277378</td>\n",
       "      <td>-0.915348</td>\n",
       "      <td>0.470070</td>\n",
       "      <td>-1.090661</td>\n",
       "      <td>0.524657</td>\n",
       "      <td>0.405020</td>\n",
       "      <td>1.302435</td>\n",
       "      <td>0.994136</td>\n",
       "      <td>...</td>\n",
       "      <td>-0.761035</td>\n",
       "      <td>-0.583643</td>\n",
       "      <td>0.252071</td>\n",
       "      <td>-0.224010</td>\n",
       "      <td>0.308403</td>\n",
       "      <td>0.210485</td>\n",
       "      <td>0.430354</td>\n",
       "      <td>0.097715</td>\n",
       "      <td>-0.836047</td>\n",
       "      <td>-0.794200</td>\n",
       "    </tr>\n",
       "    <tr>\n",
       "      <th>2857</th>\n",
       "      <td>0.129349</td>\n",
       "      <td>-0.473366</td>\n",
       "      <td>0.132169</td>\n",
       "      <td>-0.153433</td>\n",
       "      <td>-0.198069</td>\n",
       "      <td>-0.036501</td>\n",
       "      <td>0.169728</td>\n",
       "      <td>0.113545</td>\n",
       "      <td>0.736861</td>\n",
       "      <td>-0.109327</td>\n",
       "      <td>...</td>\n",
       "      <td>-0.238459</td>\n",
       "      <td>0.076648</td>\n",
       "      <td>-0.362068</td>\n",
       "      <td>-0.173284</td>\n",
       "      <td>0.193302</td>\n",
       "      <td>0.472523</td>\n",
       "      <td>0.088705</td>\n",
       "      <td>-0.168773</td>\n",
       "      <td>0.102990</td>\n",
       "      <td>-0.199194</td>\n",
       "    </tr>\n",
       "    <tr>\n",
       "      <th>2858</th>\n",
       "      <td>0.488192</td>\n",
       "      <td>-0.085960</td>\n",
       "      <td>0.528659</td>\n",
       "      <td>-0.259825</td>\n",
       "      <td>-0.003201</td>\n",
       "      <td>-0.023892</td>\n",
       "      <td>-0.109818</td>\n",
       "      <td>0.654652</td>\n",
       "      <td>0.696183</td>\n",
       "      <td>-0.647049</td>\n",
       "      <td>...</td>\n",
       "      <td>-0.351267</td>\n",
       "      <td>0.199073</td>\n",
       "      <td>-0.850993</td>\n",
       "      <td>0.007775</td>\n",
       "      <td>-0.345665</td>\n",
       "      <td>1.398811</td>\n",
       "      <td>-0.207070</td>\n",
       "      <td>-0.211729</td>\n",
       "      <td>-0.161200</td>\n",
       "      <td>-0.092603</td>\n",
       "    </tr>\n",
       "    <tr>\n",
       "      <th>2859</th>\n",
       "      <td>0.290628</td>\n",
       "      <td>-0.000254</td>\n",
       "      <td>0.377351</td>\n",
       "      <td>-0.450030</td>\n",
       "      <td>-0.134264</td>\n",
       "      <td>-0.002508</td>\n",
       "      <td>-0.100516</td>\n",
       "      <td>0.449530</td>\n",
       "      <td>0.506227</td>\n",
       "      <td>-0.330204</td>\n",
       "      <td>...</td>\n",
       "      <td>-0.333356</td>\n",
       "      <td>0.045538</td>\n",
       "      <td>-0.329676</td>\n",
       "      <td>-0.079024</td>\n",
       "      <td>-0.452614</td>\n",
       "      <td>0.733168</td>\n",
       "      <td>-0.078918</td>\n",
       "      <td>-0.152436</td>\n",
       "      <td>-0.188876</td>\n",
       "      <td>-0.209288</td>\n",
       "    </tr>\n",
       "  </tbody>\n",
       "</table>\n",
       "<p>2860 rows × 100 columns</p>\n",
       "</div>"
      ],
      "text/plain": [
       "            0         1         2         3         4         5         6   \\\n",
       "0     0.373675 -0.230015  0.714431 -0.735537 -0.351424  0.085093  0.062134   \n",
       "1     0.486814 -0.394742  0.597427 -0.243557 -0.401050  0.233365 -0.067375   \n",
       "2     0.462764 -0.142431  0.283101 -0.382809 -0.205366 -0.062921 -0.054206   \n",
       "3     0.311067  0.094030  0.371831 -0.720960  0.070567 -0.275243 -0.138265   \n",
       "4     0.426236 -0.535375  0.231810 -0.440138 -0.162199  0.039922  0.089507   \n",
       "...        ...       ...       ...       ...       ...       ...       ...   \n",
       "2855  0.000023 -0.259850  0.392050 -0.754084 -0.260333  0.221180  0.004116   \n",
       "2856 -0.676594 -0.512071 -0.277378 -0.915348  0.470070 -1.090661  0.524657   \n",
       "2857  0.129349 -0.473366  0.132169 -0.153433 -0.198069 -0.036501  0.169728   \n",
       "2858  0.488192 -0.085960  0.528659 -0.259825 -0.003201 -0.023892 -0.109818   \n",
       "2859  0.290628 -0.000254  0.377351 -0.450030 -0.134264 -0.002508 -0.100516   \n",
       "\n",
       "            7         8         9   ...        90        91        92  \\\n",
       "0     0.783520  0.231252 -0.476048  ... -0.665011  0.448188 -0.706569   \n",
       "1     0.468252  0.562432 -0.624963  ... -0.435749  0.420060 -0.684954   \n",
       "2     0.328629  0.513112 -0.279831  ... -0.382145  0.072100 -0.363213   \n",
       "3     0.753090  0.695362 -0.315212  ... -0.467322  0.354582 -0.462764   \n",
       "4     0.444615  0.616601 -0.151653  ... -0.067522 -0.232671 -0.270197   \n",
       "...        ...       ...       ...  ...       ...       ...       ...   \n",
       "2855  0.180272  1.278783 -0.522734  ... -0.279368  0.146638 -0.331120   \n",
       "2856  0.405020  1.302435  0.994136  ... -0.761035 -0.583643  0.252071   \n",
       "2857  0.113545  0.736861 -0.109327  ... -0.238459  0.076648 -0.362068   \n",
       "2858  0.654652  0.696183 -0.647049  ... -0.351267  0.199073 -0.850993   \n",
       "2859  0.449530  0.506227 -0.330204  ... -0.333356  0.045538 -0.329676   \n",
       "\n",
       "            93        94        95        96        97        98        99  \n",
       "0    -0.413789 -0.582460  1.273598  0.191490 -0.290541  0.202037 -0.172052  \n",
       "1    -0.311156 -0.210534  1.051670 -0.012179 -0.396400  0.284964 -0.182925  \n",
       "2    -0.144610 -0.275720  0.764615 -0.067597 -0.138319 -0.034561 -0.226595  \n",
       "3    -0.179455 -0.572666  1.183279  0.078388 -0.286536 -0.241993 -0.101877  \n",
       "4    -0.145257 -0.176683  0.635260 -0.362133 -0.002625  0.001137 -0.412617  \n",
       "...        ...       ...       ...       ...       ...       ...       ...  \n",
       "2855  0.070323 -0.171738  0.865657  0.509313 -0.833680 -0.057110  0.239282  \n",
       "2856 -0.224010  0.308403  0.210485  0.430354  0.097715 -0.836047 -0.794200  \n",
       "2857 -0.173284  0.193302  0.472523  0.088705 -0.168773  0.102990 -0.199194  \n",
       "2858  0.007775 -0.345665  1.398811 -0.207070 -0.211729 -0.161200 -0.092603  \n",
       "2859 -0.079024 -0.452614  0.733168 -0.078918 -0.152436 -0.188876 -0.209288  \n",
       "\n",
       "[2860 rows x 100 columns]"
      ]
     },
     "execution_count": 35,
     "metadata": {},
     "output_type": "execute_result"
    }
   ],
   "source": [
    "def average_word_vectors(words, model, vocabulary, num_features):\n",
    "    \n",
    "    feature_vector = np.zeros((num_features,),dtype=\"float64\")\n",
    "    nwords = 0.\n",
    "    \n",
    "    for word in words:\n",
    "        if word in vocabulary: \n",
    "            nwords = nwords + 1.\n",
    "            feature_vector = np.add(feature_vector, model[word])\n",
    "    \n",
    "    if nwords:\n",
    "        feature_vector = np.divide(feature_vector, nwords)\n",
    "        \n",
    "    return feature_vector\n",
    "\n",
    "def averaged_word_vectorizer(corpus, model, num_features):\n",
    "    vocabulary = set(model.wv.index2word)\n",
    "    features = [average_word_vectors(tokenized_sentence, model, vocabulary, num_features)\n",
    "                    for tokenized_sentence in corpus]\n",
    "    return np.array(features)\n",
    "\n",
    "w2v_feature_array = averaged_word_vectorizer(corpus=tokenized_corpus, model=w2v_model,\n",
    "                                             num_features=feature_size)\n",
    "pd.DataFrame(w2v_feature_array)"
   ]
  },
  {
   "cell_type": "code",
   "execution_count": 49,
   "metadata": {
    "scrolled": true
   },
   "outputs": [
    {
     "data": {
      "image/png": "[encoded data removed]",
      "text/plain": [
       "<Figure size 1296x720 with 1 Axes>"
      ]
     },
     "metadata": {
      "needs_background": "light"
     },
     "output_type": "display_data"
    }
   ],
   "source": [
    "from sklearn.decomposition import PCA\n",
    "\n",
    "words = sum([[k] + v for k, v in similar_words.items()], [])\n",
    "wvs = w2v_model.wv[words]\n",
    "\n",
    "pca = PCA(n_components=2)\n",
    "np.set_printoptions(suppress=True)\n",
    "P = pca.fit_transform(wvs)\n",
    "labels = words\n",
    "\n",
    "plt.figure(figsize=(18, 10))\n",
    "plt.scatter(P[:, 0], P[:, 1], c='lightgreen', edgecolors='g')\n",
    "for label, x, y in zip(labels, P[:, 0], P[:, 1]):\n",
    "    plt.annotate(label, xy=(x+0.06, y+0.03), xytext=(0, 0), textcoords='offset points')"
   ]
  },
  {
   "cell_type": "code",
   "execution_count": 50,
   "metadata": {},
   "outputs": [],
   "source": [
    "X = pd.DataFrame(w2v_feature_array)\n",
    "y = df['class'].astype(int)\n",
    "X_train, X_test, y_train, y_test = train_test_split(X, y, random_state=42)"
   ]
  },
  {
   "cell_type": "code",
   "execution_count": 51,
   "metadata": {},
   "outputs": [
    {
     "name": "stderr",
     "output_type": "stream",
     "text": [
      "C:\\Users\\seanx\\anaconda3\\lib\\site-packages\\sklearn\\model_selection\\_split.py:296: FutureWarning: Setting a random_state has no effect since shuffle is False. This will raise an error in 0.24. You should leave random_state to its default (None), or set shuffle=True.\n",
      "  FutureWarning\n",
      "[Parallel(n_jobs=1)]: Using backend SequentialBackend with 1 concurrent workers.\n",
      "[Parallel(n_jobs=1)]: Done   1 out of   1 | elapsed:    0.0s remaining:    0.0s\n"
     ]
    },
    {
     "name": "stdout",
     "output_type": "stream",
     "text": [
      "Fitting 5 folds for each of 1 candidates, totalling 5 fits\n",
      "[CV]  ................................................................\n",
      "[CV] ................................................. , total=   0.1s\n",
      "[CV]  ................................................................\n",
      "[CV] ................................................. , total=   0.0s\n",
      "[CV]  ................................................................\n",
      "[CV] ................................................. , total=   0.0s\n",
      "[CV]  ................................................................\n",
      "[CV] ................................................. , total=   0.1s\n",
      "[CV]  ................................................................\n",
      "[CV] ................................................. , total=   0.1s\n"
     ]
    },
    {
     "name": "stderr",
     "output_type": "stream",
     "text": [
      "[Parallel(n_jobs=1)]: Done   5 out of   5 | elapsed:    0.2s finished\n"
     ]
    }
   ],
   "source": [
    "lg_w2v = GridSearchCV(LogisticRegression(max_iter = 1000), \n",
    "                           param_grid,\n",
    "                           cv=KFold(n_splits=5, \n",
    "                                              random_state=42).split(X_train, y_train), \n",
    "                           verbose=2)\n",
    "y_preds_w2v_lg = lg_w2v.fit(X_train, y_train).predict(X_test)"
   ]
  },
  {
   "cell_type": "code",
   "execution_count": 52,
   "metadata": {},
   "outputs": [
    {
     "data": {
      "text/plain": [
       "<sklearn.metrics._plot.confusion_matrix.ConfusionMatrixDisplay at 0x18134d3c548>"
      ]
     },
     "execution_count": 52,
     "metadata": {},
     "output_type": "execute_result"
    },
    {
     "data": {
      "image/png": "[encoded data removed]",
      "text/plain": [
       "<Figure size 432x288 with 2 Axes>"
      ]
     },
     "metadata": {
      "needs_background": "light"
     },
     "output_type": "display_data"
    }
   ],
   "source": [
    "plot_confusion_matrix(lg_w2v, X_test, y_test, cmap=plt.cm.Blues, display_labels = class_names, values_format = '')"
   ]
  },
  {
   "cell_type": "code",
   "execution_count": 53,
   "metadata": {},
   "outputs": [
    {
     "name": "stdout",
     "output_type": "stream",
     "text": [
      "              precision    recall  f1-score   support\n",
      "\n",
      "           0       0.77      0.76      0.76       341\n",
      "           1       0.78      0.79      0.79       374\n",
      "\n",
      "    accuracy                           0.78       715\n",
      "   macro avg       0.78      0.78      0.78       715\n",
      "weighted avg       0.78      0.78      0.78       715\n",
      "\n"
     ]
    }
   ],
   "source": [
    "report_w2v = classification_report( y_test, y_preds_w2v_lg)\n",
    "print(report_w2v)"
   ]
  },
  {
   "cell_type": "code",
   "execution_count": 55,
   "metadata": {},
   "outputs": [
    {
     "name": "stderr",
     "output_type": "stream",
     "text": [
      "C:\\Users\\seanx\\anaconda3\\lib\\site-packages\\sklearn\\model_selection\\_split.py:296: FutureWarning: Setting a random_state has no effect since shuffle is False. This will raise an error in 0.24. You should leave random_state to its default (None), or set shuffle=True.\n",
      "  FutureWarning\n",
      "[Parallel(n_jobs=1)]: Using backend SequentialBackend with 1 concurrent workers.\n",
      "[Parallel(n_jobs=1)]: Done   1 out of   1 | elapsed:    0.1s remaining:    0.0s\n"
     ]
    },
    {
     "name": "stdout",
     "output_type": "stream",
     "text": [
      "Fitting 5 folds for each of 1 candidates, totalling 5 fits\n",
      "[CV]  ................................................................\n",
      "[CV] ................................................. , total=   0.2s\n",
      "[CV]  ................................................................\n",
      "[CV] ................................................. , total=   0.2s\n",
      "[CV]  ................................................................\n",
      "[CV] ................................................. , total=   0.1s\n",
      "[CV]  ................................................................\n",
      "[CV] ................................................. , total=   0.1s\n",
      "[CV]  ................................................................\n",
      "[CV] ................................................. , total=   0.1s\n"
     ]
    },
    {
     "name": "stderr",
     "output_type": "stream",
     "text": [
      "[Parallel(n_jobs=1)]: Done   5 out of   5 | elapsed:    0.6s finished\n"
     ]
    }
   ],
   "source": [
    "tree_w2v = GridSearchCV(DecisionTreeClassifier(), \n",
    "                           param_grid,\n",
    "                           cv=KFold(n_splits=5, \n",
    "                                              random_state=42).split(X_train, y_train), \n",
    "                           verbose=2)\n",
    "y_preds_w2v_tree = tree_w2v.fit(X_train, y_train).predict(X_test)"
   ]
  },
  {
   "cell_type": "code",
   "execution_count": 56,
   "metadata": {},
   "outputs": [
    {
     "data": {
      "text/plain": [
       "<sklearn.metrics._plot.confusion_matrix.ConfusionMatrixDisplay at 0x18141b13688>"
      ]
     },
     "execution_count": 56,
     "metadata": {},
     "output_type": "execute_result"
    },
    {
     "data": {
      "image/png": "[encoded data removed]",
      "text/plain": [
       "<Figure size 432x288 with 2 Axes>"
      ]
     },
     "metadata": {
      "needs_background": "light"
     },
     "output_type": "display_data"
    }
   ],
   "source": [
    "plot_confusion_matrix(tree_w2v, X_test, y_test, cmap=plt.cm.Blues, display_labels = class_names, values_format = '')"
   ]
  },
  {
   "cell_type": "code",
   "execution_count": 57,
   "metadata": {},
   "outputs": [
    {
     "name": "stdout",
     "output_type": "stream",
     "text": [
      "              precision    recall  f1-score   support\n",
      "\n",
      "           0       0.65      0.65      0.65       341\n",
      "           1       0.68      0.68      0.68       374\n",
      "\n",
      "    accuracy                           0.67       715\n",
      "   macro avg       0.67      0.67      0.67       715\n",
      "weighted avg       0.67      0.67      0.67       715\n",
      "\n"
     ]
    }
   ],
   "source": [
    "report_w2v_tree = classification_report( y_test, y_preds_w2v_tree)\n",
    "print(report_w2v_tree)"
   ]
  },
  {
   "cell_type": "markdown",
   "metadata": {},
   "source": [
    "### Combining BOW and W2V"
   ]
  },
  {
   "cell_type": "code",
   "execution_count": 79,
   "metadata": {},
   "outputs": [],
   "source": [
    "X_mixed = pd.concat([pd.DataFrame(w2v_feature_array), df_BOW.drop(columns=['class'])], axis=1)\n",
    "y = df['class'].astype(int)\n",
    "X_train, X_test, y_train, y_test = train_test_split(X, y, random_state=42)"
   ]
  },
  {
   "cell_type": "code",
   "execution_count": 80,
   "metadata": {},
   "outputs": [
    {
     "name": "stderr",
     "output_type": "stream",
     "text": [
      "C:\\Users\\seanx\\anaconda3\\lib\\site-packages\\sklearn\\model_selection\\_split.py:296: FutureWarning: Setting a random_state has no effect since shuffle is False. This will raise an error in 0.24. You should leave random_state to its default (None), or set shuffle=True.\n",
      "  FutureWarning\n",
      "[Parallel(n_jobs=1)]: Using backend SequentialBackend with 1 concurrent workers.\n"
     ]
    },
    {
     "name": "stdout",
     "output_type": "stream",
     "text": [
      "Fitting 5 folds for each of 1 candidates, totalling 5 fits\n",
      "[CV]  ................................................................\n",
      "[CV] ................................................. , total=   1.3s\n",
      "[CV]  ................................................................\n"
     ]
    },
    {
     "name": "stderr",
     "output_type": "stream",
     "text": [
      "[Parallel(n_jobs=1)]: Done   1 out of   1 | elapsed:    1.2s remaining:    0.0s\n"
     ]
    },
    {
     "name": "stdout",
     "output_type": "stream",
     "text": [
      "[CV] ................................................. , total=   1.2s\n",
      "[CV]  ................................................................\n",
      "[CV] ................................................. , total=   1.3s\n",
      "[CV]  ................................................................\n",
      "[CV] ................................................. , total=   1.2s\n",
      "[CV]  ................................................................\n",
      "[CV] ................................................. , total=   1.2s\n"
     ]
    },
    {
     "name": "stderr",
     "output_type": "stream",
     "text": [
      "[Parallel(n_jobs=1)]: Done   5 out of   5 | elapsed:    6.2s finished\n"
     ]
    }
   ],
   "source": [
    "lg_mixed = GridSearchCV(LogisticRegression(max_iter = 1000), \n",
    "                           param_grid,\n",
    "                           cv=KFold(n_splits=5, \n",
    "                                              random_state=42).split(X_train, y_train), \n",
    "                           verbose=2)\n",
    "y_preds_mixed = lg_mixed.fit(X_train, y_train).predict(X_test)"
   ]
  },
  {
   "cell_type": "code",
   "execution_count": 81,
   "metadata": {},
   "outputs": [
    {
     "data": {
      "text/plain": [
       "<sklearn.metrics._plot.confusion_matrix.ConfusionMatrixDisplay at 0x18143ae4548>"
      ]
     },
     "execution_count": 81,
     "metadata": {},
     "output_type": "execute_result"
    },
    {
     "data": {
      "image/png": "[encoded data removed]",
      "text/plain": [
       "<Figure size 432x288 with 2 Axes>"
      ]
     },
     "metadata": {
      "needs_background": "light"
     },
     "output_type": "display_data"
    }
   ],
   "source": [
    "plot_confusion_matrix(lg_mixed, X_test, y_test, cmap=plt.cm.Blues, display_labels = class_names, values_format = '')"
   ]
  },
  {
   "cell_type": "code",
   "execution_count": 82,
   "metadata": {},
   "outputs": [
    {
     "name": "stdout",
     "output_type": "stream",
     "text": [
      "              precision    recall  f1-score   support\n",
      "\n",
      "           0       0.76      0.79      0.78       341\n",
      "           1       0.80      0.77      0.79       374\n",
      "\n",
      "    accuracy                           0.78       715\n",
      "   macro avg       0.78      0.78      0.78       715\n",
      "weighted avg       0.78      0.78      0.78       715\n",
      "\n"
     ]
    }
   ],
   "source": [
    "report_lg_mixed = classification_report( y_test, y_preds_mixed)\n",
    "print(report_lg_mixed)"
   ]
  },
  {
   "cell_type": "code",
   "execution_count": 83,
   "metadata": {},
   "outputs": [
    {
     "data": {
      "text/html": [
       "<div>\n",
       "<style scoped>\n",
       "    .dataframe tbody tr th:only-of-type {\n",
       "        vertical-align: middle;\n",
       "    }\n",
       "\n",
       "    .dataframe tbody tr th {\n",
       "        vertical-align: top;\n",
       "    }\n",
       "\n",
       "    .dataframe thead th {\n",
       "        text-align: right;\n",
       "    }\n",
       "</style>\n",
       "<table border=\"1\" class=\"dataframe\">\n",
       "  <thead>\n",
       "    <tr style=\"text-align: right;\">\n",
       "      <th></th>\n",
       "      <th>features</th>\n",
       "      <th>importance</th>\n",
       "    </tr>\n",
       "  </thead>\n",
       "  <tbody>\n",
       "    <tr>\n",
       "      <th>1455</th>\n",
       "      <td>emoji</td>\n",
       "      <td>-2.108559</td>\n",
       "    </tr>\n",
       "    <tr>\n",
       "      <th>3030</th>\n",
       "      <td>muslims</td>\n",
       "      <td>-2.079960</td>\n",
       "    </tr>\n",
       "    <tr>\n",
       "      <th>3027</th>\n",
       "      <td>murdered</td>\n",
       "      <td>-1.998250</td>\n",
       "    </tr>\n",
       "    <tr>\n",
       "      <th>1456</th>\n",
       "      <td>emojis</td>\n",
       "      <td>-1.949334</td>\n",
       "    </tr>\n",
       "    <tr>\n",
       "      <th>3033</th>\n",
       "      <td>muthafucka</td>\n",
       "      <td>-1.639718</td>\n",
       "    </tr>\n",
       "    <tr>\n",
       "      <th>1732</th>\n",
       "      <td>found</td>\n",
       "      <td>-1.594995</td>\n",
       "    </tr>\n",
       "    <tr>\n",
       "      <th>3023</th>\n",
       "      <td>muhhfuckin</td>\n",
       "      <td>-1.555284</td>\n",
       "    </tr>\n",
       "    <tr>\n",
       "      <th>2411</th>\n",
       "      <td>jezzy</td>\n",
       "      <td>-1.518631</td>\n",
       "    </tr>\n",
       "    <tr>\n",
       "      <th>4949</th>\n",
       "      <td>wannabe</td>\n",
       "      <td>-1.385182</td>\n",
       "    </tr>\n",
       "    <tr>\n",
       "      <th>3546</th>\n",
       "      <td>pray</td>\n",
       "      <td>-1.284641</td>\n",
       "    </tr>\n",
       "    <tr>\n",
       "      <th>444</th>\n",
       "      <td>bc</td>\n",
       "      <td>-1.274186</td>\n",
       "    </tr>\n",
       "    <tr>\n",
       "      <th>1305</th>\n",
       "      <td>dm</td>\n",
       "      <td>-1.250660</td>\n",
       "    </tr>\n",
       "    <tr>\n",
       "      <th>1458</th>\n",
       "      <td>encrusted</td>\n",
       "      <td>-1.218483</td>\n",
       "    </tr>\n",
       "    <tr>\n",
       "      <th>1453</th>\n",
       "      <td>emm</td>\n",
       "      <td>-1.196915</td>\n",
       "    </tr>\n",
       "    <tr>\n",
       "      <th>911</th>\n",
       "      <td>closer</td>\n",
       "      <td>-1.137583</td>\n",
       "    </tr>\n",
       "    <tr>\n",
       "      <th>3283</th>\n",
       "      <td>otter</td>\n",
       "      <td>-1.103863</td>\n",
       "    </tr>\n",
       "    <tr>\n",
       "      <th>4160</th>\n",
       "      <td>smfh</td>\n",
       "      <td>-1.076972</td>\n",
       "    </tr>\n",
       "    <tr>\n",
       "      <th>851</th>\n",
       "      <td>chill</td>\n",
       "      <td>-1.046262</td>\n",
       "    </tr>\n",
       "    <tr>\n",
       "      <th>348</th>\n",
       "      <td>aunt</td>\n",
       "      <td>-1.045217</td>\n",
       "    </tr>\n",
       "    <tr>\n",
       "      <th>4061</th>\n",
       "      <td>shout</td>\n",
       "      <td>-1.037146</td>\n",
       "    </tr>\n",
       "  </tbody>\n",
       "</table>\n",
       "</div>"
      ],
      "text/plain": [
       "        features  importance\n",
       "1455       emoji   -2.108559\n",
       "3030     muslims   -2.079960\n",
       "3027    murdered   -1.998250\n",
       "1456      emojis   -1.949334\n",
       "3033  muthafucka   -1.639718\n",
       "1732       found   -1.594995\n",
       "3023  muhhfuckin   -1.555284\n",
       "2411       jezzy   -1.518631\n",
       "4949     wannabe   -1.385182\n",
       "3546        pray   -1.284641\n",
       "444           bc   -1.274186\n",
       "1305          dm   -1.250660\n",
       "1458   encrusted   -1.218483\n",
       "1453         emm   -1.196915\n",
       "911       closer   -1.137583\n",
       "3283       otter   -1.103863\n",
       "4160        smfh   -1.076972\n",
       "851        chill   -1.046262\n",
       "348         aunt   -1.045217\n",
       "4061       shout   -1.037146"
      ]
     },
     "execution_count": 83,
     "metadata": {},
     "output_type": "execute_result"
    }
   ],
   "source": [
    "features = list(X_mixed.columns)\n",
    "feature_importance_logreg = pd.DataFrame(list(zip(features,importance_logreg)), columns =['features','importance'])\n",
    "feature_importance_logreg = feature_importance_logreg.sort_values(by='importance')\n",
    "feature_importance_logreg.head(20)"
   ]
  },
  {
   "cell_type": "code",
   "execution_count": 91,
   "metadata": {},
   "outputs": [
    {
     "name": "stdout",
     "output_type": "stream",
     "text": [
      "Fitting 5 folds for each of 1 candidates, totalling 5 fits\n",
      "[CV]  ................................................................\n"
     ]
    },
    {
     "name": "stderr",
     "output_type": "stream",
     "text": [
      "[Parallel(n_jobs=1)]: Using backend SequentialBackend with 1 concurrent workers.\n"
     ]
    },
    {
     "name": "stdout",
     "output_type": "stream",
     "text": [
      "[CV] ................................................. , total=  17.9s\n",
      "[CV]  ................................................................\n"
     ]
    },
    {
     "name": "stderr",
     "output_type": "stream",
     "text": [
      "[Parallel(n_jobs=1)]: Done   1 out of   1 | elapsed:   17.8s remaining:    0.0s\n"
     ]
    },
    {
     "name": "stdout",
     "output_type": "stream",
     "text": [
      "[CV] ................................................. , total=  17.2s\n",
      "[CV]  ................................................................\n",
      "[CV] ................................................. , total=  16.4s\n",
      "[CV]  ................................................................\n",
      "[CV] ................................................. , total=  15.9s\n",
      "[CV]  ................................................................\n",
      "[CV] ................................................. , total=  15.7s\n"
     ]
    },
    {
     "name": "stderr",
     "output_type": "stream",
     "text": [
      "[Parallel(n_jobs=1)]: Done   5 out of   5 | elapsed:  1.4min finished\n"
     ]
    }
   ],
   "source": [
    "from sklearn.svm import SVC\n",
    "\n",
    "svm_mixed = GridSearchCV(SVC(), \n",
    "                           param_grid,\n",
    "                           cv=KFold(n_splits=5, \n",
    "                                              random_state=42).split(X_train, y_train), \n",
    "                           verbose=2)\n",
    "y_preds_svm_mixed = svm_mixed.fit(X_train, y_train).predict(X_test)"
   ]
  },
  {
   "cell_type": "code",
   "execution_count": 92,
   "metadata": {},
   "outputs": [
    {
     "data": {
      "text/plain": [
       "<sklearn.metrics._plot.confusion_matrix.ConfusionMatrixDisplay at 0x18145dfc408>"
      ]
     },
     "execution_count": 92,
     "metadata": {},
     "output_type": "execute_result"
    },
    {
     "data": {
      "image/png": "[encoded data removed]",
      "text/plain": [
       "<Figure size 432x288 with 2 Axes>"
      ]
     },
     "metadata": {
      "needs_background": "light"
     },
     "output_type": "display_data"
    }
   ],
   "source": [
    "plot_confusion_matrix(svm_mixed, X_test, y_test, cmap=plt.cm.Blues, display_labels = class_names, values_format = '')"
   ]
  },
  {
   "cell_type": "code",
   "execution_count": 93,
   "metadata": {},
   "outputs": [
    {
     "name": "stdout",
     "output_type": "stream",
     "text": [
      "              precision    recall  f1-score   support\n",
      "\n",
      "           0       0.81      0.77      0.79       341\n",
      "           1       0.80      0.83      0.82       374\n",
      "\n",
      "    accuracy                           0.80       715\n",
      "   macro avg       0.80      0.80      0.80       715\n",
      "weighted avg       0.80      0.80      0.80       715\n",
      "\n"
     ]
    }
   ],
   "source": [
    "report_svm_mixed = classification_report( y_test, y_preds_svm_mixed)\n",
    "print(report_svm_mixed)"
   ]
  },
  {
   "cell_type": "code",
   "execution_count": null,
   "metadata": {},
   "outputs": [],
   "source": [
    "import lime\n",
    "import lime.lime_tabular\n",
    "\n",
    "i = np.random.randint(0, X_test.shape[0])\n",
    "\n",
    "explainer = lime.lime_tabular.LimeTabularExplainer(training_data = X_train.to_numpy(), \n",
    "                                                   mode = 'classification',\n",
    "                                                   feature_names = features,\n",
    "                                                  class_names = ['Hate', 'Offensive'])\n",
    "\n",
    "exp = explainer.explain_instance(data_row = X_test.iloc[i].to_numpy(), \n",
    "                                 predict_fn = report_svm_mixed.predict_proba)\n",
    "actual = df_BOW['class'][i]\n",
    "\n",
    "if actual == 0:\n",
    "    actual = 'Hate'\n",
    "else:\n",
    "    actual = 'Offensive'\n",
    "\n",
    "print(f'Actual classification: {actual}')\n",
    "exp.show_in_notebook()"
   ]
  },
  {
   "cell_type": "code",
   "execution_count": null,
   "metadata": {},
   "outputs": [],
   "source": []
  }
 ],
 "metadata": {
  "kernelspec": {
   "display_name": "Python 3",
   "language": "python",
   "name": "python3"
  },
  "language_info": {
   "codemirror_mode": {
    "name": "ipython",
    "version": 3
   },
   "file_extension": ".py",
   "mimetype": "text/x-python",
   "name": "python",
   "nbconvert_exporter": "python",
   "pygments_lexer": "ipython3",
   "version": "3.7.6"
  }
 },
 "nbformat": 4,
 "nbformat_minor": 4
}
