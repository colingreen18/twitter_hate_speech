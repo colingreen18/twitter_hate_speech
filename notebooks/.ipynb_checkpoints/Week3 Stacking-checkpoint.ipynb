{
 "cells": [
  {
   "cell_type": "code",
   "execution_count": 1,
   "metadata": {},
   "outputs": [
    {
     "name": "stderr",
     "output_type": "stream",
     "text": [
      "[MLENS] backend: threading\n"
     ]
    }
   ],
   "source": [
    "import pandas as pd\n",
    "import numpy as np\n",
    "from matplotlib import pyplot as plt\n",
    "%matplotlib inline\n",
    "from itertools import combinations\n",
    "from mlens.ensemble import SuperLearner\n",
    "from sklearn.metrics import accuracy_score"
   ]
  },
  {
   "cell_type": "code",
   "execution_count": 2,
   "metadata": {},
   "outputs": [],
   "source": [
    "df_full = pd.read_csv('full_tfidf_df.csv')\n",
    "df_full.drop(columns=['Unnamed: 0'], inplace=True)\n",
    "df_full[['num_tokens','mention_count','url_count','hashtag_count']] = df_full[['num_tokens','mention_count','url_count','hashtag_count']].fillna(0)\n",
    "df_full=df_full.astype('int')\n",
    "features = df_full.drop(columns = 'class')\n",
    "labels = df_full['class']"
   ]
  },
  {
   "cell_type": "code",
   "execution_count": 3,
   "metadata": {},
   "outputs": [],
   "source": [
    "from sklearn.linear_model import LogisticRegression\n",
    "from sklearn.model_selection import train_test_split\n",
    "from sklearn.model_selection import cross_val_score, GridSearchCV, train_test_split, KFold\n",
    "from sklearn.ensemble import BaggingClassifier, ExtraTreesClassifier, RandomForestClassifier\n",
    "from sklearn.neighbors import KNeighborsClassifier\n",
    "from sklearn.linear_model import RidgeClassifier\n",
    "from sklearn.ensemble import VotingClassifier\n",
    "from sklearn.svm import SVC"
   ]
  },
  {
   "cell_type": "code",
   "execution_count": null,
   "metadata": {},
   "outputs": [
    {
     "name": "stdout",
     "output_type": "stream",
     "text": [
      "0.7657613967022309\n",
      "['Random Forest']\n",
      "0.7657613967022309\n",
      "['Random Forest']\n",
      "0.7657613967022309\n",
      "['Extra Trees']\n",
      "0.7657613967022309\n",
      "['Random Forest']\n",
      "0.7657613967022309\n",
      "['KNeighbors']\n",
      "0.7657613967022309\n",
      "['Random Forest']\n"
     ]
    }
   ],
   "source": [
    "names = ['Random Forest', 'Extra Trees', 'KNeighbors', 'SVC', 'Ridge Classifier']\n",
    "X_train, X_test, y_train, y_test = train_test_split(features, labels, test_size = 0.3, random_state = 0)\n",
    "\n",
    "best_clf = LogisticRegression(C=0.001, max_iter=100000)\n",
    "rf = RandomForestClassifier()\n",
    "et = ExtraTreesClassifier()\n",
    "knn = KNeighborsClassifier()\n",
    "svc = SVC()\n",
    "rg = RidgeClassifier()\n",
    "clf_array = [rf, et, knn, svc, rg]\n",
    "\n",
    "\n",
    "def zip_stacked_classifiers(*args):\n",
    "    to_zip = []\n",
    "    for arg in args:\n",
    "        combined_items = sum([list(map(list, combinations(arg, i))) for i in range(len(arg) + 1)], [])\n",
    "        combined_items = filter(lambda x: len(x) > 0, combined_items)\n",
    "        to_zip.append(combined_items)\n",
    "    \n",
    "    return zip(to_zip[0], to_zip[1])\n",
    "\n",
    "stacked_clf_list = zip_stacked_classifiers(clf_array, names)\n",
    "\n",
    "best_combination = [0.00, \"\"]\n",
    "\n",
    "for clf in stacked_clf_list:\n",
    "    \n",
    "    ensemble = SuperLearner(scorer = accuracy_score, \n",
    "                            random_state = 0, \n",
    "                            folds = 10)\n",
    "    ensemble.add(clf[0])\n",
    "    ensemble.add_meta(best_clf)\n",
    "    ensemble.fit(X_train, y_train)\n",
    "    preds = ensemble.predict(X_test)\n",
    "    accuracy = accuracy_score(preds, y_test)\n",
    "    \n",
    "    if accuracy > best_combination[0]:\n",
    "        best_combination[0] = accuracy\n",
    "        best_combination[1] = clf[1]\n",
    "    #print(\"Accuracy score: {0:.3f} {1}\").format(accuracy, clf[1])\n",
    "    print(accuracy)\n",
    "    print(clf[1])\n",
    "    print(best_combination[0])\n",
    "    print(best_combination[1])\n",
    "    \n",
    "#print(\"\\nBest stacking model is {} with accuracy of: {:.3f}\").format(best_combination[1], best_combination[0])"
   ]
  },
  {
   "cell_type": "code",
   "execution_count": 5,
   "metadata": {},
   "outputs": [
    {
     "name": "stdout",
     "output_type": "stream",
     "text": [
      "[0.7657613967022309, ['Random Forest']]\n"
     ]
    }
   ],
   "source": [
    "print(best_combination)"
   ]
  },
  {
   "cell_type": "code",
   "execution_count": 8,
   "metadata": {},
   "outputs": [
    {
     "data": {
      "text/plain": [
       "[RandomForestClassifier(),\n",
       " ExtraTreesClassifier(),\n",
       " KNeighborsClassifier(),\n",
       " SVC(),\n",
       " RidgeClassifier()]"
      ]
     },
     "execution_count": 8,
     "metadata": {},
     "output_type": "execute_result"
    }
   ],
   "source": [
    "clf_array"
   ]
  },
  {
   "cell_type": "code",
   "execution_count": 9,
   "metadata": {},
   "outputs": [
    {
     "data": {
      "text/plain": [
       "['Random Forest', 'Extra Trees', 'KNeighbors', 'SVC', 'Ridge Classifier']"
      ]
     },
     "execution_count": 9,
     "metadata": {},
     "output_type": "execute_result"
    }
   ],
   "source": [
    "names"
   ]
  }
 ],
 "metadata": {
  "kernelspec": {
   "display_name": "Python 3",
   "language": "python",
   "name": "python3"
  }
 },
 "nbformat": 4,
 "nbformat_minor": 4
}
