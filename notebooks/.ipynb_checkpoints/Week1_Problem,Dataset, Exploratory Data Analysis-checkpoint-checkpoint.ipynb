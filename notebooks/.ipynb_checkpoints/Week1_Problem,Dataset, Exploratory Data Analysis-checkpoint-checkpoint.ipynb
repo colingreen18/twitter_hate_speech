{
 "cells": [
  {
   "cell_type": "markdown",
   "metadata": {},
   "source": [
    "# Twitter Hate Speech Analysis - Week 1\n",
    "## Colin Green, Sean Zhang"
   ]
  },
  {
   "cell_type": "markdown",
   "metadata": {},
   "source": [
    "### Problem Statement\n",
    "\n",
    "Social media harassment...."
   ]
  },
  {
   "cell_type": "markdown",
   "metadata": {},
   "source": [
    "### Data Cleaning"
   ]
  },
  {
   "cell_type": "code",
   "execution_count": 6,
   "metadata": {},
   "outputs": [],
   "source": [
    "import pandas as pd\n",
    "import numpy as np\n",
    "from matplotlib import pyplot as plt\n",
    "%matplotlib inline\n",
    "import seaborn as sns\n",
    "pd.options.display.width = 500\n",
    "import nltk\n",
    "import string\n",
    "import re\n",
    "from nltk.stem.porter import *"
   ]
  },
  {
   "cell_type": "code",
   "execution_count": 2,
   "metadata": {},
   "outputs": [],
   "source": [
    "df = pd.read_csv('labeled_data.csv')\n",
    "df = df[df['class'] != 2].iloc[:,1:]\n",
    "df['class'] = df['class'].astype('category')"
   ]
  },
  {
   "cell_type": "code",
   "execution_count": 3,
   "metadata": {},
   "outputs": [
    {
     "data": {
      "text/html": [
       "<div>\n",
       "<style scoped>\n",
       "    .dataframe tbody tr th:only-of-type {\n",
       "        vertical-align: middle;\n",
       "    }\n",
       "\n",
       "    .dataframe tbody tr th {\n",
       "        vertical-align: top;\n",
       "    }\n",
       "\n",
       "    .dataframe thead th {\n",
       "        text-align: right;\n",
       "    }\n",
       "</style>\n",
       "<table border=\"1\" class=\"dataframe\">\n",
       "  <thead>\n",
       "    <tr style=\"text-align: right;\">\n",
       "      <th></th>\n",
       "      <th>count</th>\n",
       "      <th>hate_speech</th>\n",
       "      <th>offensive_language</th>\n",
       "      <th>neither</th>\n",
       "      <th>class</th>\n",
       "      <th>tweet</th>\n",
       "    </tr>\n",
       "  </thead>\n",
       "  <tbody>\n",
       "    <tr>\n",
       "      <th>1</th>\n",
       "      <td>3</td>\n",
       "      <td>0</td>\n",
       "      <td>3</td>\n",
       "      <td>0</td>\n",
       "      <td>1</td>\n",
       "      <td>!!!!! RT @mleew17: boy dats cold...tyga dwn ba...</td>\n",
       "    </tr>\n",
       "    <tr>\n",
       "      <th>2</th>\n",
       "      <td>3</td>\n",
       "      <td>0</td>\n",
       "      <td>3</td>\n",
       "      <td>0</td>\n",
       "      <td>1</td>\n",
       "      <td>!!!!!!! RT @UrKindOfBrand Dawg!!!! RT @80sbaby...</td>\n",
       "    </tr>\n",
       "    <tr>\n",
       "      <th>3</th>\n",
       "      <td>3</td>\n",
       "      <td>0</td>\n",
       "      <td>2</td>\n",
       "      <td>1</td>\n",
       "      <td>1</td>\n",
       "      <td>!!!!!!!!! RT @C_G_Anderson: @viva_based she lo...</td>\n",
       "    </tr>\n",
       "    <tr>\n",
       "      <th>4</th>\n",
       "      <td>6</td>\n",
       "      <td>0</td>\n",
       "      <td>6</td>\n",
       "      <td>0</td>\n",
       "      <td>1</td>\n",
       "      <td>!!!!!!!!!!!!! RT @ShenikaRoberts: The shit you...</td>\n",
       "    </tr>\n",
       "    <tr>\n",
       "      <th>5</th>\n",
       "      <td>3</td>\n",
       "      <td>1</td>\n",
       "      <td>2</td>\n",
       "      <td>0</td>\n",
       "      <td>1</td>\n",
       "      <td>!!!!!!!!!!!!!!!!!!\"@T_Madison_x: The shit just...</td>\n",
       "    </tr>\n",
       "  </tbody>\n",
       "</table>\n",
       "</div>"
      ],
      "text/plain": [
       "   count  hate_speech  offensive_language  neither class                                              tweet\n",
       "1      3            0                   3        0     1  !!!!! RT @mleew17: boy dats cold...tyga dwn ba...\n",
       "2      3            0                   3        0     1  !!!!!!! RT @UrKindOfBrand Dawg!!!! RT @80sbaby...\n",
       "3      3            0                   2        1     1  !!!!!!!!! RT @C_G_Anderson: @viva_based she lo...\n",
       "4      6            0                   6        0     1  !!!!!!!!!!!!! RT @ShenikaRoberts: The shit you...\n",
       "5      3            1                   2        0     1  !!!!!!!!!!!!!!!!!!\"@T_Madison_x: The shit just..."
      ]
     },
     "execution_count": 3,
     "metadata": {},
     "output_type": "execute_result"
    }
   ],
   "source": [
    "df.head()"
   ]
  },
  {
   "cell_type": "markdown",
   "metadata": {},
   "source": [
    "### Data Exploration"
   ]
  },
  {
   "cell_type": "code",
   "execution_count": 4,
   "metadata": {},
   "outputs": [
    {
     "data": {
      "image/png": "[encoded data removed]",
      "text/plain": [
       "<Figure size 432x288 with 1 Axes>"
      ]
     },
     "metadata": {
      "needs_background": "light"
     },
     "output_type": "display_data"
    },
    {
     "name": "stdout",
     "output_type": "stream",
     "text": [
      "Hate speech count:  1430 ( 6.94 %)\n",
      "Offensive speech count:  19190 ( 93.06 %)\n"
     ]
    }
   ],
   "source": [
    "height = (len(df[df['class']==0]), len(df[df['class']==1]))\n",
    "bars = ('Hate speech', 'Offensive speech')\n",
    "plt.bar(bars, height)\n",
    "plt.title('Hate speech vs. Offensive speech count')\n",
    "plt.show()\n",
    "lenhatespeech = len(df[df['class']==0])\n",
    "lenoffspeech = len(df[df['class']==1])\n",
    "\n",
    "print('Hate speech count: ', lenhatespeech, '(', round(100*lenhatespeech/(lenhatespeech+lenoffspeech), 2), '%)')\n",
    "print('Offensive speech count: ', lenoffspeech, '(', round(100*lenoffspeech/(lenhatespeech+lenoffspeech), 2), '%)')\n"
   ]
  },
  {
   "cell_type": "code",
   "execution_count": 7,
   "metadata": {},
   "outputs": [],
   "source": [
    "#Data Preprocessing\n",
    "import nltk\n",
    "stopwords=stopwords = nltk.corpus.stopwords.words('english')\n",
    "other_exclusions = [\"#ff\", \"ff\", \"rt\"]\n",
    "stopwords.extend(other_exclusions)\n",
    "stemmer = PorterStemmer()\n",
    "\n",
    "\n",
    "def preprocess(text_string):\n",
    "    \"\"\"\n",
    "    Accepts a text string and replaces:\n",
    "    1) urls with URLHERE\n",
    "    2) lots of whitespace with one instance\n",
    "    3) mentions with MENTIONHERE\n",
    "\n",
    "    This allows us to get standardized counts of urls and mentions\n",
    "    Without caring about specific people mentioned\n",
    "    \"\"\"\n",
    "    space_pattern = '\\s+'\n",
    "    giant_url_regex = ('http[s]?://(?:[a-zA-Z]|[0-9]|[$-_@.&+]|'\n",
    "        '[!*\\(\\),]|(?:%[0-9a-fA-F][0-9a-fA-F]))+')\n",
    "    mention_regex = '@[\\w\\-]+'\n",
    "    hashtag_regex = '#[\\w\\-]+'\n",
    "    parsed_text = re.sub(space_pattern, ' ', text_string)\n",
    "    parsed_text = re.sub(giant_url_regex, 'URLHERE', parsed_text)\n",
    "    parsed_text = re.sub(mention_regex, 'MENTIONHERE', parsed_text)\n",
    "    parsed_text = re.sub(hashtag_regex, 'HASHTAGHERE', parsed_text)\n",
    "    return parsed_text\n",
    "\n",
    "def tokenize(tweet):\n",
    "    \"\"\"Removes punctuation & excess whitespace, sets to lowercase,\n",
    "    and stems tweets. Returns a list of stemmed tokens.\"\"\"\n",
    "    tweet = \" \".join(re.split(\"[^a-zA-Z]*\", tweet.lower())).strip()\n",
    "    tokens = [stemmer.stem(t) for t in tweet.split()]\n",
    "    return tokens\n",
    "\n",
    "def basic_tokenize(tweet):\n",
    "    tweet = \" \".join(re.split(\"[^a-zA-Z.,!?]*\", tweet.lower())).strip()\n",
    "    return tweet.split()"
   ]
  },
  {
   "cell_type": "code",
   "execution_count": 10,
   "metadata": {},
   "outputs": [],
   "source": [
    "df['tweet_clean'] = ''\n",
    "for i, row in df.iterrows():\n",
    "    df.at[i, 'tweet_clean'] = preprocess(row.tweet)"
   ]
  },
  {
   "cell_type": "code",
   "execution_count": 11,
   "metadata": {},
   "outputs": [
    {
     "data": {
      "text/plain": [
       "1    !!!!! RT MENTIONHERE: boy dats cold...tyga dwn...\n",
       "2    !!!!!!! RT MENTIONHERE Dawg!!!! RT MENTIONHERE...\n",
       "3    !!!!!!!!! RT MENTIONHERE: MENTIONHERE she look...\n",
       "4    !!!!!!!!!!!!! RT MENTIONHERE: The shit you hea...\n",
       "5    !!!!!!!!!!!!!!!!!!\"MENTIONHERE: The shit just ...\n",
       "Name: tweet_clean, dtype: object"
      ]
     },
     "execution_count": 11,
     "metadata": {},
     "output_type": "execute_result"
    }
   ],
   "source": [
    "df['tweet_clean'].head()"
   ]
  },
  {
   "cell_type": "code",
   "execution_count": 12,
   "metadata": {},
   "outputs": [],
   "source": [
    "import spacy\n",
    "nlp = spacy.load('en_core_web_sm')"
   ]
  },
  {
   "cell_type": "code",
   "execution_count": 13,
   "metadata": {},
   "outputs": [],
   "source": [
    "for i, row in df.iterrows():\n",
    "    if(row['tweet_clean'] and len(str(row['tweet_clean'])) < 1000000):\n",
    "        doc = nlp(str(row['tweet_clean']))\n",
    "        adjectives = []\n",
    "        nouns = []\n",
    "        verbs = []\n",
    "        lemmas = []\n",
    "        \n",
    "        for token in doc:\n",
    "            lemmas.append(token.lemma_)\n",
    "            if token.pos == 'ADJ':\n",
    "                adjectives.append(token.lemma_)\n",
    "            if token.pos_ == 'NOUN' or token.pos_ == 'PROPN':\n",
    "                nouns.append(token.lemma_)\n",
    "            if token.pos_ == 'VERB':\n",
    "                verbs.append(token.lemma_)\n",
    "        \n",
    "        df.at[i, 'tweet_lemma'] = ' '.join(lemmas)\n",
    "        df.at[i, 'tweet_nouns'] = ' '.join(nouns)\n",
    "        df.at[i, 'tweet_adjectives'] = ' '.join(adjectives)\n",
    "        df.at[i, 'tweet_verbs'] = ' '.join(verbs)\n",
    "        df.at[i, 'tweet_nav'] = ' '.join(nouns + adjectives + verbs)\n",
    "        df.at[i, 'num_tokens'] = len(lemmas)"
   ]
  },
  {
   "cell_type": "code",
   "execution_count": 14,
   "metadata": {},
   "outputs": [
    {
     "data": {
      "text/html": [
       "<div>\n",
       "<style scoped>\n",
       "    .dataframe tbody tr th:only-of-type {\n",
       "        vertical-align: middle;\n",
       "    }\n",
       "\n",
       "    .dataframe tbody tr th {\n",
       "        vertical-align: top;\n",
       "    }\n",
       "\n",
       "    .dataframe thead th {\n",
       "        text-align: right;\n",
       "    }\n",
       "</style>\n",
       "<table border=\"1\" class=\"dataframe\">\n",
       "  <thead>\n",
       "    <tr style=\"text-align: right;\">\n",
       "      <th></th>\n",
       "      <th>count</th>\n",
       "      <th>hate_speech</th>\n",
       "      <th>offensive_language</th>\n",
       "      <th>neither</th>\n",
       "      <th>class</th>\n",
       "      <th>tweet</th>\n",
       "      <th>tweet_clean</th>\n",
       "      <th>tweet_lemma</th>\n",
       "      <th>tweet_nouns</th>\n",
       "      <th>tweet_adjectives</th>\n",
       "      <th>tweet_verbs</th>\n",
       "      <th>tweet_nav</th>\n",
       "      <th>num_tokens</th>\n",
       "    </tr>\n",
       "  </thead>\n",
       "  <tbody>\n",
       "    <tr>\n",
       "      <th>1</th>\n",
       "      <td>3</td>\n",
       "      <td>0</td>\n",
       "      <td>3</td>\n",
       "      <td>0</td>\n",
       "      <td>1</td>\n",
       "      <td>!!!!! RT @mleew17: boy dats cold...tyga dwn ba...</td>\n",
       "      <td>!!!!! RT MENTIONHERE: boy dats cold...tyga dwn...</td>\n",
       "      <td>! ! ! ! ! RT MENTIONHERE : boy dats cold ... t...</td>\n",
       "      <td>RT MENTIONHERE boy dats tyga dwn cuffin dat ho...</td>\n",
       "      <td></td>\n",
       "      <td></td>\n",
       "      <td>RT MENTIONHERE boy dats tyga dwn cuffin dat ho...</td>\n",
       "      <td>25.0</td>\n",
       "    </tr>\n",
       "    <tr>\n",
       "      <th>2</th>\n",
       "      <td>3</td>\n",
       "      <td>0</td>\n",
       "      <td>3</td>\n",
       "      <td>0</td>\n",
       "      <td>1</td>\n",
       "      <td>!!!!!!! RT @UrKindOfBrand Dawg!!!! RT @80sbaby...</td>\n",
       "      <td>!!!!!!! RT MENTIONHERE Dawg!!!! RT MENTIONHERE...</td>\n",
       "      <td>! ! ! ! ! ! ! RT MENTIONHERE Dawg ! ! ! ! RT M...</td>\n",
       "      <td>RT MENTIONHERE Dawg RT MENTIONHERE bitch shit</td>\n",
       "      <td></td>\n",
       "      <td>fuck start cry</td>\n",
       "      <td>RT MENTIONHERE Dawg RT MENTIONHERE bitch shit ...</td>\n",
       "      <td>33.0</td>\n",
       "    </tr>\n",
       "    <tr>\n",
       "      <th>3</th>\n",
       "      <td>3</td>\n",
       "      <td>0</td>\n",
       "      <td>2</td>\n",
       "      <td>1</td>\n",
       "      <td>1</td>\n",
       "      <td>!!!!!!!!! RT @C_G_Anderson: @viva_based she lo...</td>\n",
       "      <td>!!!!!!!!! RT MENTIONHERE: MENTIONHERE she look...</td>\n",
       "      <td>! ! ! ! ! ! ! ! ! RT MENTIONHERE : MENTIONHERE...</td>\n",
       "      <td>RT MENTIONHERE MENTIONHERE tranny</td>\n",
       "      <td></td>\n",
       "      <td>look</td>\n",
       "      <td>RT MENTIONHERE MENTIONHERE tranny look</td>\n",
       "      <td>18.0</td>\n",
       "    </tr>\n",
       "    <tr>\n",
       "      <th>4</th>\n",
       "      <td>6</td>\n",
       "      <td>0</td>\n",
       "      <td>6</td>\n",
       "      <td>0</td>\n",
       "      <td>1</td>\n",
       "      <td>!!!!!!!!!!!!! RT @ShenikaRoberts: The shit you...</td>\n",
       "      <td>!!!!!!!!!!!!! RT MENTIONHERE: The shit you hea...</td>\n",
       "      <td>! ! ! ! ! ! ! ! ! ! ! ! ! RT MENTIONHERE : the...</td>\n",
       "      <td>RT MENTIONHERE shit faker bitch HASHTAGHERE</td>\n",
       "      <td></td>\n",
       "      <td>hear may may tell</td>\n",
       "      <td>RT MENTIONHERE shit faker bitch HASHTAGHERE he...</td>\n",
       "      <td>41.0</td>\n",
       "    </tr>\n",
       "    <tr>\n",
       "      <th>5</th>\n",
       "      <td>3</td>\n",
       "      <td>1</td>\n",
       "      <td>2</td>\n",
       "      <td>0</td>\n",
       "      <td>1</td>\n",
       "      <td>!!!!!!!!!!!!!!!!!!\"@T_Madison_x: The shit just...</td>\n",
       "      <td>!!!!!!!!!!!!!!!!!!\"MENTIONHERE: The shit just ...</td>\n",
       "      <td>! ! ! ! ! ! ! ! ! ! ! ! ! ! ! ! ! ! \" MENTIONH...</td>\n",
       "      <td>MENTIONHERE shit hoe HASHTAGHERE;&amp;HASHTAGHERE;...</td>\n",
       "      <td></td>\n",
       "      <td>blow claim fuck</td>\n",
       "      <td>MENTIONHERE shit hoe HASHTAGHERE;&amp;HASHTAGHERE;...</td>\n",
       "      <td>45.0</td>\n",
       "    </tr>\n",
       "  </tbody>\n",
       "</table>\n",
       "</div>"
      ],
      "text/plain": [
       "   count  hate_speech  offensive_language  neither class                                              tweet                                        tweet_clean                                        tweet_lemma                                        tweet_nouns tweet_adjectives        tweet_verbs                                          tweet_nav  num_tokens\n",
       "1      3            0                   3        0     1  !!!!! RT @mleew17: boy dats cold...tyga dwn ba...  !!!!! RT MENTIONHERE: boy dats cold...tyga dwn...  ! ! ! ! ! RT MENTIONHERE : boy dats cold ... t...  RT MENTIONHERE boy dats tyga dwn cuffin dat ho...                                      RT MENTIONHERE boy dats tyga dwn cuffin dat ho...        25.0\n",
       "2      3            0                   3        0     1  !!!!!!! RT @UrKindOfBrand Dawg!!!! RT @80sbaby...  !!!!!!! RT MENTIONHERE Dawg!!!! RT MENTIONHERE...  ! ! ! ! ! ! ! RT MENTIONHERE Dawg ! ! ! ! RT M...      RT MENTIONHERE Dawg RT MENTIONHERE bitch shit                      fuck start cry  RT MENTIONHERE Dawg RT MENTIONHERE bitch shit ...        33.0\n",
       "3      3            0                   2        1     1  !!!!!!!!! RT @C_G_Anderson: @viva_based she lo...  !!!!!!!!! RT MENTIONHERE: MENTIONHERE she look...  ! ! ! ! ! ! ! ! ! RT MENTIONHERE : MENTIONHERE...                  RT MENTIONHERE MENTIONHERE tranny                                look             RT MENTIONHERE MENTIONHERE tranny look        18.0\n",
       "4      6            0                   6        0     1  !!!!!!!!!!!!! RT @ShenikaRoberts: The shit you...  !!!!!!!!!!!!! RT MENTIONHERE: The shit you hea...  ! ! ! ! ! ! ! ! ! ! ! ! ! RT MENTIONHERE : the...        RT MENTIONHERE shit faker bitch HASHTAGHERE                   hear may may tell  RT MENTIONHERE shit faker bitch HASHTAGHERE he...        41.0\n",
       "5      3            1                   2        0     1  !!!!!!!!!!!!!!!!!!\"@T_Madison_x: The shit just...  !!!!!!!!!!!!!!!!!!\"MENTIONHERE: The shit just ...  ! ! ! ! ! ! ! ! ! ! ! ! ! ! ! ! ! ! \" MENTIONH...  MENTIONHERE shit hoe HASHTAGHERE;&HASHTAGHERE;...                     blow claim fuck  MENTIONHERE shit hoe HASHTAGHERE;&HASHTAGHERE;...        45.0"
      ]
     },
     "execution_count": 14,
     "metadata": {},
     "output_type": "execute_result"
    }
   ],
   "source": [
    "df.head()"
   ]
  },
  {
   "cell_type": "code",
   "execution_count": 19,
   "metadata": {},
   "outputs": [],
   "source": [
    "#Saving this to SQL database\n",
    "import sqlite3\n",
    "con = sqlite3.connect('twitter_hate.db')\n",
    "\n",
    "drop = '''drop table tweets_nlp'''\n",
    "with sqlite3.connect('twitter_hate.db') as con:\n",
    "    con.execute(drop)\n",
    "df.to_sql('tweets_nlp', con)\n",
    "sql = \"\"\"\n",
    "SELECT * FROM tweets_nlp\n",
    "\"\"\"\n",
    "with sqlite3.connect('twitter_hate.db') as con:\n",
    "    df = pd.read_sql_query(sql, con)"
   ]
  },
  {
   "cell_type": "code",
   "execution_count": 20,
   "metadata": {},
   "outputs": [
    {
     "name": "stdout",
     "output_type": "stream",
     "text": [
      "Data types:\n",
      " index                   int64\n",
      "count                   int64\n",
      "hate_speech             int64\n",
      "offensive_language      int64\n",
      "neither                 int64\n",
      "class                  object\n",
      "tweet                  object\n",
      "tweet_clean            object\n",
      "tweet_lemma            object\n",
      "tweet_nouns            object\n",
      "tweet_adjectives       object\n",
      "tweet_verbs            object\n",
      "tweet_nav              object\n",
      "num_tokens            float64\n",
      "dtype: object\n",
      "Shape:  (20620, 14)\n",
      "Count:\n",
      " index                 20620\n",
      "count                 20620\n",
      "hate_speech           20620\n",
      "offensive_language    20620\n",
      "neither               20620\n",
      "class                 20620\n",
      "tweet                 20620\n",
      "tweet_clean           20620\n",
      "tweet_lemma           20620\n",
      "tweet_nouns           20620\n",
      "tweet_adjectives      20620\n",
      "tweet_verbs           20620\n",
      "tweet_nav             20620\n",
      "num_tokens            20620\n",
      "dtype: int64\n"
     ]
    }
   ],
   "source": [
    "print('Data types:\\n', df.dtypes)\n",
    "print('Shape: ', df.shape)\n",
    "print('Count:\\n', df.count())"
   ]
  },
  {
   "cell_type": "code",
   "execution_count": 21,
   "metadata": {},
   "outputs": [
    {
     "data": {
      "text/plain": [
       "['RT',\n",
       " 'MENTIONHERE',\n",
       " 'boy',\n",
       " 'dats',\n",
       " 'tyga',\n",
       " 'dwn',\n",
       " 'cuffin',\n",
       " 'dat',\n",
       " 'hoe',\n",
       " 'place',\n",
       " 'RT',\n",
       " 'MENTIONHERE',\n",
       " 'Dawg',\n",
       " 'RT',\n",
       " 'MENTIONHERE',\n",
       " 'bitch',\n",
       " 'shit',\n",
       " 'fuck',\n",
       " 'start',\n",
       " 'cry']"
      ]
     },
     "execution_count": 21,
     "metadata": {},
     "output_type": "execute_result"
    }
   ],
   "source": [
    "#here we look at just the noun adjective and verbs\n",
    "def my_tokenizer(text):\n",
    "    return text.split() if text != None else []\n",
    "tokens = df.tweet_nav.map(my_tokenizer).sum()\n",
    "tokens[:20]"
   ]
  },
  {
   "cell_type": "code",
   "execution_count": 22,
   "metadata": {},
   "outputs": [
    {
     "data": {
      "text/plain": [
       "[('MENTIONHERE', 12978),\n",
       " ('bitch', 11111),\n",
       " ('RT', 6181),\n",
       " ('hoe', 4113),\n",
       " ('HASHTAGHERE', 3396),\n",
       " ('get', 2057),\n",
       " ('be', 2035),\n",
       " ('URLHERE', 1656),\n",
       " ('pussy', 1542),\n",
       " ('HASHTAGHERE;MENTIONHERE', 1481),\n",
       " ('fuck', 1412),\n",
       " ('go', 1354),\n",
       " ('ass', 1296),\n",
       " ('shit', 1201),\n",
       " ('can', 1174),\n",
       " ('nigga', 1147),\n",
       " ('say', 919),\n",
       " ('know', 830),\n",
       " ('will', 779),\n",
       " ('make', 712)]"
      ]
     },
     "execution_count": 22,
     "metadata": {},
     "output_type": "execute_result"
    }
   ],
   "source": [
    "from collections import Counter\n",
    "\n",
    "counter = Counter(tokens)\n",
    "counter.most_common(20)"
   ]
  },
  {
   "cell_type": "code",
   "execution_count": 25,
   "metadata": {},
   "outputs": [
    {
     "data": {
      "text/plain": [
       "[('MENTIONHERE', 12978),\n",
       " ('bitch', 11111),\n",
       " ('RT', 6181),\n",
       " ('hoe', 4113),\n",
       " ('HASHTAGHERE', 3396),\n",
       " ('get', 2057),\n",
       " ('URLHERE', 1656),\n",
       " ('pussy', 1542),\n",
       " ('HASHTAGHERE;MENTIONHERE', 1481),\n",
       " ('fuck', 1412),\n",
       " ('go', 1354),\n",
       " ('ass', 1296),\n",
       " ('shit', 1201),\n",
       " ('nigga', 1147),\n",
       " ('say', 919),\n",
       " ('know', 830),\n",
       " ('make', 712),\n",
       " ('amp', 671),\n",
       " ('love', 653),\n",
       " ('u', 653)]"
      ]
     },
     "execution_count": 25,
     "metadata": {},
     "output_type": "execute_result"
    }
   ],
   "source": [
    "from spacy.lang.en.stop_words import STOP_WORDS\n",
    "stopwords.append(STOP_WORDS)\n",
    "\n",
    "def remove_stopwords(tokens):\n",
    "    return [t for t in tokens if t not in stopwords]\n",
    "\n",
    "counter = Counter(remove_stopwords(tokens))\n",
    "counter.most_common(20)"
   ]
  },
  {
   "cell_type": "code",
   "execution_count": null,
   "metadata": {},
   "outputs": [],
   "source": []
  }
 ],
 "metadata": {
  "kernelspec": {
   "display_name": "Python 3",
   "language": "python",
   "name": "python3"
  },
  "language_info": {
   "codemirror_mode": {
    "name": "ipython",
    "version": 3
   },
   "file_extension": ".py",
   "mimetype": "text/x-python",
   "name": "python",
   "nbconvert_exporter": "python",
   "pygments_lexer": "ipython3",
   "version": "3.7.6"
  }
 },
 "nbformat": 4,
 "nbformat_minor": 4
}
