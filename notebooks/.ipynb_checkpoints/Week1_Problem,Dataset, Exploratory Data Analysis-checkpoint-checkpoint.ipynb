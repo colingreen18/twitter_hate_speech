{
 "cells": [
  {
   "cell_type": "markdown",
   "metadata": {},
   "source": [
    "# Twitter Hate Speech Analysis - Week 1\n",
    "## Colin Green, Sean Zhang"
   ]
  },
  {
   "cell_type": "markdown",
   "metadata": {},
   "source": [
    "### Problem Statement\n",
    "\n",
    "Most individuals have encountered some form of hate speech or targeted harassment when participating on online social platforms such as social media, forums, or gaming. Unmoderated hate speech can have harmful consequences to its target and may cause anxiety, depression, or even suicide. Additionally, there are differences between hate speech and offensive language. Offensive language is merely speech that contains offensive words (such as quoting h*e or b*tch from song lyrics), while hate speech is targeted towards an individual or group, and is intended to be derogatory or insulting.\n",
    "\n",
    "Moderation through a simple rule-based approach can help identify speech with offensive language - for example, checking if speech contains strings that match with a list of banned words. However, a rule-based approach would have difficulty differentiating between offensive language and hate speech, as they both employ offensive words. Previous research was able to accurately classify either hate speech or offensive language from 'clean' text, with a 91% and 95% accuracy respectively, but had low accuracy when differentiating between hate speech and offensive language from one another (61%). We plan to increase the accuracy in successfully identifying instances of hate speech from offensive language.\n"
   ]
  },
  {
   "cell_type": "markdown",
   "metadata": {},
   "source": [
    "### Disclaimer\n",
    "\n",
    "This notebook contains uncensored offensive language for the purposes of data exploration and visualization. "
   ]
  },
  {
   "cell_type": "markdown",
   "metadata": {},
   "source": [
    "### Data Cleaning"
   ]
  },
  {
   "cell_type": "code",
   "execution_count": 1,
   "metadata": {},
   "outputs": [],
   "source": [
    "import pandas as pd\n",
    "import numpy as np\n",
    "from matplotlib import pyplot as plt\n",
    "%matplotlib inline\n",
    "import seaborn as sns\n",
    "pd.options.display.width = 500\n",
    "import nltk\n",
    "import string\n",
    "import re\n",
    "from nltk.stem.porter import *"
   ]
  },
  {
   "cell_type": "code",
   "execution_count": 2,
   "metadata": {},
   "outputs": [],
   "source": [
    "df = pd.read_csv('labeled_data.csv')\n",
    "df = df[df['class'] != 2].iloc[:,1:]"
   ]
  },
  {
   "cell_type": "code",
   "execution_count": 3,
   "metadata": {},
   "outputs": [
    {
     "data": {
      "text/html": [
       "<div>\n",
       "<style scoped>\n",
       "    .dataframe tbody tr th:only-of-type {\n",
       "        vertical-align: middle;\n",
       "    }\n",
       "\n",
       "    .dataframe tbody tr th {\n",
       "        vertical-align: top;\n",
       "    }\n",
       "\n",
       "    .dataframe thead th {\n",
       "        text-align: right;\n",
       "    }\n",
       "</style>\n",
       "<table border=\"1\" class=\"dataframe\">\n",
       "  <thead>\n",
       "    <tr style=\"text-align: right;\">\n",
       "      <th></th>\n",
       "      <th>count</th>\n",
       "      <th>hate_speech</th>\n",
       "      <th>offensive_language</th>\n",
       "      <th>neither</th>\n",
       "      <th>class</th>\n",
       "      <th>tweet</th>\n",
       "    </tr>\n",
       "  </thead>\n",
       "  <tbody>\n",
       "    <tr>\n",
       "      <th>1</th>\n",
       "      <td>3</td>\n",
       "      <td>0</td>\n",
       "      <td>3</td>\n",
       "      <td>0</td>\n",
       "      <td>1</td>\n",
       "      <td>!!!!! RT @mleew17: boy dats cold...tyga dwn ba...</td>\n",
       "    </tr>\n",
       "    <tr>\n",
       "      <th>2</th>\n",
       "      <td>3</td>\n",
       "      <td>0</td>\n",
       "      <td>3</td>\n",
       "      <td>0</td>\n",
       "      <td>1</td>\n",
       "      <td>!!!!!!! RT @UrKindOfBrand Dawg!!!! RT @80sbaby...</td>\n",
       "    </tr>\n",
       "    <tr>\n",
       "      <th>3</th>\n",
       "      <td>3</td>\n",
       "      <td>0</td>\n",
       "      <td>2</td>\n",
       "      <td>1</td>\n",
       "      <td>1</td>\n",
       "      <td>!!!!!!!!! RT @C_G_Anderson: @viva_based she lo...</td>\n",
       "    </tr>\n",
       "    <tr>\n",
       "      <th>4</th>\n",
       "      <td>6</td>\n",
       "      <td>0</td>\n",
       "      <td>6</td>\n",
       "      <td>0</td>\n",
       "      <td>1</td>\n",
       "      <td>!!!!!!!!!!!!! RT @ShenikaRoberts: The shit you...</td>\n",
       "    </tr>\n",
       "    <tr>\n",
       "      <th>5</th>\n",
       "      <td>3</td>\n",
       "      <td>1</td>\n",
       "      <td>2</td>\n",
       "      <td>0</td>\n",
       "      <td>1</td>\n",
       "      <td>!!!!!!!!!!!!!!!!!!\"@T_Madison_x: The shit just...</td>\n",
       "    </tr>\n",
       "  </tbody>\n",
       "</table>\n",
       "</div>"
      ],
      "text/plain": [
       "   count  hate_speech  offensive_language  neither  class                                              tweet\n",
       "1      3            0                   3        0      1  !!!!! RT @mleew17: boy dats cold...tyga dwn ba...\n",
       "2      3            0                   3        0      1  !!!!!!! RT @UrKindOfBrand Dawg!!!! RT @80sbaby...\n",
       "3      3            0                   2        1      1  !!!!!!!!! RT @C_G_Anderson: @viva_based she lo...\n",
       "4      6            0                   6        0      1  !!!!!!!!!!!!! RT @ShenikaRoberts: The shit you...\n",
       "5      3            1                   2        0      1  !!!!!!!!!!!!!!!!!!\"@T_Madison_x: The shit just..."
      ]
     },
     "execution_count": 3,
     "metadata": {},
     "output_type": "execute_result"
    }
   ],
   "source": [
    "df.head()"
   ]
  },
  {
   "cell_type": "markdown",
   "metadata": {},
   "source": [
    "### Data Exploration"
   ]
  },
  {
   "cell_type": "code",
   "execution_count": 4,
   "metadata": {},
   "outputs": [
    {
     "data": {
      "image/png": "[encoded data removed]",
      "text/plain": [
       "<Figure size 432x288 with 1 Axes>"
      ]
     },
     "metadata": {
      "needs_background": "light"
     },
     "output_type": "display_data"
    },
    {
     "name": "stdout",
     "output_type": "stream",
     "text": [
      "Hate speech count:  1430 ( 6.94 %)\n",
      "Offensive speech count:  19190 ( 93.06 %)\n"
     ]
    }
   ],
   "source": [
    "height = (len(df[df['class']==0]), len(df[df['class']==1]))\n",
    "bars = ('Hate speech', 'Offensive speech')\n",
    "plt.bar(bars, height)\n",
    "plt.title('Hate speech vs. Offensive speech count')\n",
    "plt.show()\n",
    "lenhatespeech = len(df[df['class']==0])\n",
    "lenoffspeech = len(df[df['class']==1])\n",
    "\n",
    "print('Hate speech count: ', lenhatespeech, '(', round(100*lenhatespeech/(lenhatespeech+lenoffspeech), 2), '%)')\n",
    "print('Offensive speech count: ', lenoffspeech, '(', round(100*lenoffspeech/(lenhatespeech+lenoffspeech), 2), '%)')\n"
   ]
  },
  {
   "cell_type": "code",
   "execution_count": 5,
   "metadata": {},
   "outputs": [],
   "source": [
    "#Balance the dataset\n",
    "np.random.seed(123)\n",
    "remove_n = lenoffspeech - lenhatespeech\n",
    "drop_indices = np.random.choice(df[df['class']==1].index, remove_n, replace=False)\n",
    "df_bal = df.drop(drop_indices)"
   ]
  },
  {
   "cell_type": "code",
   "execution_count": 6,
   "metadata": {},
   "outputs": [
    {
     "data": {
      "image/png": "[encoded data removed]",
      "text/plain": [
       "<Figure size 432x288 with 1 Axes>"
      ]
     },
     "metadata": {
      "needs_background": "light"
     },
     "output_type": "display_data"
    },
    {
     "name": "stdout",
     "output_type": "stream",
     "text": [
      "Hate speech count:  1430 ( 50.0 %)\n",
      "Offensive speech count:  1430 ( 50.0 %)\n"
     ]
    }
   ],
   "source": [
    "height = (len(df_bal[df_bal['class']==0]), len(df_bal[df_bal['class']==1]))\n",
    "bars = ('Hate speech', 'Offensive speech')\n",
    "plt.bar(bars, height)\n",
    "plt.title('Hate speech vs. Offensive speech count')\n",
    "plt.show()\n",
    "lenhatespeech = len(df_bal[df_bal['class']==0])\n",
    "lenoffspeech = len(df_bal[df_bal['class']==1])\n",
    "\n",
    "print('Hate speech count: ', lenhatespeech, '(', round(100*lenhatespeech/(lenhatespeech+lenoffspeech), 2), '%)')\n",
    "print('Offensive speech count: ', lenoffspeech, '(', round(100*lenoffspeech/(lenhatespeech+lenoffspeech), 2), '%)')"
   ]
  },
  {
   "cell_type": "code",
   "execution_count": 7,
   "metadata": {},
   "outputs": [],
   "source": [
    "#Data Preprocessing\n",
    "import nltk\n",
    "stopwords = nltk.corpus.stopwords.words('english')\n",
    "other_exclusions = [\"#ff\", \"ff\", \"rt\"]\n",
    "stopwords.extend(other_exclusions)\n",
    "stemmer = PorterStemmer()\n",
    "\n",
    "\n",
    "def preprocess(text_string):\n",
    "    \"\"\"\n",
    "    Accepts a text string and replaces:\n",
    "    1) urls with URLHERE\n",
    "    2) lots of whitespace with one instance\n",
    "    3) mentions with MENTIONHERE\n",
    "\n",
    "    This allows us to get standardized counts of urls and mentions\n",
    "    Without caring about specific people mentioned\n",
    "    \"\"\"\n",
    "    space_pattern = '\\s+'\n",
    "    giant_url_regex = ('http[s]?://(?:[a-zA-Z]|[0-9]|[$-_@.&+]|'\n",
    "        '[!*\\(\\),]|(?:%[0-9a-fA-F][0-9a-fA-F]))+')\n",
    "    mention_regex = '@[\\w\\-]+'\n",
    "    hashtag_regex = '#[\\w\\-]+'\n",
    "    num_pattern = '\\d'\n",
    "    parsed_text = re.sub(space_pattern, ' ', text_string)\n",
    "    parsed_text = re.sub(num_pattern, '', parsed_text)\n",
    "    parsed_text = re.sub(giant_url_regex, 'URLHERE', parsed_text)\n",
    "    parsed_text = re.sub(mention_regex, 'MENTIONHERE', parsed_text)\n",
    "    parsed_text = re.sub(hashtag_regex, 'HASHTAGHERE', parsed_text)\n",
    "    parsed_text = parsed_text.lower().strip()\n",
    "    return parsed_text"
   ]
  },
  {
   "cell_type": "code",
   "execution_count": 8,
   "metadata": {},
   "outputs": [
    {
     "ename": "UnboundLocalError",
     "evalue": "local variable 'parsed_text' referenced before assignment",
     "output_type": "error",
     "traceback": [
      "\u001b[1;31m---------------------------------------------------------------------------\u001b[0m",
      "\u001b[1;31mUnboundLocalError\u001b[0m                         Traceback (most recent call last)",
      "\u001b[1;32m<ipython-input-8-c59433873f5b>\u001b[0m in \u001b[0;36m<module>\u001b[1;34m\u001b[0m\n\u001b[0;32m      1\u001b[0m \u001b[0mdf_bal\u001b[0m\u001b[1;33m[\u001b[0m\u001b[1;34m'tweet_clean'\u001b[0m\u001b[1;33m]\u001b[0m \u001b[1;33m=\u001b[0m \u001b[1;34m''\u001b[0m\u001b[1;33m\u001b[0m\u001b[1;33m\u001b[0m\u001b[0m\n\u001b[0;32m      2\u001b[0m \u001b[1;32mfor\u001b[0m \u001b[0mi\u001b[0m\u001b[1;33m,\u001b[0m \u001b[0mrow\u001b[0m \u001b[1;32min\u001b[0m \u001b[0mdf_bal\u001b[0m\u001b[1;33m.\u001b[0m\u001b[0miterrows\u001b[0m\u001b[1;33m(\u001b[0m\u001b[1;33m)\u001b[0m\u001b[1;33m:\u001b[0m\u001b[1;33m\u001b[0m\u001b[1;33m\u001b[0m\u001b[0m\n\u001b[1;32m----> 3\u001b[1;33m     \u001b[0mdf_bal\u001b[0m\u001b[1;33m.\u001b[0m\u001b[0mat\u001b[0m\u001b[1;33m[\u001b[0m\u001b[0mi\u001b[0m\u001b[1;33m,\u001b[0m \u001b[1;34m'tweet_clean'\u001b[0m\u001b[1;33m]\u001b[0m \u001b[1;33m=\u001b[0m \u001b[0mpreprocess\u001b[0m\u001b[1;33m(\u001b[0m\u001b[0mrow\u001b[0m\u001b[1;33m.\u001b[0m\u001b[0mtweet\u001b[0m\u001b[1;33m)\u001b[0m\u001b[1;33m\u001b[0m\u001b[1;33m\u001b[0m\u001b[0m\n\u001b[0m",
      "\u001b[1;32m<ipython-input-7-da4a43e0bf4f>\u001b[0m in \u001b[0;36mpreprocess\u001b[1;34m(text_string)\u001b[0m\n\u001b[0;32m     23\u001b[0m     \u001b[0mhashtag_regex\u001b[0m \u001b[1;33m=\u001b[0m \u001b[1;34m'#[\\w\\-]+'\u001b[0m\u001b[1;33m\u001b[0m\u001b[1;33m\u001b[0m\u001b[0m\n\u001b[0;32m     24\u001b[0m     \u001b[0mnum_pattern\u001b[0m \u001b[1;33m=\u001b[0m \u001b[1;34m'\\d'\u001b[0m\u001b[1;33m\u001b[0m\u001b[1;33m\u001b[0m\u001b[0m\n\u001b[1;32m---> 25\u001b[1;33m     \u001b[0mparsed_text\u001b[0m \u001b[1;33m=\u001b[0m \u001b[0mre\u001b[0m\u001b[1;33m.\u001b[0m\u001b[0msub\u001b[0m\u001b[1;33m(\u001b[0m\u001b[0mnum_pattern\u001b[0m\u001b[1;33m,\u001b[0m \u001b[1;34m''\u001b[0m\u001b[1;33m,\u001b[0m \u001b[0mparsed_text\u001b[0m\u001b[1;33m)\u001b[0m\u001b[1;33m\u001b[0m\u001b[1;33m\u001b[0m\u001b[0m\n\u001b[0m\u001b[0;32m     26\u001b[0m     \u001b[0mparsed_text\u001b[0m \u001b[1;33m=\u001b[0m \u001b[0mre\u001b[0m\u001b[1;33m.\u001b[0m\u001b[0msub\u001b[0m\u001b[1;33m(\u001b[0m\u001b[0mspace_pattern\u001b[0m\u001b[1;33m,\u001b[0m \u001b[1;34m' '\u001b[0m\u001b[1;33m,\u001b[0m \u001b[0mtext_string\u001b[0m\u001b[1;33m)\u001b[0m\u001b[1;33m\u001b[0m\u001b[1;33m\u001b[0m\u001b[0m\n\u001b[0;32m     27\u001b[0m     \u001b[0mparsed_text\u001b[0m \u001b[1;33m=\u001b[0m \u001b[0mre\u001b[0m\u001b[1;33m.\u001b[0m\u001b[0msub\u001b[0m\u001b[1;33m(\u001b[0m\u001b[0mgiant_url_regex\u001b[0m\u001b[1;33m,\u001b[0m \u001b[1;34m'URLHERE'\u001b[0m\u001b[1;33m,\u001b[0m \u001b[0mparsed_text\u001b[0m\u001b[1;33m)\u001b[0m\u001b[1;33m\u001b[0m\u001b[1;33m\u001b[0m\u001b[0m\n",
      "\u001b[1;31mUnboundLocalError\u001b[0m: local variable 'parsed_text' referenced before assignment"
     ]
    }
   ],
   "source": [
    "df_bal['tweet_clean'] = ''\n",
    "for i, row in df_bal.iterrows():\n",
    "    df_bal.at[i, 'tweet_clean'] = preprocess(row.tweet)"
   ]
  },
  {
   "cell_type": "code",
   "execution_count": null,
   "metadata": {},
   "outputs": [],
   "source": [
    "df_bal['tweet_clean'].head()"
   ]
  },
  {
   "cell_type": "code",
   "execution_count": null,
   "metadata": {},
   "outputs": [],
   "source": [
    "import spacy\n",
    "nlp = spacy.load('en_core_web_sm')"
   ]
  },
  {
   "cell_type": "code",
   "execution_count": null,
   "metadata": {},
   "outputs": [],
   "source": [
    "for i, row in df_bal.iterrows():\n",
    "    doc = nlp(str(row['tweet_clean']))\n",
    "    sym = []\n",
    "    nouns = []\n",
    "    verbs = []\n",
    "    lemmas = []\n",
    "        \n",
    "    for token in doc:\n",
    "        lemmas.append(token.lemma_)\n",
    "        if token.pos == 'SYM':\n",
    "            sym.append(token.lemma_)\n",
    "        if token.pos_ == 'NOUN' or token.pos_ == 'PROPN':\n",
    "            nouns.append(token.lemma_)\n",
    "        if token.pos_ == 'VERB':\n",
    "            verbs.append(token.lemma_)\n",
    "        \n",
    "    df_bal.at[i, 'tweet_lemma'] = ' '.join(lemmas)\n",
    "    df_bal.at[i, 'tweet_nouns'] = ' '.join(nouns)\n",
    "    df_bal.at[i, 'tweet_sym'] = ' '.join(sym)\n",
    "    df_bal.at[i, 'tweet_verbs'] = ' '.join(verbs)\n",
    "    df_bal.at[i, 'tweet_nv'] = ' '.join(nouns + verbs)\n",
    "    df_bal.at[i, 'num_tokens'] = len(lemmas)"
   ]
  },
  {
   "cell_type": "code",
   "execution_count": null,
   "metadata": {},
   "outputs": [],
   "source": [
    "df_bal.head()"
   ]
  },
  {
   "cell_type": "code",
   "execution_count": null,
   "metadata": {},
   "outputs": [],
   "source": [
    "#Saving this to SQL database\n",
    "import sqlite3\n",
    "con = sqlite3.connect('twitter_hate.db')\n",
    "\n",
    "drop = '''drop table tweets_nlp'''\n",
    "with sqlite3.connect('twitter_hate.db') as con:\n",
    "    con.execute(drop)\n",
    "df_bal.to_sql('tweets_nlp', con)\n",
    "sql = \"\"\"\n",
    "SELECT * FROM tweets_nlp\n",
    "\"\"\"\n",
    "with sqlite3.connect('twitter_hate.db') as con:\n",
    "    df_bal = pd.read_sql_query(sql, con)"
   ]
  },
  {
   "cell_type": "code",
   "execution_count": null,
   "metadata": {},
   "outputs": [],
   "source": [
    "print('Data types:\\n', df_bal.dtypes)\n",
    "print('Shape: ', df_bal.shape)\n",
    "print('Count:\\n', df_bal.count())"
   ]
  },
  {
   "cell_type": "code",
   "execution_count": null,
   "metadata": {},
   "outputs": [],
   "source": [
    "plt.hist(df_bal['num_tokens'])\n",
    "print('Average number of tokens per tweet: ', round(df_bal['num_tokens'].mean(), 2))"
   ]
  },
  {
   "cell_type": "code",
   "execution_count": null,
   "metadata": {},
   "outputs": [],
   "source": [
    "df_offensive = df_bal[df_bal['class']==1]\n",
    "plt.hist(df_offensive['num_tokens'])\n",
    "print('Average number of tokens per OFFENSIVE tweet: ', round(df_offensive['num_tokens'].mean(), 2))"
   ]
  },
  {
   "cell_type": "code",
   "execution_count": null,
   "metadata": {},
   "outputs": [],
   "source": [
    "df_hate = df_bal[df_bal['class']==0]\n",
    "plt.hist(df_hate['num_tokens'])\n",
    "print('Average number of tokens per HATE tweet: ', round(df_hate['num_tokens'].mean(), 2))\n",
    "\n",
    "# Hate tweets have slightly fewer tokens on average and a greater proportion of tweets from 0-10 tokens compared to offensive tweets\n",
    "# This is in line with a presentation at the TMLS conference from Washington Post - banned comments tended to be shorter"
   ]
  },
  {
   "cell_type": "code",
   "execution_count": null,
   "metadata": {},
   "outputs": [],
   "source": [
    "#here we look at just the noun adjective and verbs\n",
    "def my_tokenizer(text):\n",
    "    return text.split() if text != None else []\n",
    "tokens = df_bal.tweet_nv.map(my_tokenizer).sum()\n",
    "tokens[:20]"
   ]
  },
  {
   "cell_type": "code",
   "execution_count": null,
   "metadata": {},
   "outputs": [],
   "source": [
    "from collections import Counter\n",
    "\n",
    "counter = Counter(tokens)\n",
    "counter.most_common(20)"
   ]
  },
  {
   "cell_type": "code",
   "execution_count": null,
   "metadata": {},
   "outputs": [],
   "source": [
    "from spacy.lang.en.stop_words import STOP_WORDS\n",
    "stopwords.append(STOP_WORDS)\n",
    "\n",
    "def remove_stopwords(tokens):\n",
    "    return [t for t in tokens if t not in stopwords]\n",
    "\n",
    "counter = Counter(remove_stopwords(tokens))\n",
    "counter.most_common(20)"
   ]
  },
  {
   "cell_type": "code",
   "execution_count": null,
   "metadata": {},
   "outputs": [],
   "source": [
    "#MENTIONHERE, RT, HASHTAGHERE, URLHERE, HASTAGHERE;MENTIONHERE are not actual word features but rather imputed strings.\n",
    "#amp likely refers to ampersand\n",
    "#Let's remove these:\n",
    "\n",
    "ignore_counter = ['mentionhere', 'hashtaghere', 'urlhere', 'hashtaghere;mentionhere', 'amp', 'hashtaghere;&hashtaghere']\n",
    "for word in list(counter):\n",
    "    if word in ignore_counter:\n",
    "        del counter[word]\n",
    "counter.most_common(20)"
   ]
  },
  {
   "cell_type": "code",
   "execution_count": null,
   "metadata": {},
   "outputs": [],
   "source": [
    "#convert list to bargraph\n",
    "freq_df = pd.DataFrame.from_records(counter.most_common(20), columns = ['token', 'count'])\n",
    "freq_df.plot(kind = 'bar', x = 'token', title = 'Token frequencies in overall data')"
   ]
  },
  {
   "cell_type": "code",
   "execution_count": null,
   "metadata": {},
   "outputs": [],
   "source": [
    "from wordcloud import WordCloud\n",
    "from matplotlib import pyplot as plt\n",
    "%matplotlib inline\n",
    "%config InlineBackend.figure_format = 'svg'\n",
    "plt.rcParams['figure.dpi'] = 100\n",
    "\n",
    "def wordcloud(counter):\n",
    "    wc = WordCloud(width = 1200, height = 800, background_color = 'white', max_words = 200)\n",
    "    wc.generate_from_frequencies(counter)\n",
    "\n",
    "    fig = plt.figure(figsize=(6,4))\n",
    "    plt.imshow(wc, interpolation = 'bilinear')\n",
    "    plt.axis('off')\n",
    "    plt.show()"
   ]
  },
  {
   "cell_type": "code",
   "execution_count": null,
   "metadata": {},
   "outputs": [],
   "source": [
    "wordcloud(counter)"
   ]
  },
  {
   "cell_type": "code",
   "execution_count": null,
   "metadata": {},
   "outputs": [],
   "source": [
    "#Now see if there are any differences between hate speech and offensive speech\n",
    "tokens_offensive = df_offensive.tweet_nv.map(my_tokenizer).sum()\n",
    "counter_offensive = Counter(remove_stopwords(tokens_offensive))\n",
    "for word in list(counter_offensive):\n",
    "    if word in ignore_counter:\n",
    "        del counter_offensive[word]\n",
    "counter_offensive.most_common(20)"
   ]
  },
  {
   "cell_type": "code",
   "execution_count": null,
   "metadata": {},
   "outputs": [],
   "source": [
    "tokens_hate = df_hate.tweet_nv.map(my_tokenizer).sum()\n",
    "counter_hate = Counter(remove_stopwords(tokens_hate))\n",
    "for word in list(counter_hate):\n",
    "    if word in ignore_counter:\n",
    "        del counter_hate[word]\n",
    "counter_hate.most_common(20)"
   ]
  },
  {
   "cell_type": "code",
   "execution_count": null,
   "metadata": {},
   "outputs": [],
   "source": [
    "freq_df = pd.DataFrame.from_records(counter_offensive.most_common(20), columns = ['token', 'count'])\n",
    "freq_df.plot(kind = 'bar', x = 'token', title = 'Token frequencies in Offensive speech')"
   ]
  },
  {
   "cell_type": "code",
   "execution_count": null,
   "metadata": {},
   "outputs": [],
   "source": [
    "freq_df = pd.DataFrame.from_records(counter_hate.most_common(20), columns = ['token', 'count'])\n",
    "freq_df.plot(kind = 'bar', x = 'token', title = 'Token frequencies in Hate speech')"
   ]
  },
  {
   "cell_type": "code",
   "execution_count": null,
   "metadata": {},
   "outputs": [],
   "source": [
    "#Word Cloud of offensive speech\n",
    "wordcloud(counter_offensive)"
   ]
  },
  {
   "cell_type": "code",
   "execution_count": null,
   "metadata": {},
   "outputs": [],
   "source": [
    "#Word Cloud of hate speech\n",
    "wordcloud(counter_hate)"
   ]
  },
  {
   "cell_type": "markdown",
   "metadata": {},
   "source": [
    "An exploratory analysis shows that hate speech tends to be less complex (fewer tokens) and uses stronger homophobic and racial slurs (f\\*g, n-word ending with 'hard R' sound)."
   ]
  }
 ],
 "metadata": {
  "kernelspec": {
   "display_name": "Python 3",
   "language": "python",
   "name": "python3"
  },
  "language_info": {
   "codemirror_mode": {
    "name": "ipython",
    "version": 3
   },
   "file_extension": ".py",
   "mimetype": "text/x-python",
   "name": "python",
   "nbconvert_exporter": "python",
   "pygments_lexer": "ipython3",
   "version": "3.7.6"
  }
 },
 "nbformat": 4,
 "nbformat_minor": 4
}
