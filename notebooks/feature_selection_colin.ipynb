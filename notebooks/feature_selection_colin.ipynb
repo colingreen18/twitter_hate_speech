{
 "cells": [
  {
   "cell_type": "code",
   "execution_count": 1,
   "metadata": {},
   "outputs": [],
   "source": [
    "import pandas as pd\n",
    "import numpy as np\n",
    "from matplotlib import pyplot as plt\n",
    "import sqlite3\n",
    "%matplotlib inline"
   ]
  },
  {
   "cell_type": "code",
   "execution_count": 2,
   "metadata": {},
   "outputs": [],
   "source": [
    "#import df\n",
    "con = sqlite3.connect('twitter_hate.db')\n",
    "with sqlite3.connect('twitter_hate.db') as con:\n",
    "    df = pd.read_sql_query(\"SELECT * FROM tweets_nlp\", con)"
   ]
  },
  {
   "cell_type": "code",
   "execution_count": 3,
   "metadata": {
    "scrolled": true
   },
   "outputs": [
    {
     "data": {
      "text/html": [
       "<div>\n",
       "<style scoped>\n",
       "    .dataframe tbody tr th:only-of-type {\n",
       "        vertical-align: middle;\n",
       "    }\n",
       "\n",
       "    .dataframe tbody tr th {\n",
       "        vertical-align: top;\n",
       "    }\n",
       "\n",
       "    .dataframe thead th {\n",
       "        text-align: right;\n",
       "    }\n",
       "</style>\n",
       "<table border=\"1\" class=\"dataframe\">\n",
       "  <thead>\n",
       "    <tr style=\"text-align: right;\">\n",
       "      <th></th>\n",
       "      <th>index</th>\n",
       "      <th>count</th>\n",
       "      <th>hate_speech</th>\n",
       "      <th>offensive_language</th>\n",
       "      <th>neither</th>\n",
       "      <th>class</th>\n",
       "      <th>tweet</th>\n",
       "      <th>tweet_clean</th>\n",
       "      <th>tweet_lemma</th>\n",
       "      <th>tweet_nouns</th>\n",
       "      <th>tweet_sym</th>\n",
       "      <th>tweet_verbs</th>\n",
       "      <th>tweet_nv</th>\n",
       "      <th>num_tokens</th>\n",
       "    </tr>\n",
       "  </thead>\n",
       "  <tbody>\n",
       "    <tr>\n",
       "      <th>0</th>\n",
       "      <td>17</td>\n",
       "      <td>3</td>\n",
       "      <td>1</td>\n",
       "      <td>2</td>\n",
       "      <td>0</td>\n",
       "      <td>1</td>\n",
       "      <td>\" bitch who do you love \"</td>\n",
       "      <td>bitch who do you love</td>\n",
       "      <td>bitch who do -PRON- love</td>\n",
       "      <td>bitch</td>\n",
       "      <td></td>\n",
       "      <td>love</td>\n",
       "      <td>bitch love</td>\n",
       "      <td>5.0</td>\n",
       "    </tr>\n",
       "    <tr>\n",
       "      <th>1</th>\n",
       "      <td>23</td>\n",
       "      <td>3</td>\n",
       "      <td>0</td>\n",
       "      <td>3</td>\n",
       "      <td>0</td>\n",
       "      <td>1</td>\n",
       "      <td>\" fuck no that bitch dont even suck dick \" &amp;#1...</td>\n",
       "      <td>fuck no that bitch dont even suck dick        ...</td>\n",
       "      <td>fuck no that bitch do not even suck dick      ...</td>\n",
       "      <td>bitch dick kermit video bout</td>\n",
       "      <td></td>\n",
       "      <td>suck fuck</td>\n",
       "      <td>bitch dick kermit video bout suck fuck</td>\n",
       "      <td>18.0</td>\n",
       "    </tr>\n",
       "    <tr>\n",
       "      <th>2</th>\n",
       "      <td>38</td>\n",
       "      <td>3</td>\n",
       "      <td>0</td>\n",
       "      <td>2</td>\n",
       "      <td>1</td>\n",
       "      <td>1</td>\n",
       "      <td>\" lames crying over hoes thats tears of a clown \"</td>\n",
       "      <td>lames crying over hoes thats tears of a clown</td>\n",
       "      <td>lame cry over hoe that s tear of a clown</td>\n",
       "      <td>lame hoe tear clown</td>\n",
       "      <td></td>\n",
       "      <td>cry s</td>\n",
       "      <td>lame hoe tear clown cry s</td>\n",
       "      <td>10.0</td>\n",
       "    </tr>\n",
       "    <tr>\n",
       "      <th>3</th>\n",
       "      <td>59</td>\n",
       "      <td>3</td>\n",
       "      <td>0</td>\n",
       "      <td>3</td>\n",
       "      <td>0</td>\n",
       "      <td>1</td>\n",
       "      <td>\"..All I wanna do is get money and fuck model ...</td>\n",
       "      <td>all i wanna do is get money and fuck model bit...</td>\n",
       "      <td>all i wanna do be get money and fuck model bit...</td>\n",
       "      <td>wanna money fuck model bitch russell simmons</td>\n",
       "      <td></td>\n",
       "      <td></td>\n",
       "      <td>wanna money fuck model bitch russell simmons</td>\n",
       "      <td>14.0</td>\n",
       "    </tr>\n",
       "    <tr>\n",
       "      <th>4</th>\n",
       "      <td>62</td>\n",
       "      <td>3</td>\n",
       "      <td>0</td>\n",
       "      <td>3</td>\n",
       "      <td>0</td>\n",
       "      <td>1</td>\n",
       "      <td>\"@ARIZZLEINDACUT: Females think dating a pussy...</td>\n",
       "      <td>mentionhere  females think dating a pussy is c...</td>\n",
       "      <td>mentionhere   female think date a pussy be cut...</td>\n",
       "      <td>mentionhere female pussy stuff pussy</td>\n",
       "      <td></td>\n",
       "      <td>think date urlhere do make</td>\n",
       "      <td>mentionhere female pussy stuff pussy think dat...</td>\n",
       "      <td>22.0</td>\n",
       "    </tr>\n",
       "    <tr>\n",
       "      <th>...</th>\n",
       "      <td>...</td>\n",
       "      <td>...</td>\n",
       "      <td>...</td>\n",
       "      <td>...</td>\n",
       "      <td>...</td>\n",
       "      <td>...</td>\n",
       "      <td>...</td>\n",
       "      <td>...</td>\n",
       "      <td>...</td>\n",
       "      <td>...</td>\n",
       "      <td>...</td>\n",
       "      <td>...</td>\n",
       "      <td>...</td>\n",
       "      <td>...</td>\n",
       "    </tr>\n",
       "    <tr>\n",
       "      <th>2855</th>\n",
       "      <td>24771</td>\n",
       "      <td>3</td>\n",
       "      <td>0</td>\n",
       "      <td>3</td>\n",
       "      <td>0</td>\n",
       "      <td>1</td>\n",
       "      <td>you look like your 12 stop talking about fucki...</td>\n",
       "      <td>you look like your  stop talking about fucking...</td>\n",
       "      <td>-PRON- look like -PRON-   stop talk about fuck...</td>\n",
       "      <td>bitch</td>\n",
       "      <td></td>\n",
       "      <td>look stop talk fuck</td>\n",
       "      <td>bitch look stop talk fuck</td>\n",
       "      <td>10.0</td>\n",
       "    </tr>\n",
       "    <tr>\n",
       "      <th>2856</th>\n",
       "      <td>24776</td>\n",
       "      <td>3</td>\n",
       "      <td>3</td>\n",
       "      <td>0</td>\n",
       "      <td>0</td>\n",
       "      <td>0</td>\n",
       "      <td>you're all niggers</td>\n",
       "      <td>you re all niggers</td>\n",
       "      <td>-PRON- re all nigger</td>\n",
       "      <td>nigger</td>\n",
       "      <td></td>\n",
       "      <td>re</td>\n",
       "      <td>nigger re</td>\n",
       "      <td>4.0</td>\n",
       "    </tr>\n",
       "    <tr>\n",
       "      <th>2857</th>\n",
       "      <td>24777</td>\n",
       "      <td>3</td>\n",
       "      <td>2</td>\n",
       "      <td>1</td>\n",
       "      <td>0</td>\n",
       "      <td>0</td>\n",
       "      <td>you're such a retard i hope you get type 2 dia...</td>\n",
       "      <td>you re such a retard i hope you get type  diab...</td>\n",
       "      <td>-PRON- re such a retard i hope -PRON- get type...</td>\n",
       "      <td>retard type diabete sugar rush faggot mentionhere</td>\n",
       "      <td></td>\n",
       "      <td>re hope get die fuck</td>\n",
       "      <td>retard type diabete sugar rush faggot mentionh...</td>\n",
       "      <td>22.0</td>\n",
       "    </tr>\n",
       "    <tr>\n",
       "      <th>2858</th>\n",
       "      <td>24780</td>\n",
       "      <td>3</td>\n",
       "      <td>0</td>\n",
       "      <td>3</td>\n",
       "      <td>0</td>\n",
       "      <td>1</td>\n",
       "      <td>young buck wanna eat!!.. dat nigguh like I ain...</td>\n",
       "      <td>young buck wanna eat     dat nigguh like i ain...</td>\n",
       "      <td>young buck wanna eat      dat nigguh like i be...</td>\n",
       "      <td>young buck wanna dat fuckin</td>\n",
       "      <td></td>\n",
       "      <td>eat be</td>\n",
       "      <td>young buck wanna dat fuckin eat be</td>\n",
       "      <td>15.0</td>\n",
       "    </tr>\n",
       "    <tr>\n",
       "      <th>2859</th>\n",
       "      <td>24781</td>\n",
       "      <td>6</td>\n",
       "      <td>0</td>\n",
       "      <td>6</td>\n",
       "      <td>0</td>\n",
       "      <td>1</td>\n",
       "      <td>youu got wild bitches tellin you lies</td>\n",
       "      <td>youu got wild bitches tellin you lies</td>\n",
       "      <td>youu get wild bitch tellin -PRON- lie</td>\n",
       "      <td>youu bitch</td>\n",
       "      <td></td>\n",
       "      <td>get tellin lie</td>\n",
       "      <td>youu bitch get tellin lie</td>\n",
       "      <td>7.0</td>\n",
       "    </tr>\n",
       "  </tbody>\n",
       "</table>\n",
       "<p>2860 rows × 14 columns</p>\n",
       "</div>"
      ],
      "text/plain": [
       "      index  count  hate_speech  offensive_language  neither  class  \\\n",
       "0        17      3            1                   2        0      1   \n",
       "1        23      3            0                   3        0      1   \n",
       "2        38      3            0                   2        1      1   \n",
       "3        59      3            0                   3        0      1   \n",
       "4        62      3            0                   3        0      1   \n",
       "...     ...    ...          ...                 ...      ...    ...   \n",
       "2855  24771      3            0                   3        0      1   \n",
       "2856  24776      3            3                   0        0      0   \n",
       "2857  24777      3            2                   1        0      0   \n",
       "2858  24780      3            0                   3        0      1   \n",
       "2859  24781      6            0                   6        0      1   \n",
       "\n",
       "                                                  tweet  \\\n",
       "0                             \" bitch who do you love \"   \n",
       "1     \" fuck no that bitch dont even suck dick \" &#1...   \n",
       "2     \" lames crying over hoes thats tears of a clown \"   \n",
       "3     \"..All I wanna do is get money and fuck model ...   \n",
       "4     \"@ARIZZLEINDACUT: Females think dating a pussy...   \n",
       "...                                                 ...   \n",
       "2855  you look like your 12 stop talking about fucki...   \n",
       "2856                                 you're all niggers   \n",
       "2857  you're such a retard i hope you get type 2 dia...   \n",
       "2858  young buck wanna eat!!.. dat nigguh like I ain...   \n",
       "2859              youu got wild bitches tellin you lies   \n",
       "\n",
       "                                            tweet_clean  \\\n",
       "0                                 bitch who do you love   \n",
       "1     fuck no that bitch dont even suck dick        ...   \n",
       "2         lames crying over hoes thats tears of a clown   \n",
       "3     all i wanna do is get money and fuck model bit...   \n",
       "4     mentionhere  females think dating a pussy is c...   \n",
       "...                                                 ...   \n",
       "2855  you look like your  stop talking about fucking...   \n",
       "2856                                 you re all niggers   \n",
       "2857  you re such a retard i hope you get type  diab...   \n",
       "2858  young buck wanna eat     dat nigguh like i ain...   \n",
       "2859              youu got wild bitches tellin you lies   \n",
       "\n",
       "                                            tweet_lemma  \\\n",
       "0                              bitch who do -PRON- love   \n",
       "1     fuck no that bitch do not even suck dick      ...   \n",
       "2              lame cry over hoe that s tear of a clown   \n",
       "3     all i wanna do be get money and fuck model bit...   \n",
       "4     mentionhere   female think date a pussy be cut...   \n",
       "...                                                 ...   \n",
       "2855  -PRON- look like -PRON-   stop talk about fuck...   \n",
       "2856                               -PRON- re all nigger   \n",
       "2857  -PRON- re such a retard i hope -PRON- get type...   \n",
       "2858  young buck wanna eat      dat nigguh like i be...   \n",
       "2859              youu get wild bitch tellin -PRON- lie   \n",
       "\n",
       "                                            tweet_nouns tweet_sym  \\\n",
       "0                                                 bitch             \n",
       "1                          bitch dick kermit video bout             \n",
       "2                                   lame hoe tear clown             \n",
       "3          wanna money fuck model bitch russell simmons             \n",
       "4                  mentionhere female pussy stuff pussy             \n",
       "...                                                 ...       ...   \n",
       "2855                                              bitch             \n",
       "2856                                             nigger             \n",
       "2857  retard type diabete sugar rush faggot mentionhere             \n",
       "2858                        young buck wanna dat fuckin             \n",
       "2859                                         youu bitch             \n",
       "\n",
       "                     tweet_verbs  \\\n",
       "0                           love   \n",
       "1                      suck fuck   \n",
       "2                          cry s   \n",
       "3                                  \n",
       "4     think date urlhere do make   \n",
       "...                          ...   \n",
       "2855         look stop talk fuck   \n",
       "2856                          re   \n",
       "2857        re hope get die fuck   \n",
       "2858                      eat be   \n",
       "2859              get tellin lie   \n",
       "\n",
       "                                               tweet_nv  num_tokens  \n",
       "0                                            bitch love         5.0  \n",
       "1                bitch dick kermit video bout suck fuck        18.0  \n",
       "2                             lame hoe tear clown cry s        10.0  \n",
       "3          wanna money fuck model bitch russell simmons        14.0  \n",
       "4     mentionhere female pussy stuff pussy think dat...        22.0  \n",
       "...                                                 ...         ...  \n",
       "2855                          bitch look stop talk fuck        10.0  \n",
       "2856                                          nigger re         4.0  \n",
       "2857  retard type diabete sugar rush faggot mentionh...        22.0  \n",
       "2858                 young buck wanna dat fuckin eat be        15.0  \n",
       "2859                          youu bitch get tellin lie         7.0  \n",
       "\n",
       "[2860 rows x 14 columns]"
      ]
     },
     "execution_count": 3,
     "metadata": {},
     "output_type": "execute_result"
    }
   ],
   "source": [
    "df"
   ]
  },
  {
   "cell_type": "code",
   "execution_count": 4,
   "metadata": {},
   "outputs": [
    {
     "data": {
      "text/plain": [
       "'tears     mentionhere   hashtaghere rt mentionhere mentionhere don t call -PRON- sweetie -PRON- fucking retard'"
      ]
     },
     "execution_count": 4,
     "metadata": {},
     "output_type": "execute_result"
    }
   ],
   "source": [
    "df.iloc[2827]['tweet_lemma']"
   ]
  },
  {
   "cell_type": "code",
   "execution_count": 5,
   "metadata": {},
   "outputs": [
    {
     "name": "stderr",
     "output_type": "stream",
     "text": [
      "/Users/Colin/opt/anaconda3/envs/machinelearning/lib/python3.7/site-packages/ipykernel_launcher.py:16: SettingWithCopyWarning: \n",
      "A value is trying to be set on a copy of a slice from a DataFrame\n",
      "\n",
      "See the caveats in the documentation: https://pandas.pydata.org/pandas-docs/stable/user_guide/indexing.html#returning-a-view-versus-a-copy\n",
      "  app.launch_new_instance()\n"
     ]
    }
   ],
   "source": [
    "#remove mentions, urls, hashtags, ;&, and 'rt' and other punctuation. keep a count of mentions, urls, hashtags\n",
    "tweets = df['tweet_lemma']\n",
    "\n",
    "mentions = []\n",
    "urls = []\n",
    "hashtags = []\n",
    "i = 0\n",
    "for tweet in tweets:\n",
    "    tweet = tweet.split()\n",
    "    mentions.append(tweet.count('mentionhere')+tweet.count('mentionhere:')+tweet.count('\"mentionhere:')+tweet.count('&#;mentionhere:'))\n",
    "    urls.append(tweet.count('urlhere'))\n",
    "    hashtags.append(tweet.count('hashtaghere'))\n",
    "    tweet = [token for token in tweet if token not in [';&','']]\n",
    "    tweet = [token for token in tweet if token not in ['&#;mentionhere:','mentionhere:','\"mentionhere:','mentionhere', 'urlhere', 'hashtaghere', 'rt', 'amp']]\n",
    "    tweet = \" \".join(tweet)\n",
    "    tweets[i] = tweet\n",
    "    i += 1\n",
    "    \n",
    "df['tweet_no_others'] = tweets\n",
    "df['mention_count'] = mentions\n",
    "df['url_count'] = urls\n",
    "df['hashtag_count'] = hashtags"
   ]
  },
  {
   "cell_type": "code",
   "execution_count": 6,
   "metadata": {},
   "outputs": [
    {
     "data": {
      "text/plain": [
       "'tears don t call -PRON- sweetie -PRON- fucking retard'"
      ]
     },
     "execution_count": 6,
     "metadata": {},
     "output_type": "execute_result"
    }
   ],
   "source": [
    "df.iloc[2827]['tweet_no_others']"
   ]
  },
  {
   "cell_type": "code",
   "execution_count": 7,
   "metadata": {},
   "outputs": [
    {
     "data": {
      "text/plain": [
       "1706"
      ]
     },
     "execution_count": 7,
     "metadata": {},
     "output_type": "execute_result"
    }
   ],
   "source": [
    "sum(count > 0 for count in mentions)"
   ]
  },
  {
   "cell_type": "code",
   "execution_count": 8,
   "metadata": {},
   "outputs": [
    {
     "data": {
      "text/plain": [
       "268"
      ]
     },
     "execution_count": 8,
     "metadata": {},
     "output_type": "execute_result"
    }
   ],
   "source": [
    "sum(count > 0 for count in urls)"
   ]
  },
  {
   "cell_type": "code",
   "execution_count": 9,
   "metadata": {},
   "outputs": [
    {
     "data": {
      "text/plain": [
       "209"
      ]
     },
     "execution_count": 9,
     "metadata": {},
     "output_type": "execute_result"
    }
   ],
   "source": [
    "sum(count > 0 for count in hashtags)"
   ]
  },
  {
   "cell_type": "code",
   "execution_count": 10,
   "metadata": {},
   "outputs": [
    {
     "data": {
      "text/html": [
       "<div>\n",
       "<style scoped>\n",
       "    .dataframe tbody tr th:only-of-type {\n",
       "        vertical-align: middle;\n",
       "    }\n",
       "\n",
       "    .dataframe tbody tr th {\n",
       "        vertical-align: top;\n",
       "    }\n",
       "\n",
       "    .dataframe thead th {\n",
       "        text-align: right;\n",
       "    }\n",
       "</style>\n",
       "<table border=\"1\" class=\"dataframe\">\n",
       "  <thead>\n",
       "    <tr style=\"text-align: right;\">\n",
       "      <th></th>\n",
       "      <th>index</th>\n",
       "      <th>count</th>\n",
       "      <th>hate_speech</th>\n",
       "      <th>offensive_language</th>\n",
       "      <th>neither</th>\n",
       "      <th>class</th>\n",
       "      <th>tweet</th>\n",
       "      <th>tweet_clean</th>\n",
       "      <th>tweet_lemma</th>\n",
       "      <th>tweet_nouns</th>\n",
       "      <th>tweet_sym</th>\n",
       "      <th>tweet_verbs</th>\n",
       "      <th>tweet_nv</th>\n",
       "      <th>num_tokens</th>\n",
       "      <th>tweet_no_others</th>\n",
       "      <th>mention_count</th>\n",
       "      <th>url_count</th>\n",
       "      <th>hashtag_count</th>\n",
       "    </tr>\n",
       "  </thead>\n",
       "  <tbody>\n",
       "    <tr>\n",
       "      <th>4</th>\n",
       "      <td>62</td>\n",
       "      <td>3</td>\n",
       "      <td>0</td>\n",
       "      <td>3</td>\n",
       "      <td>0</td>\n",
       "      <td>1</td>\n",
       "      <td>\"@ARIZZLEINDACUT: Females think dating a pussy...</td>\n",
       "      <td>mentionhere  females think dating a pussy is c...</td>\n",
       "      <td>female think date a pussy be cute now how do d...</td>\n",
       "      <td>mentionhere female pussy stuff pussy</td>\n",
       "      <td></td>\n",
       "      <td>think date urlhere do make</td>\n",
       "      <td>mentionhere female pussy stuff pussy think dat...</td>\n",
       "      <td>22.0</td>\n",
       "      <td>female think date a pussy be cute now how do d...</td>\n",
       "      <td>1</td>\n",
       "      <td>1</td>\n",
       "      <td>0</td>\n",
       "    </tr>\n",
       "    <tr>\n",
       "      <th>9</th>\n",
       "      <td>92</td>\n",
       "      <td>3</td>\n",
       "      <td>1</td>\n",
       "      <td>2</td>\n",
       "      <td>0</td>\n",
       "      <td>1</td>\n",
       "      <td>\"@CaelanG15: \"@22EdHam: @CaelanG15 that nigga ...</td>\n",
       "      <td>mentionhere   mentionhere  mentionhere that ni...</td>\n",
       "      <td>that nigga be eat that hoe lol hell yea lol jo...</td>\n",
       "      <td>mentionhere mentionhere mentionhere nigga hoe ...</td>\n",
       "      <td></td>\n",
       "      <td>eat say</td>\n",
       "      <td>mentionhere mentionhere mentionhere nigga hoe ...</td>\n",
       "      <td>25.0</td>\n",
       "      <td>that nigga be eat that hoe lol hell yea lol jo...</td>\n",
       "      <td>3</td>\n",
       "      <td>1</td>\n",
       "      <td>0</td>\n",
       "    </tr>\n",
       "    <tr>\n",
       "      <th>10</th>\n",
       "      <td>96</td>\n",
       "      <td>3</td>\n",
       "      <td>0</td>\n",
       "      <td>3</td>\n",
       "      <td>0</td>\n",
       "      <td>1</td>\n",
       "      <td>\"@CauseWereGuys: On my way to fuck yo bitch ht...</td>\n",
       "      <td>mentionhere  on my way to fuck yo bitch urlher...</td>\n",
       "      <td>on -PRON- way to fuck yo bitch -PRON- as a yea...</td>\n",
       "      <td>mentionhere way fuck yo bitch year</td>\n",
       "      <td></td>\n",
       "      <td></td>\n",
       "      <td>mentionhere way fuck yo bitch year</td>\n",
       "      <td>17.0</td>\n",
       "      <td>on -PRON- way to fuck yo bitch -PRON- as a yea...</td>\n",
       "      <td>1</td>\n",
       "      <td>1</td>\n",
       "      <td>0</td>\n",
       "    </tr>\n",
       "    <tr>\n",
       "      <th>12</th>\n",
       "      <td>110</td>\n",
       "      <td>3</td>\n",
       "      <td>3</td>\n",
       "      <td>0</td>\n",
       "      <td>0</td>\n",
       "      <td>0</td>\n",
       "      <td>\"@DevilGrimz: @VigxRArts you're fucking gay, b...</td>\n",
       "      <td>mentionhere  mentionhere you re fucking gay  b...</td>\n",
       "      <td>-PRON- re fuck gay blacklist hoe hold out for ...</td>\n",
       "      <td>mentionhere mentionhere hoe</td>\n",
       "      <td></td>\n",
       "      <td>re fuck blacklist hold</td>\n",
       "      <td>mentionhere mentionhere hoe re fuck blacklist ...</td>\n",
       "      <td>17.0</td>\n",
       "      <td>-PRON- re fuck gay blacklist hoe hold out for ...</td>\n",
       "      <td>2</td>\n",
       "      <td>1</td>\n",
       "      <td>1</td>\n",
       "    </tr>\n",
       "    <tr>\n",
       "      <th>17</th>\n",
       "      <td>184</td>\n",
       "      <td>3</td>\n",
       "      <td>3</td>\n",
       "      <td>0</td>\n",
       "      <td>0</td>\n",
       "      <td>0</td>\n",
       "      <td>\"@MarkRoundtreeJr: LMFAOOOO I HATE BLACK PEOPL...</td>\n",
       "      <td>mentionhere  lmfaoooo i hate black people urlh...</td>\n",
       "      <td>lmfaoooo i hate black people this be why there...</td>\n",
       "      <td>mentionhere lmfaoooo people people nigger</td>\n",
       "      <td></td>\n",
       "      <td>hate urlhere s</td>\n",
       "      <td>mentionhere lmfaoooo people people nigger hate...</td>\n",
       "      <td>18.0</td>\n",
       "      <td>lmfaoooo i hate black people this be why there...</td>\n",
       "      <td>1</td>\n",
       "      <td>1</td>\n",
       "      <td>0</td>\n",
       "    </tr>\n",
       "    <tr>\n",
       "      <th>...</th>\n",
       "      <td>...</td>\n",
       "      <td>...</td>\n",
       "      <td>...</td>\n",
       "      <td>...</td>\n",
       "      <td>...</td>\n",
       "      <td>...</td>\n",
       "      <td>...</td>\n",
       "      <td>...</td>\n",
       "      <td>...</td>\n",
       "      <td>...</td>\n",
       "      <td>...</td>\n",
       "      <td>...</td>\n",
       "      <td>...</td>\n",
       "      <td>...</td>\n",
       "      <td>...</td>\n",
       "      <td>...</td>\n",
       "      <td>...</td>\n",
       "      <td>...</td>\n",
       "    </tr>\n",
       "    <tr>\n",
       "      <th>2769</th>\n",
       "      <td>23897</td>\n",
       "      <td>3</td>\n",
       "      <td>2</td>\n",
       "      <td>1</td>\n",
       "      <td>0</td>\n",
       "      <td>0</td>\n",
       "      <td>harm this pussy instead RT @ABC7: missing 26-y...</td>\n",
       "      <td>harm this pussy instead rt mentionhere  missin...</td>\n",
       "      <td>harm this pussy instead miss yr old usc medica...</td>\n",
       "      <td>pussy mentionhere yr student tuesday</td>\n",
       "      <td></td>\n",
       "      <td>harm rt miss see may harm</td>\n",
       "      <td>pussy mentionhere yr student tuesday harm rt m...</td>\n",
       "      <td>21.0</td>\n",
       "      <td>harm this pussy instead miss yr old usc medica...</td>\n",
       "      <td>1</td>\n",
       "      <td>1</td>\n",
       "      <td>0</td>\n",
       "    </tr>\n",
       "    <tr>\n",
       "      <th>2787</th>\n",
       "      <td>24179</td>\n",
       "      <td>3</td>\n",
       "      <td>0</td>\n",
       "      <td>3</td>\n",
       "      <td>0</td>\n",
       "      <td>1</td>\n",
       "      <td>lol RT @_mykall: when you @ bae game &amp;amp; an ...</td>\n",
       "      <td>lol rt mentionhere  when you   bae game  amp  ...</td>\n",
       "      <td>lol when -PRON- bae game an unknown hoe scream...</td>\n",
       "      <td>lol rt mentionhere bae game amp hoe name loud ...</td>\n",
       "      <td></td>\n",
       "      <td>scream</td>\n",
       "      <td>lol rt mentionhere bae game amp hoe name loud ...</td>\n",
       "      <td>22.0</td>\n",
       "      <td>lol when -PRON- bae game an unknown hoe scream...</td>\n",
       "      <td>1</td>\n",
       "      <td>1</td>\n",
       "      <td>0</td>\n",
       "    </tr>\n",
       "    <tr>\n",
       "      <th>2804</th>\n",
       "      <td>24314</td>\n",
       "      <td>3</td>\n",
       "      <td>2</td>\n",
       "      <td>1</td>\n",
       "      <td>0</td>\n",
       "      <td>0</td>\n",
       "      <td>omg RT @SaddyBey: Fat bitch. What's her @? htt...</td>\n",
       "      <td>omg rt mentionhere  fat bitch  what s her    u...</td>\n",
       "      <td>omg fat bitch what s -PRON-</td>\n",
       "      <td>rt mentionhere fat bitch</td>\n",
       "      <td></td>\n",
       "      <td>s</td>\n",
       "      <td>rt mentionhere fat bitch s</td>\n",
       "      <td>12.0</td>\n",
       "      <td>omg fat bitch what s -PRON-</td>\n",
       "      <td>1</td>\n",
       "      <td>1</td>\n",
       "      <td>0</td>\n",
       "    </tr>\n",
       "    <tr>\n",
       "      <th>2814</th>\n",
       "      <td>24410</td>\n",
       "      <td>3</td>\n",
       "      <td>2</td>\n",
       "      <td>1</td>\n",
       "      <td>0</td>\n",
       "      <td>0</td>\n",
       "      <td>she pooted &amp;#8220;@Not1FuckisGiven: Either You...</td>\n",
       "      <td>she pooted    mentionhere  either young thug g...</td>\n",
       "      <td>-PRON- poote either young thug gay or this bit...</td>\n",
       "      <td>mentionhere thug gay bitch</td>\n",
       "      <td></td>\n",
       "      <td>poote poote</td>\n",
       "      <td>mentionhere thug gay bitch poote poote</td>\n",
       "      <td>15.0</td>\n",
       "      <td>-PRON- poote either young thug gay or this bit...</td>\n",
       "      <td>1</td>\n",
       "      <td>1</td>\n",
       "      <td>0</td>\n",
       "    </tr>\n",
       "    <tr>\n",
       "      <th>2827</th>\n",
       "      <td>24485</td>\n",
       "      <td>3</td>\n",
       "      <td>1</td>\n",
       "      <td>2</td>\n",
       "      <td>0</td>\n",
       "      <td>1</td>\n",
       "      <td>tears &amp;#8220;@TheDouch3: #RelationshipGoals RT...</td>\n",
       "      <td>tears    mentionhere  hashtaghere rt mentionhe...</td>\n",
       "      <td>tears don t call -PRON- sweetie -PRON- fucking...</td>\n",
       "      <td>tears mentionhere rt mentionhere mentionhere d...</td>\n",
       "      <td></td>\n",
       "      <td>call retard</td>\n",
       "      <td>tears mentionhere rt mentionhere mentionhere d...</td>\n",
       "      <td>16.0</td>\n",
       "      <td>tears don t call -PRON- sweetie -PRON- fucking...</td>\n",
       "      <td>3</td>\n",
       "      <td>0</td>\n",
       "      <td>1</td>\n",
       "    </tr>\n",
       "  </tbody>\n",
       "</table>\n",
       "<p>266 rows × 18 columns</p>\n",
       "</div>"
      ],
      "text/plain": [
       "      index  count  hate_speech  offensive_language  neither  class  \\\n",
       "4        62      3            0                   3        0      1   \n",
       "9        92      3            1                   2        0      1   \n",
       "10       96      3            0                   3        0      1   \n",
       "12      110      3            3                   0        0      0   \n",
       "17      184      3            3                   0        0      0   \n",
       "...     ...    ...          ...                 ...      ...    ...   \n",
       "2769  23897      3            2                   1        0      0   \n",
       "2787  24179      3            0                   3        0      1   \n",
       "2804  24314      3            2                   1        0      0   \n",
       "2814  24410      3            2                   1        0      0   \n",
       "2827  24485      3            1                   2        0      1   \n",
       "\n",
       "                                                  tweet  \\\n",
       "4     \"@ARIZZLEINDACUT: Females think dating a pussy...   \n",
       "9     \"@CaelanG15: \"@22EdHam: @CaelanG15 that nigga ...   \n",
       "10    \"@CauseWereGuys: On my way to fuck yo bitch ht...   \n",
       "12    \"@DevilGrimz: @VigxRArts you're fucking gay, b...   \n",
       "17    \"@MarkRoundtreeJr: LMFAOOOO I HATE BLACK PEOPL...   \n",
       "...                                                 ...   \n",
       "2769  harm this pussy instead RT @ABC7: missing 26-y...   \n",
       "2787  lol RT @_mykall: when you @ bae game &amp; an ...   \n",
       "2804  omg RT @SaddyBey: Fat bitch. What's her @? htt...   \n",
       "2814  she pooted &#8220;@Not1FuckisGiven: Either You...   \n",
       "2827  tears &#8220;@TheDouch3: #RelationshipGoals RT...   \n",
       "\n",
       "                                            tweet_clean  \\\n",
       "4     mentionhere  females think dating a pussy is c...   \n",
       "9     mentionhere   mentionhere  mentionhere that ni...   \n",
       "10    mentionhere  on my way to fuck yo bitch urlher...   \n",
       "12    mentionhere  mentionhere you re fucking gay  b...   \n",
       "17    mentionhere  lmfaoooo i hate black people urlh...   \n",
       "...                                                 ...   \n",
       "2769  harm this pussy instead rt mentionhere  missin...   \n",
       "2787  lol rt mentionhere  when you   bae game  amp  ...   \n",
       "2804  omg rt mentionhere  fat bitch  what s her    u...   \n",
       "2814  she pooted    mentionhere  either young thug g...   \n",
       "2827  tears    mentionhere  hashtaghere rt mentionhe...   \n",
       "\n",
       "                                            tweet_lemma  \\\n",
       "4     female think date a pussy be cute now how do d...   \n",
       "9     that nigga be eat that hoe lol hell yea lol jo...   \n",
       "10    on -PRON- way to fuck yo bitch -PRON- as a yea...   \n",
       "12    -PRON- re fuck gay blacklist hoe hold out for ...   \n",
       "17    lmfaoooo i hate black people this be why there...   \n",
       "...                                                 ...   \n",
       "2769  harm this pussy instead miss yr old usc medica...   \n",
       "2787  lol when -PRON- bae game an unknown hoe scream...   \n",
       "2804                        omg fat bitch what s -PRON-   \n",
       "2814  -PRON- poote either young thug gay or this bit...   \n",
       "2827  tears don t call -PRON- sweetie -PRON- fucking...   \n",
       "\n",
       "                                            tweet_nouns tweet_sym  \\\n",
       "4                  mentionhere female pussy stuff pussy             \n",
       "9     mentionhere mentionhere mentionhere nigga hoe ...             \n",
       "10                   mentionhere way fuck yo bitch year             \n",
       "12                          mentionhere mentionhere hoe             \n",
       "17            mentionhere lmfaoooo people people nigger             \n",
       "...                                                 ...       ...   \n",
       "2769               pussy mentionhere yr student tuesday             \n",
       "2787  lol rt mentionhere bae game amp hoe name loud ...             \n",
       "2804                           rt mentionhere fat bitch             \n",
       "2814                         mentionhere thug gay bitch             \n",
       "2827  tears mentionhere rt mentionhere mentionhere d...             \n",
       "\n",
       "                     tweet_verbs  \\\n",
       "4     think date urlhere do make   \n",
       "9                        eat say   \n",
       "10                                 \n",
       "12        re fuck blacklist hold   \n",
       "17                hate urlhere s   \n",
       "...                          ...   \n",
       "2769   harm rt miss see may harm   \n",
       "2787                      scream   \n",
       "2804                           s   \n",
       "2814                 poote poote   \n",
       "2827                 call retard   \n",
       "\n",
       "                                               tweet_nv  num_tokens  \\\n",
       "4     mentionhere female pussy stuff pussy think dat...        22.0   \n",
       "9     mentionhere mentionhere mentionhere nigga hoe ...        25.0   \n",
       "10                   mentionhere way fuck yo bitch year        17.0   \n",
       "12    mentionhere mentionhere hoe re fuck blacklist ...        17.0   \n",
       "17    mentionhere lmfaoooo people people nigger hate...        18.0   \n",
       "...                                                 ...         ...   \n",
       "2769  pussy mentionhere yr student tuesday harm rt m...        21.0   \n",
       "2787  lol rt mentionhere bae game amp hoe name loud ...        22.0   \n",
       "2804                         rt mentionhere fat bitch s        12.0   \n",
       "2814             mentionhere thug gay bitch poote poote        15.0   \n",
       "2827  tears mentionhere rt mentionhere mentionhere d...        16.0   \n",
       "\n",
       "                                        tweet_no_others  mention_count  \\\n",
       "4     female think date a pussy be cute now how do d...              1   \n",
       "9     that nigga be eat that hoe lol hell yea lol jo...              3   \n",
       "10    on -PRON- way to fuck yo bitch -PRON- as a yea...              1   \n",
       "12    -PRON- re fuck gay blacklist hoe hold out for ...              2   \n",
       "17    lmfaoooo i hate black people this be why there...              1   \n",
       "...                                                 ...            ...   \n",
       "2769  harm this pussy instead miss yr old usc medica...              1   \n",
       "2787  lol when -PRON- bae game an unknown hoe scream...              1   \n",
       "2804                        omg fat bitch what s -PRON-              1   \n",
       "2814  -PRON- poote either young thug gay or this bit...              1   \n",
       "2827  tears don t call -PRON- sweetie -PRON- fucking...              3   \n",
       "\n",
       "      url_count  hashtag_count  \n",
       "4             1              0  \n",
       "9             1              0  \n",
       "10            1              0  \n",
       "12            1              1  \n",
       "17            1              0  \n",
       "...         ...            ...  \n",
       "2769          1              0  \n",
       "2787          1              0  \n",
       "2804          1              0  \n",
       "2814          1              0  \n",
       "2827          0              1  \n",
       "\n",
       "[266 rows x 18 columns]"
      ]
     },
     "execution_count": 10,
     "metadata": {},
     "output_type": "execute_result"
    }
   ],
   "source": [
    "#just to check, find tweets with at least one of each count\n",
    "mention_bool = df['mention_count'] > 0\n",
    "url_bool = df['url_count'] > 0\n",
    "hashtag_bool = df['hashtag_count'] > 0\n",
    "\n",
    "df[mention_bool & url_bool | mention_bool & hashtag_bool | url_bool & hashtag_bool]"
   ]
  },
  {
   "cell_type": "markdown",
   "metadata": {},
   "source": [
    "I think more work needs to be done to ensure cleaning is correct but I will write the code for tfidf and ngrams below"
   ]
  },
  {
   "cell_type": "code",
   "execution_count": 11,
   "metadata": {},
   "outputs": [],
   "source": [
    "corpus = df['tweet_no_others']"
   ]
  },
  {
   "cell_type": "code",
   "execution_count": 12,
   "metadata": {},
   "outputs": [
    {
     "data": {
      "text/html": [
       "<div>\n",
       "<style scoped>\n",
       "    .dataframe tbody tr th:only-of-type {\n",
       "        vertical-align: middle;\n",
       "    }\n",
       "\n",
       "    .dataframe tbody tr th {\n",
       "        vertical-align: top;\n",
       "    }\n",
       "\n",
       "    .dataframe thead th {\n",
       "        text-align: right;\n",
       "    }\n",
       "</style>\n",
       "<table border=\"1\" class=\"dataframe\">\n",
       "  <thead>\n",
       "    <tr style=\"text-align: right;\">\n",
       "      <th></th>\n",
       "      <th>aa lol</th>\n",
       "      <th>aaaaaaaaand pron</th>\n",
       "      <th>aap be</th>\n",
       "      <th>aaron have</th>\n",
       "      <th>aaronmacgruder stuff</th>\n",
       "      <th>ab pron</th>\n",
       "      <th>ability to</th>\n",
       "      <th>abortion pron</th>\n",
       "      <th>about act</th>\n",
       "      <th>about after</th>\n",
       "      <th>...</th>\n",
       "      <th>zimmerman arrest</th>\n",
       "      <th>zimmerman as</th>\n",
       "      <th>zimmerman jury</th>\n",
       "      <th>zimmerman pron</th>\n",
       "      <th>zimmy attack</th>\n",
       "      <th>zionist be</th>\n",
       "      <th>zoe ask</th>\n",
       "      <th>zog or</th>\n",
       "      <th>zone radius</th>\n",
       "      <th>zoom in</th>\n",
       "    </tr>\n",
       "  </thead>\n",
       "  <tbody>\n",
       "    <tr>\n",
       "      <th>0</th>\n",
       "      <td>0</td>\n",
       "      <td>0</td>\n",
       "      <td>0</td>\n",
       "      <td>0</td>\n",
       "      <td>0</td>\n",
       "      <td>0</td>\n",
       "      <td>0</td>\n",
       "      <td>0</td>\n",
       "      <td>0</td>\n",
       "      <td>0</td>\n",
       "      <td>...</td>\n",
       "      <td>0</td>\n",
       "      <td>0</td>\n",
       "      <td>0</td>\n",
       "      <td>0</td>\n",
       "      <td>0</td>\n",
       "      <td>0</td>\n",
       "      <td>0</td>\n",
       "      <td>0</td>\n",
       "      <td>0</td>\n",
       "      <td>0</td>\n",
       "    </tr>\n",
       "    <tr>\n",
       "      <th>1</th>\n",
       "      <td>0</td>\n",
       "      <td>0</td>\n",
       "      <td>0</td>\n",
       "      <td>0</td>\n",
       "      <td>0</td>\n",
       "      <td>0</td>\n",
       "      <td>0</td>\n",
       "      <td>0</td>\n",
       "      <td>0</td>\n",
       "      <td>0</td>\n",
       "      <td>...</td>\n",
       "      <td>0</td>\n",
       "      <td>0</td>\n",
       "      <td>0</td>\n",
       "      <td>0</td>\n",
       "      <td>0</td>\n",
       "      <td>0</td>\n",
       "      <td>0</td>\n",
       "      <td>0</td>\n",
       "      <td>0</td>\n",
       "      <td>0</td>\n",
       "    </tr>\n",
       "    <tr>\n",
       "      <th>2</th>\n",
       "      <td>0</td>\n",
       "      <td>0</td>\n",
       "      <td>0</td>\n",
       "      <td>0</td>\n",
       "      <td>0</td>\n",
       "      <td>0</td>\n",
       "      <td>0</td>\n",
       "      <td>0</td>\n",
       "      <td>0</td>\n",
       "      <td>0</td>\n",
       "      <td>...</td>\n",
       "      <td>0</td>\n",
       "      <td>0</td>\n",
       "      <td>0</td>\n",
       "      <td>0</td>\n",
       "      <td>0</td>\n",
       "      <td>0</td>\n",
       "      <td>0</td>\n",
       "      <td>0</td>\n",
       "      <td>0</td>\n",
       "      <td>0</td>\n",
       "    </tr>\n",
       "    <tr>\n",
       "      <th>3</th>\n",
       "      <td>0</td>\n",
       "      <td>0</td>\n",
       "      <td>0</td>\n",
       "      <td>0</td>\n",
       "      <td>0</td>\n",
       "      <td>0</td>\n",
       "      <td>0</td>\n",
       "      <td>0</td>\n",
       "      <td>0</td>\n",
       "      <td>0</td>\n",
       "      <td>...</td>\n",
       "      <td>0</td>\n",
       "      <td>0</td>\n",
       "      <td>0</td>\n",
       "      <td>0</td>\n",
       "      <td>0</td>\n",
       "      <td>0</td>\n",
       "      <td>0</td>\n",
       "      <td>0</td>\n",
       "      <td>0</td>\n",
       "      <td>0</td>\n",
       "    </tr>\n",
       "    <tr>\n",
       "      <th>4</th>\n",
       "      <td>0</td>\n",
       "      <td>0</td>\n",
       "      <td>0</td>\n",
       "      <td>0</td>\n",
       "      <td>0</td>\n",
       "      <td>0</td>\n",
       "      <td>0</td>\n",
       "      <td>0</td>\n",
       "      <td>0</td>\n",
       "      <td>0</td>\n",
       "      <td>...</td>\n",
       "      <td>0</td>\n",
       "      <td>0</td>\n",
       "      <td>0</td>\n",
       "      <td>0</td>\n",
       "      <td>0</td>\n",
       "      <td>0</td>\n",
       "      <td>0</td>\n",
       "      <td>0</td>\n",
       "      <td>0</td>\n",
       "      <td>0</td>\n",
       "    </tr>\n",
       "    <tr>\n",
       "      <th>...</th>\n",
       "      <td>...</td>\n",
       "      <td>...</td>\n",
       "      <td>...</td>\n",
       "      <td>...</td>\n",
       "      <td>...</td>\n",
       "      <td>...</td>\n",
       "      <td>...</td>\n",
       "      <td>...</td>\n",
       "      <td>...</td>\n",
       "      <td>...</td>\n",
       "      <td>...</td>\n",
       "      <td>...</td>\n",
       "      <td>...</td>\n",
       "      <td>...</td>\n",
       "      <td>...</td>\n",
       "      <td>...</td>\n",
       "      <td>...</td>\n",
       "      <td>...</td>\n",
       "      <td>...</td>\n",
       "      <td>...</td>\n",
       "      <td>...</td>\n",
       "    </tr>\n",
       "    <tr>\n",
       "      <th>2855</th>\n",
       "      <td>0</td>\n",
       "      <td>0</td>\n",
       "      <td>0</td>\n",
       "      <td>0</td>\n",
       "      <td>0</td>\n",
       "      <td>0</td>\n",
       "      <td>0</td>\n",
       "      <td>0</td>\n",
       "      <td>0</td>\n",
       "      <td>0</td>\n",
       "      <td>...</td>\n",
       "      <td>0</td>\n",
       "      <td>0</td>\n",
       "      <td>0</td>\n",
       "      <td>0</td>\n",
       "      <td>0</td>\n",
       "      <td>0</td>\n",
       "      <td>0</td>\n",
       "      <td>0</td>\n",
       "      <td>0</td>\n",
       "      <td>0</td>\n",
       "    </tr>\n",
       "    <tr>\n",
       "      <th>2856</th>\n",
       "      <td>0</td>\n",
       "      <td>0</td>\n",
       "      <td>0</td>\n",
       "      <td>0</td>\n",
       "      <td>0</td>\n",
       "      <td>0</td>\n",
       "      <td>0</td>\n",
       "      <td>0</td>\n",
       "      <td>0</td>\n",
       "      <td>0</td>\n",
       "      <td>...</td>\n",
       "      <td>0</td>\n",
       "      <td>0</td>\n",
       "      <td>0</td>\n",
       "      <td>0</td>\n",
       "      <td>0</td>\n",
       "      <td>0</td>\n",
       "      <td>0</td>\n",
       "      <td>0</td>\n",
       "      <td>0</td>\n",
       "      <td>0</td>\n",
       "    </tr>\n",
       "    <tr>\n",
       "      <th>2857</th>\n",
       "      <td>0</td>\n",
       "      <td>0</td>\n",
       "      <td>0</td>\n",
       "      <td>0</td>\n",
       "      <td>0</td>\n",
       "      <td>0</td>\n",
       "      <td>0</td>\n",
       "      <td>0</td>\n",
       "      <td>0</td>\n",
       "      <td>0</td>\n",
       "      <td>...</td>\n",
       "      <td>0</td>\n",
       "      <td>0</td>\n",
       "      <td>0</td>\n",
       "      <td>0</td>\n",
       "      <td>0</td>\n",
       "      <td>0</td>\n",
       "      <td>0</td>\n",
       "      <td>0</td>\n",
       "      <td>0</td>\n",
       "      <td>0</td>\n",
       "    </tr>\n",
       "    <tr>\n",
       "      <th>2858</th>\n",
       "      <td>0</td>\n",
       "      <td>0</td>\n",
       "      <td>0</td>\n",
       "      <td>0</td>\n",
       "      <td>0</td>\n",
       "      <td>0</td>\n",
       "      <td>0</td>\n",
       "      <td>0</td>\n",
       "      <td>0</td>\n",
       "      <td>0</td>\n",
       "      <td>...</td>\n",
       "      <td>0</td>\n",
       "      <td>0</td>\n",
       "      <td>0</td>\n",
       "      <td>0</td>\n",
       "      <td>0</td>\n",
       "      <td>0</td>\n",
       "      <td>0</td>\n",
       "      <td>0</td>\n",
       "      <td>0</td>\n",
       "      <td>0</td>\n",
       "    </tr>\n",
       "    <tr>\n",
       "      <th>2859</th>\n",
       "      <td>0</td>\n",
       "      <td>0</td>\n",
       "      <td>0</td>\n",
       "      <td>0</td>\n",
       "      <td>0</td>\n",
       "      <td>0</td>\n",
       "      <td>0</td>\n",
       "      <td>0</td>\n",
       "      <td>0</td>\n",
       "      <td>0</td>\n",
       "      <td>...</td>\n",
       "      <td>0</td>\n",
       "      <td>0</td>\n",
       "      <td>0</td>\n",
       "      <td>0</td>\n",
       "      <td>0</td>\n",
       "      <td>0</td>\n",
       "      <td>0</td>\n",
       "      <td>0</td>\n",
       "      <td>0</td>\n",
       "      <td>0</td>\n",
       "    </tr>\n",
       "  </tbody>\n",
       "</table>\n",
       "<p>2860 rows × 18889 columns</p>\n",
       "</div>"
      ],
      "text/plain": [
       "      aa lol  aaaaaaaaand pron  aap be  aaron have  aaronmacgruder stuff  \\\n",
       "0          0                 0       0           0                     0   \n",
       "1          0                 0       0           0                     0   \n",
       "2          0                 0       0           0                     0   \n",
       "3          0                 0       0           0                     0   \n",
       "4          0                 0       0           0                     0   \n",
       "...      ...               ...     ...         ...                   ...   \n",
       "2855       0                 0       0           0                     0   \n",
       "2856       0                 0       0           0                     0   \n",
       "2857       0                 0       0           0                     0   \n",
       "2858       0                 0       0           0                     0   \n",
       "2859       0                 0       0           0                     0   \n",
       "\n",
       "      ab pron  ability to  abortion pron  about act  about after  ...  \\\n",
       "0           0           0              0          0            0  ...   \n",
       "1           0           0              0          0            0  ...   \n",
       "2           0           0              0          0            0  ...   \n",
       "3           0           0              0          0            0  ...   \n",
       "4           0           0              0          0            0  ...   \n",
       "...       ...         ...            ...        ...          ...  ...   \n",
       "2855        0           0              0          0            0  ...   \n",
       "2856        0           0              0          0            0  ...   \n",
       "2857        0           0              0          0            0  ...   \n",
       "2858        0           0              0          0            0  ...   \n",
       "2859        0           0              0          0            0  ...   \n",
       "\n",
       "      zimmerman arrest  zimmerman as  zimmerman jury  zimmerman pron  \\\n",
       "0                    0             0               0               0   \n",
       "1                    0             0               0               0   \n",
       "2                    0             0               0               0   \n",
       "3                    0             0               0               0   \n",
       "4                    0             0               0               0   \n",
       "...                ...           ...             ...             ...   \n",
       "2855                 0             0               0               0   \n",
       "2856                 0             0               0               0   \n",
       "2857                 0             0               0               0   \n",
       "2858                 0             0               0               0   \n",
       "2859                 0             0               0               0   \n",
       "\n",
       "      zimmy attack  zionist be  zoe ask  zog or  zone radius  zoom in  \n",
       "0                0           0        0       0            0        0  \n",
       "1                0           0        0       0            0        0  \n",
       "2                0           0        0       0            0        0  \n",
       "3                0           0        0       0            0        0  \n",
       "4                0           0        0       0            0        0  \n",
       "...            ...         ...      ...     ...          ...      ...  \n",
       "2855             0           0        0       0            0        0  \n",
       "2856             0           0        0       0            0        0  \n",
       "2857             0           0        0       0            0        0  \n",
       "2858             0           0        0       0            0        0  \n",
       "2859             0           0        0       0            0        0  \n",
       "\n",
       "[2860 rows x 18889 columns]"
      ]
     },
     "execution_count": 12,
     "metadata": {},
     "output_type": "execute_result"
    }
   ],
   "source": [
    "from sklearn.feature_extraction.text import CountVectorizer\n",
    "\n",
    "ngram = CountVectorizer(ngram_range=(2,2))\n",
    "ngram_matrix = ngram.fit_transform(corpus)\n",
    "\n",
    "ngram_matrix = ngram_matrix.toarray()\n",
    "vocab = ngram.get_feature_names()\n",
    "ngrams_df = pd.DataFrame(ngram_matrix, columns=vocab)\n",
    "ngrams_df"
   ]
  },
  {
   "cell_type": "code",
   "execution_count": 13,
   "metadata": {},
   "outputs": [],
   "source": [
    "ngrams_df['class'] = df['class']"
   ]
  },
  {
   "cell_type": "code",
   "execution_count": 14,
   "metadata": {},
   "outputs": [],
   "source": [
    "ngrams_offensive = ngrams_df[ngrams_df['class'] == 1]\n",
    "ngrams_hate = ngrams_df[ngrams_df['class'] == 0]\n",
    "ngrams_offensive = ngrams_offensive.drop('class', axis='columns')\n",
    "ngrams_hate = ngrams_hate.drop('class', axis='columns')"
   ]
  },
  {
   "cell_type": "code",
   "execution_count": 15,
   "metadata": {},
   "outputs": [
    {
     "data": {
      "text/plain": [
       "<AxesSubplot:>"
      ]
     },
     "execution_count": 15,
     "metadata": {},
     "output_type": "execute_result"
    },
    {
     "data": {
      "image/png": "[encoded data removed]",
      "text/plain": [
       "<Figure size 432x288 with 1 Axes>"
      ]
     },
     "metadata": {
      "needs_background": "light"
     },
     "output_type": "display_data"
    }
   ],
   "source": [
    "ng_count_off=ngrams_offensive.sum()\n",
    "ng_off_largest = ng_count_off.nlargest(20)\n",
    "ng_off_largest.plot(kind='bar')"
   ]
  },
  {
   "cell_type": "code",
   "execution_count": 16,
   "metadata": {},
   "outputs": [
    {
     "data": {
      "text/plain": [
       "<AxesSubplot:>"
      ]
     },
     "execution_count": 16,
     "metadata": {},
     "output_type": "execute_result"
    },
    {
     "data": {
      "image/png": "[encoded data removed]",
      "text/plain": [
       "<Figure size 432x288 with 1 Axes>"
      ]
     },
     "metadata": {
      "needs_background": "light"
     },
     "output_type": "display_data"
    }
   ],
   "source": [
    "ng_count_hate=ngrams_hate.sum()\n",
    "ng_hate_largest = ng_count_hate.nlargest(20)\n",
    "ng_hate_largest.plot(kind='bar')"
   ]
  },
  {
   "cell_type": "code",
   "execution_count": 19,
   "metadata": {},
   "outputs": [
    {
     "data": {
      "text/html": [
       "<div>\n",
       "<style scoped>\n",
       "    .dataframe tbody tr th:only-of-type {\n",
       "        vertical-align: middle;\n",
       "    }\n",
       "\n",
       "    .dataframe tbody tr th {\n",
       "        vertical-align: top;\n",
       "    }\n",
       "\n",
       "    .dataframe thead th {\n",
       "        text-align: right;\n",
       "    }\n",
       "</style>\n",
       "<table border=\"1\" class=\"dataframe\">\n",
       "  <thead>\n",
       "    <tr style=\"text-align: right;\">\n",
       "      <th></th>\n",
       "      <th>aaaaaaaaand pron begin</th>\n",
       "      <th>aap be maoist</th>\n",
       "      <th>aaron have pron</th>\n",
       "      <th>aaronmacgruder stuff blow</th>\n",
       "      <th>ability to block</th>\n",
       "      <th>abortion pron get</th>\n",
       "      <th>about act pron</th>\n",
       "      <th>about age typical</th>\n",
       "      <th>about all eyebrow</th>\n",
       "      <th>about and coulda</th>\n",
       "      <th>...</th>\n",
       "      <th>zimmerman arrest do</th>\n",
       "      <th>zimmerman as creepy</th>\n",
       "      <th>zimmerman jury ggas</th>\n",
       "      <th>zimmerman pron comin</th>\n",
       "      <th>zimmy attack traytray</th>\n",
       "      <th>zionist be codeword</th>\n",
       "      <th>zoe ask account</th>\n",
       "      <th>zog or the</th>\n",
       "      <th>zone radius around</th>\n",
       "      <th>zoom in pron</th>\n",
       "    </tr>\n",
       "  </thead>\n",
       "  <tbody>\n",
       "    <tr>\n",
       "      <th>0</th>\n",
       "      <td>0</td>\n",
       "      <td>0</td>\n",
       "      <td>0</td>\n",
       "      <td>0</td>\n",
       "      <td>0</td>\n",
       "      <td>0</td>\n",
       "      <td>0</td>\n",
       "      <td>0</td>\n",
       "      <td>0</td>\n",
       "      <td>0</td>\n",
       "      <td>...</td>\n",
       "      <td>0</td>\n",
       "      <td>0</td>\n",
       "      <td>0</td>\n",
       "      <td>0</td>\n",
       "      <td>0</td>\n",
       "      <td>0</td>\n",
       "      <td>0</td>\n",
       "      <td>0</td>\n",
       "      <td>0</td>\n",
       "      <td>0</td>\n",
       "    </tr>\n",
       "    <tr>\n",
       "      <th>1</th>\n",
       "      <td>0</td>\n",
       "      <td>0</td>\n",
       "      <td>0</td>\n",
       "      <td>0</td>\n",
       "      <td>0</td>\n",
       "      <td>0</td>\n",
       "      <td>0</td>\n",
       "      <td>0</td>\n",
       "      <td>0</td>\n",
       "      <td>0</td>\n",
       "      <td>...</td>\n",
       "      <td>0</td>\n",
       "      <td>0</td>\n",
       "      <td>0</td>\n",
       "      <td>0</td>\n",
       "      <td>0</td>\n",
       "      <td>0</td>\n",
       "      <td>0</td>\n",
       "      <td>0</td>\n",
       "      <td>0</td>\n",
       "      <td>0</td>\n",
       "    </tr>\n",
       "    <tr>\n",
       "      <th>2</th>\n",
       "      <td>0</td>\n",
       "      <td>0</td>\n",
       "      <td>0</td>\n",
       "      <td>0</td>\n",
       "      <td>0</td>\n",
       "      <td>0</td>\n",
       "      <td>0</td>\n",
       "      <td>0</td>\n",
       "      <td>0</td>\n",
       "      <td>0</td>\n",
       "      <td>...</td>\n",
       "      <td>0</td>\n",
       "      <td>0</td>\n",
       "      <td>0</td>\n",
       "      <td>0</td>\n",
       "      <td>0</td>\n",
       "      <td>0</td>\n",
       "      <td>0</td>\n",
       "      <td>0</td>\n",
       "      <td>0</td>\n",
       "      <td>0</td>\n",
       "    </tr>\n",
       "    <tr>\n",
       "      <th>3</th>\n",
       "      <td>0</td>\n",
       "      <td>0</td>\n",
       "      <td>0</td>\n",
       "      <td>0</td>\n",
       "      <td>0</td>\n",
       "      <td>0</td>\n",
       "      <td>0</td>\n",
       "      <td>0</td>\n",
       "      <td>0</td>\n",
       "      <td>0</td>\n",
       "      <td>...</td>\n",
       "      <td>0</td>\n",
       "      <td>0</td>\n",
       "      <td>0</td>\n",
       "      <td>0</td>\n",
       "      <td>0</td>\n",
       "      <td>0</td>\n",
       "      <td>0</td>\n",
       "      <td>0</td>\n",
       "      <td>0</td>\n",
       "      <td>0</td>\n",
       "    </tr>\n",
       "    <tr>\n",
       "      <th>4</th>\n",
       "      <td>0</td>\n",
       "      <td>0</td>\n",
       "      <td>0</td>\n",
       "      <td>0</td>\n",
       "      <td>0</td>\n",
       "      <td>0</td>\n",
       "      <td>0</td>\n",
       "      <td>0</td>\n",
       "      <td>0</td>\n",
       "      <td>0</td>\n",
       "      <td>...</td>\n",
       "      <td>0</td>\n",
       "      <td>0</td>\n",
       "      <td>0</td>\n",
       "      <td>0</td>\n",
       "      <td>0</td>\n",
       "      <td>0</td>\n",
       "      <td>0</td>\n",
       "      <td>0</td>\n",
       "      <td>0</td>\n",
       "      <td>0</td>\n",
       "    </tr>\n",
       "    <tr>\n",
       "      <th>...</th>\n",
       "      <td>...</td>\n",
       "      <td>...</td>\n",
       "      <td>...</td>\n",
       "      <td>...</td>\n",
       "      <td>...</td>\n",
       "      <td>...</td>\n",
       "      <td>...</td>\n",
       "      <td>...</td>\n",
       "      <td>...</td>\n",
       "      <td>...</td>\n",
       "      <td>...</td>\n",
       "      <td>...</td>\n",
       "      <td>...</td>\n",
       "      <td>...</td>\n",
       "      <td>...</td>\n",
       "      <td>...</td>\n",
       "      <td>...</td>\n",
       "      <td>...</td>\n",
       "      <td>...</td>\n",
       "      <td>...</td>\n",
       "      <td>...</td>\n",
       "    </tr>\n",
       "    <tr>\n",
       "      <th>2855</th>\n",
       "      <td>0</td>\n",
       "      <td>0</td>\n",
       "      <td>0</td>\n",
       "      <td>0</td>\n",
       "      <td>0</td>\n",
       "      <td>0</td>\n",
       "      <td>0</td>\n",
       "      <td>0</td>\n",
       "      <td>0</td>\n",
       "      <td>0</td>\n",
       "      <td>...</td>\n",
       "      <td>0</td>\n",
       "      <td>0</td>\n",
       "      <td>0</td>\n",
       "      <td>0</td>\n",
       "      <td>0</td>\n",
       "      <td>0</td>\n",
       "      <td>0</td>\n",
       "      <td>0</td>\n",
       "      <td>0</td>\n",
       "      <td>0</td>\n",
       "    </tr>\n",
       "    <tr>\n",
       "      <th>2856</th>\n",
       "      <td>0</td>\n",
       "      <td>0</td>\n",
       "      <td>0</td>\n",
       "      <td>0</td>\n",
       "      <td>0</td>\n",
       "      <td>0</td>\n",
       "      <td>0</td>\n",
       "      <td>0</td>\n",
       "      <td>0</td>\n",
       "      <td>0</td>\n",
       "      <td>...</td>\n",
       "      <td>0</td>\n",
       "      <td>0</td>\n",
       "      <td>0</td>\n",
       "      <td>0</td>\n",
       "      <td>0</td>\n",
       "      <td>0</td>\n",
       "      <td>0</td>\n",
       "      <td>0</td>\n",
       "      <td>0</td>\n",
       "      <td>0</td>\n",
       "    </tr>\n",
       "    <tr>\n",
       "      <th>2857</th>\n",
       "      <td>0</td>\n",
       "      <td>0</td>\n",
       "      <td>0</td>\n",
       "      <td>0</td>\n",
       "      <td>0</td>\n",
       "      <td>0</td>\n",
       "      <td>0</td>\n",
       "      <td>0</td>\n",
       "      <td>0</td>\n",
       "      <td>0</td>\n",
       "      <td>...</td>\n",
       "      <td>0</td>\n",
       "      <td>0</td>\n",
       "      <td>0</td>\n",
       "      <td>0</td>\n",
       "      <td>0</td>\n",
       "      <td>0</td>\n",
       "      <td>0</td>\n",
       "      <td>0</td>\n",
       "      <td>0</td>\n",
       "      <td>0</td>\n",
       "    </tr>\n",
       "    <tr>\n",
       "      <th>2858</th>\n",
       "      <td>0</td>\n",
       "      <td>0</td>\n",
       "      <td>0</td>\n",
       "      <td>0</td>\n",
       "      <td>0</td>\n",
       "      <td>0</td>\n",
       "      <td>0</td>\n",
       "      <td>0</td>\n",
       "      <td>0</td>\n",
       "      <td>0</td>\n",
       "      <td>...</td>\n",
       "      <td>0</td>\n",
       "      <td>0</td>\n",
       "      <td>0</td>\n",
       "      <td>0</td>\n",
       "      <td>0</td>\n",
       "      <td>0</td>\n",
       "      <td>0</td>\n",
       "      <td>0</td>\n",
       "      <td>0</td>\n",
       "      <td>0</td>\n",
       "    </tr>\n",
       "    <tr>\n",
       "      <th>2859</th>\n",
       "      <td>0</td>\n",
       "      <td>0</td>\n",
       "      <td>0</td>\n",
       "      <td>0</td>\n",
       "      <td>0</td>\n",
       "      <td>0</td>\n",
       "      <td>0</td>\n",
       "      <td>0</td>\n",
       "      <td>0</td>\n",
       "      <td>0</td>\n",
       "      <td>...</td>\n",
       "      <td>0</td>\n",
       "      <td>0</td>\n",
       "      <td>0</td>\n",
       "      <td>0</td>\n",
       "      <td>0</td>\n",
       "      <td>0</td>\n",
       "      <td>0</td>\n",
       "      <td>0</td>\n",
       "      <td>0</td>\n",
       "      <td>0</td>\n",
       "    </tr>\n",
       "  </tbody>\n",
       "</table>\n",
       "<p>2860 rows × 25719 columns</p>\n",
       "</div>"
      ],
      "text/plain": [
       "      aaaaaaaaand pron begin  aap be maoist  aaron have pron  \\\n",
       "0                          0              0                0   \n",
       "1                          0              0                0   \n",
       "2                          0              0                0   \n",
       "3                          0              0                0   \n",
       "4                          0              0                0   \n",
       "...                      ...            ...              ...   \n",
       "2855                       0              0                0   \n",
       "2856                       0              0                0   \n",
       "2857                       0              0                0   \n",
       "2858                       0              0                0   \n",
       "2859                       0              0                0   \n",
       "\n",
       "      aaronmacgruder stuff blow  ability to block  abortion pron get  \\\n",
       "0                             0                 0                  0   \n",
       "1                             0                 0                  0   \n",
       "2                             0                 0                  0   \n",
       "3                             0                 0                  0   \n",
       "4                             0                 0                  0   \n",
       "...                         ...               ...                ...   \n",
       "2855                          0                 0                  0   \n",
       "2856                          0                 0                  0   \n",
       "2857                          0                 0                  0   \n",
       "2858                          0                 0                  0   \n",
       "2859                          0                 0                  0   \n",
       "\n",
       "      about act pron  about age typical  about all eyebrow  about and coulda  \\\n",
       "0                  0                  0                  0                 0   \n",
       "1                  0                  0                  0                 0   \n",
       "2                  0                  0                  0                 0   \n",
       "3                  0                  0                  0                 0   \n",
       "4                  0                  0                  0                 0   \n",
       "...              ...                ...                ...               ...   \n",
       "2855               0                  0                  0                 0   \n",
       "2856               0                  0                  0                 0   \n",
       "2857               0                  0                  0                 0   \n",
       "2858               0                  0                  0                 0   \n",
       "2859               0                  0                  0                 0   \n",
       "\n",
       "      ...  zimmerman arrest do  zimmerman as creepy  zimmerman jury ggas  \\\n",
       "0     ...                    0                    0                    0   \n",
       "1     ...                    0                    0                    0   \n",
       "2     ...                    0                    0                    0   \n",
       "3     ...                    0                    0                    0   \n",
       "4     ...                    0                    0                    0   \n",
       "...   ...                  ...                  ...                  ...   \n",
       "2855  ...                    0                    0                    0   \n",
       "2856  ...                    0                    0                    0   \n",
       "2857  ...                    0                    0                    0   \n",
       "2858  ...                    0                    0                    0   \n",
       "2859  ...                    0                    0                    0   \n",
       "\n",
       "      zimmerman pron comin  zimmy attack traytray  zionist be codeword  \\\n",
       "0                        0                      0                    0   \n",
       "1                        0                      0                    0   \n",
       "2                        0                      0                    0   \n",
       "3                        0                      0                    0   \n",
       "4                        0                      0                    0   \n",
       "...                    ...                    ...                  ...   \n",
       "2855                     0                      0                    0   \n",
       "2856                     0                      0                    0   \n",
       "2857                     0                      0                    0   \n",
       "2858                     0                      0                    0   \n",
       "2859                     0                      0                    0   \n",
       "\n",
       "      zoe ask account  zog or the  zone radius around  zoom in pron  \n",
       "0                   0           0                   0             0  \n",
       "1                   0           0                   0             0  \n",
       "2                   0           0                   0             0  \n",
       "3                   0           0                   0             0  \n",
       "4                   0           0                   0             0  \n",
       "...               ...         ...                 ...           ...  \n",
       "2855                0           0                   0             0  \n",
       "2856                0           0                   0             0  \n",
       "2857                0           0                   0             0  \n",
       "2858                0           0                   0             0  \n",
       "2859                0           0                   0             0  \n",
       "\n",
       "[2860 rows x 25719 columns]"
      ]
     },
     "execution_count": 19,
     "metadata": {},
     "output_type": "execute_result"
    }
   ],
   "source": [
    "ngram_3 = CountVectorizer(ngram_range=(3,3))\n",
    "ngram_3_matrix = ngram_3.fit_transform(corpus)\n",
    "\n",
    "ngram_3_matrix = ngram_3_matrix.toarray()\n",
    "vocab = ngram_3.get_feature_names()\n",
    "ngrams_3_df = pd.DataFrame(ngram_3_matrix, columns=vocab)\n",
    "ngrams_3_df"
   ]
  },
  {
   "cell_type": "code",
   "execution_count": 20,
   "metadata": {},
   "outputs": [],
   "source": [
    "ngrams_3_df['class'] = df['class']"
   ]
  },
  {
   "cell_type": "code",
   "execution_count": 21,
   "metadata": {},
   "outputs": [],
   "source": [
    "ngrams_3_offensive = ngrams_3_df[ngrams_df['class'] == 1]\n",
    "ngrams_3_hate = ngrams_3_df[ngrams_df['class'] == 0]\n",
    "ngrams_3_offensive = ngrams_3_offensive.drop('class', axis='columns')\n",
    "ngrams_3_hate = ngrams_3_hate.drop('class', axis='columns')"
   ]
  },
  {
   "cell_type": "code",
   "execution_count": 22,
   "metadata": {},
   "outputs": [
    {
     "data": {
      "text/plain": [
       "<AxesSubplot:>"
      ]
     },
     "execution_count": 22,
     "metadata": {},
     "output_type": "execute_result"
    },
    {
     "data": {
      "image/png": "[encoded data removed]",
      "text/plain": [
       "<Figure size 432x288 with 1 Axes>"
      ]
     },
     "metadata": {
      "needs_background": "light"
     },
     "output_type": "display_data"
    }
   ],
   "source": [
    "ng3_count_off=ngrams_3_offensive.sum()\n",
    "ng3_off_largest = ng3_count_off.nlargest(20)\n",
    "ng3_off_largest.plot(kind='bar')"
   ]
  },
  {
   "cell_type": "code",
   "execution_count": 24,
   "metadata": {},
   "outputs": [
    {
     "data": {
      "text/plain": [
       "<AxesSubplot:>"
      ]
     },
     "execution_count": 24,
     "metadata": {},
     "output_type": "execute_result"
    },
    {
     "data": {
      "image/png": "[encoded data removed]",
      "text/plain": [
       "<Figure size 432x288 with 1 Axes>"
      ]
     },
     "metadata": {
      "needs_background": "light"
     },
     "output_type": "display_data"
    }
   ],
   "source": [
    "ng3_count_hate=ngrams_3_hate.sum()\n",
    "ng3_hate_largest = ng3_count_hate.nlargest(20)\n",
    "ng3_hate_largest.plot(kind='bar')"
   ]
  },
  {
   "cell_type": "code",
   "execution_count": 25,
   "metadata": {},
   "outputs": [
    {
     "data": {
      "text/html": [
       "<div>\n",
       "<style scoped>\n",
       "    .dataframe tbody tr th:only-of-type {\n",
       "        vertical-align: middle;\n",
       "    }\n",
       "\n",
       "    .dataframe tbody tr th {\n",
       "        vertical-align: top;\n",
       "    }\n",
       "\n",
       "    .dataframe thead th {\n",
       "        text-align: right;\n",
       "    }\n",
       "</style>\n",
       "<table border=\"1\" class=\"dataframe\">\n",
       "  <thead>\n",
       "    <tr style=\"text-align: right;\">\n",
       "      <th></th>\n",
       "      <th>aa</th>\n",
       "      <th>aaaaaaaaand</th>\n",
       "      <th>aap</th>\n",
       "      <th>aaron</th>\n",
       "      <th>aaronmacgruder</th>\n",
       "      <th>ab</th>\n",
       "      <th>ability</th>\n",
       "      <th>abortion</th>\n",
       "      <th>about</th>\n",
       "      <th>above</th>\n",
       "      <th>...</th>\n",
       "      <th>zimmerman</th>\n",
       "      <th>zimmy</th>\n",
       "      <th>zion</th>\n",
       "      <th>zionist</th>\n",
       "      <th>zipperhead</th>\n",
       "      <th>zoe</th>\n",
       "      <th>zog</th>\n",
       "      <th>zone</th>\n",
       "      <th>zoom</th>\n",
       "      <th>zzzzzz</th>\n",
       "    </tr>\n",
       "  </thead>\n",
       "  <tbody>\n",
       "    <tr>\n",
       "      <th>0</th>\n",
       "      <td>0.0</td>\n",
       "      <td>0.0</td>\n",
       "      <td>0.0</td>\n",
       "      <td>0.0</td>\n",
       "      <td>0.0</td>\n",
       "      <td>0.0</td>\n",
       "      <td>0.0</td>\n",
       "      <td>0.0</td>\n",
       "      <td>0.0</td>\n",
       "      <td>0.0</td>\n",
       "      <td>...</td>\n",
       "      <td>0.0</td>\n",
       "      <td>0.0</td>\n",
       "      <td>0.0</td>\n",
       "      <td>0.0</td>\n",
       "      <td>0.0</td>\n",
       "      <td>0.0</td>\n",
       "      <td>0.0</td>\n",
       "      <td>0.0</td>\n",
       "      <td>0.0</td>\n",
       "      <td>0.0</td>\n",
       "    </tr>\n",
       "    <tr>\n",
       "      <th>1</th>\n",
       "      <td>0.0</td>\n",
       "      <td>0.0</td>\n",
       "      <td>0.0</td>\n",
       "      <td>0.0</td>\n",
       "      <td>0.0</td>\n",
       "      <td>0.0</td>\n",
       "      <td>0.0</td>\n",
       "      <td>0.0</td>\n",
       "      <td>0.0</td>\n",
       "      <td>0.0</td>\n",
       "      <td>...</td>\n",
       "      <td>0.0</td>\n",
       "      <td>0.0</td>\n",
       "      <td>0.0</td>\n",
       "      <td>0.0</td>\n",
       "      <td>0.0</td>\n",
       "      <td>0.0</td>\n",
       "      <td>0.0</td>\n",
       "      <td>0.0</td>\n",
       "      <td>0.0</td>\n",
       "      <td>0.0</td>\n",
       "    </tr>\n",
       "    <tr>\n",
       "      <th>2</th>\n",
       "      <td>0.0</td>\n",
       "      <td>0.0</td>\n",
       "      <td>0.0</td>\n",
       "      <td>0.0</td>\n",
       "      <td>0.0</td>\n",
       "      <td>0.0</td>\n",
       "      <td>0.0</td>\n",
       "      <td>0.0</td>\n",
       "      <td>0.0</td>\n",
       "      <td>0.0</td>\n",
       "      <td>...</td>\n",
       "      <td>0.0</td>\n",
       "      <td>0.0</td>\n",
       "      <td>0.0</td>\n",
       "      <td>0.0</td>\n",
       "      <td>0.0</td>\n",
       "      <td>0.0</td>\n",
       "      <td>0.0</td>\n",
       "      <td>0.0</td>\n",
       "      <td>0.0</td>\n",
       "      <td>0.0</td>\n",
       "    </tr>\n",
       "    <tr>\n",
       "      <th>3</th>\n",
       "      <td>0.0</td>\n",
       "      <td>0.0</td>\n",
       "      <td>0.0</td>\n",
       "      <td>0.0</td>\n",
       "      <td>0.0</td>\n",
       "      <td>0.0</td>\n",
       "      <td>0.0</td>\n",
       "      <td>0.0</td>\n",
       "      <td>0.0</td>\n",
       "      <td>0.0</td>\n",
       "      <td>...</td>\n",
       "      <td>0.0</td>\n",
       "      <td>0.0</td>\n",
       "      <td>0.0</td>\n",
       "      <td>0.0</td>\n",
       "      <td>0.0</td>\n",
       "      <td>0.0</td>\n",
       "      <td>0.0</td>\n",
       "      <td>0.0</td>\n",
       "      <td>0.0</td>\n",
       "      <td>0.0</td>\n",
       "    </tr>\n",
       "    <tr>\n",
       "      <th>4</th>\n",
       "      <td>0.0</td>\n",
       "      <td>0.0</td>\n",
       "      <td>0.0</td>\n",
       "      <td>0.0</td>\n",
       "      <td>0.0</td>\n",
       "      <td>0.0</td>\n",
       "      <td>0.0</td>\n",
       "      <td>0.0</td>\n",
       "      <td>0.0</td>\n",
       "      <td>0.0</td>\n",
       "      <td>...</td>\n",
       "      <td>0.0</td>\n",
       "      <td>0.0</td>\n",
       "      <td>0.0</td>\n",
       "      <td>0.0</td>\n",
       "      <td>0.0</td>\n",
       "      <td>0.0</td>\n",
       "      <td>0.0</td>\n",
       "      <td>0.0</td>\n",
       "      <td>0.0</td>\n",
       "      <td>0.0</td>\n",
       "    </tr>\n",
       "    <tr>\n",
       "      <th>...</th>\n",
       "      <td>...</td>\n",
       "      <td>...</td>\n",
       "      <td>...</td>\n",
       "      <td>...</td>\n",
       "      <td>...</td>\n",
       "      <td>...</td>\n",
       "      <td>...</td>\n",
       "      <td>...</td>\n",
       "      <td>...</td>\n",
       "      <td>...</td>\n",
       "      <td>...</td>\n",
       "      <td>...</td>\n",
       "      <td>...</td>\n",
       "      <td>...</td>\n",
       "      <td>...</td>\n",
       "      <td>...</td>\n",
       "      <td>...</td>\n",
       "      <td>...</td>\n",
       "      <td>...</td>\n",
       "      <td>...</td>\n",
       "      <td>...</td>\n",
       "    </tr>\n",
       "    <tr>\n",
       "      <th>2855</th>\n",
       "      <td>0.0</td>\n",
       "      <td>0.0</td>\n",
       "      <td>0.0</td>\n",
       "      <td>0.0</td>\n",
       "      <td>0.0</td>\n",
       "      <td>0.0</td>\n",
       "      <td>0.0</td>\n",
       "      <td>0.0</td>\n",
       "      <td>0.4</td>\n",
       "      <td>0.0</td>\n",
       "      <td>...</td>\n",
       "      <td>0.0</td>\n",
       "      <td>0.0</td>\n",
       "      <td>0.0</td>\n",
       "      <td>0.0</td>\n",
       "      <td>0.0</td>\n",
       "      <td>0.0</td>\n",
       "      <td>0.0</td>\n",
       "      <td>0.0</td>\n",
       "      <td>0.0</td>\n",
       "      <td>0.0</td>\n",
       "    </tr>\n",
       "    <tr>\n",
       "      <th>2856</th>\n",
       "      <td>0.0</td>\n",
       "      <td>0.0</td>\n",
       "      <td>0.0</td>\n",
       "      <td>0.0</td>\n",
       "      <td>0.0</td>\n",
       "      <td>0.0</td>\n",
       "      <td>0.0</td>\n",
       "      <td>0.0</td>\n",
       "      <td>0.0</td>\n",
       "      <td>0.0</td>\n",
       "      <td>...</td>\n",
       "      <td>0.0</td>\n",
       "      <td>0.0</td>\n",
       "      <td>0.0</td>\n",
       "      <td>0.0</td>\n",
       "      <td>0.0</td>\n",
       "      <td>0.0</td>\n",
       "      <td>0.0</td>\n",
       "      <td>0.0</td>\n",
       "      <td>0.0</td>\n",
       "      <td>0.0</td>\n",
       "    </tr>\n",
       "    <tr>\n",
       "      <th>2857</th>\n",
       "      <td>0.0</td>\n",
       "      <td>0.0</td>\n",
       "      <td>0.0</td>\n",
       "      <td>0.0</td>\n",
       "      <td>0.0</td>\n",
       "      <td>0.0</td>\n",
       "      <td>0.0</td>\n",
       "      <td>0.0</td>\n",
       "      <td>0.0</td>\n",
       "      <td>0.0</td>\n",
       "      <td>...</td>\n",
       "      <td>0.0</td>\n",
       "      <td>0.0</td>\n",
       "      <td>0.0</td>\n",
       "      <td>0.0</td>\n",
       "      <td>0.0</td>\n",
       "      <td>0.0</td>\n",
       "      <td>0.0</td>\n",
       "      <td>0.0</td>\n",
       "      <td>0.0</td>\n",
       "      <td>0.0</td>\n",
       "    </tr>\n",
       "    <tr>\n",
       "      <th>2858</th>\n",
       "      <td>0.0</td>\n",
       "      <td>0.0</td>\n",
       "      <td>0.0</td>\n",
       "      <td>0.0</td>\n",
       "      <td>0.0</td>\n",
       "      <td>0.0</td>\n",
       "      <td>0.0</td>\n",
       "      <td>0.0</td>\n",
       "      <td>0.0</td>\n",
       "      <td>0.0</td>\n",
       "      <td>...</td>\n",
       "      <td>0.0</td>\n",
       "      <td>0.0</td>\n",
       "      <td>0.0</td>\n",
       "      <td>0.0</td>\n",
       "      <td>0.0</td>\n",
       "      <td>0.0</td>\n",
       "      <td>0.0</td>\n",
       "      <td>0.0</td>\n",
       "      <td>0.0</td>\n",
       "      <td>0.0</td>\n",
       "    </tr>\n",
       "    <tr>\n",
       "      <th>2859</th>\n",
       "      <td>0.0</td>\n",
       "      <td>0.0</td>\n",
       "      <td>0.0</td>\n",
       "      <td>0.0</td>\n",
       "      <td>0.0</td>\n",
       "      <td>0.0</td>\n",
       "      <td>0.0</td>\n",
       "      <td>0.0</td>\n",
       "      <td>0.0</td>\n",
       "      <td>0.0</td>\n",
       "      <td>...</td>\n",
       "      <td>0.0</td>\n",
       "      <td>0.0</td>\n",
       "      <td>0.0</td>\n",
       "      <td>0.0</td>\n",
       "      <td>0.0</td>\n",
       "      <td>0.0</td>\n",
       "      <td>0.0</td>\n",
       "      <td>0.0</td>\n",
       "      <td>0.0</td>\n",
       "      <td>0.0</td>\n",
       "    </tr>\n",
       "  </tbody>\n",
       "</table>\n",
       "<p>2860 rows × 4410 columns</p>\n",
       "</div>"
      ],
      "text/plain": [
       "       aa  aaaaaaaaand  aap  aaron  aaronmacgruder   ab  ability  abortion  \\\n",
       "0     0.0          0.0  0.0    0.0             0.0  0.0      0.0       0.0   \n",
       "1     0.0          0.0  0.0    0.0             0.0  0.0      0.0       0.0   \n",
       "2     0.0          0.0  0.0    0.0             0.0  0.0      0.0       0.0   \n",
       "3     0.0          0.0  0.0    0.0             0.0  0.0      0.0       0.0   \n",
       "4     0.0          0.0  0.0    0.0             0.0  0.0      0.0       0.0   \n",
       "...   ...          ...  ...    ...             ...  ...      ...       ...   \n",
       "2855  0.0          0.0  0.0    0.0             0.0  0.0      0.0       0.0   \n",
       "2856  0.0          0.0  0.0    0.0             0.0  0.0      0.0       0.0   \n",
       "2857  0.0          0.0  0.0    0.0             0.0  0.0      0.0       0.0   \n",
       "2858  0.0          0.0  0.0    0.0             0.0  0.0      0.0       0.0   \n",
       "2859  0.0          0.0  0.0    0.0             0.0  0.0      0.0       0.0   \n",
       "\n",
       "      about  above  ...  zimmerman  zimmy  zion  zionist  zipperhead  zoe  \\\n",
       "0       0.0    0.0  ...        0.0    0.0   0.0      0.0         0.0  0.0   \n",
       "1       0.0    0.0  ...        0.0    0.0   0.0      0.0         0.0  0.0   \n",
       "2       0.0    0.0  ...        0.0    0.0   0.0      0.0         0.0  0.0   \n",
       "3       0.0    0.0  ...        0.0    0.0   0.0      0.0         0.0  0.0   \n",
       "4       0.0    0.0  ...        0.0    0.0   0.0      0.0         0.0  0.0   \n",
       "...     ...    ...  ...        ...    ...   ...      ...         ...  ...   \n",
       "2855    0.4    0.0  ...        0.0    0.0   0.0      0.0         0.0  0.0   \n",
       "2856    0.0    0.0  ...        0.0    0.0   0.0      0.0         0.0  0.0   \n",
       "2857    0.0    0.0  ...        0.0    0.0   0.0      0.0         0.0  0.0   \n",
       "2858    0.0    0.0  ...        0.0    0.0   0.0      0.0         0.0  0.0   \n",
       "2859    0.0    0.0  ...        0.0    0.0   0.0      0.0         0.0  0.0   \n",
       "\n",
       "      zog  zone  zoom  zzzzzz  \n",
       "0     0.0   0.0   0.0     0.0  \n",
       "1     0.0   0.0   0.0     0.0  \n",
       "2     0.0   0.0   0.0     0.0  \n",
       "3     0.0   0.0   0.0     0.0  \n",
       "4     0.0   0.0   0.0     0.0  \n",
       "...   ...   ...   ...     ...  \n",
       "2855  0.0   0.0   0.0     0.0  \n",
       "2856  0.0   0.0   0.0     0.0  \n",
       "2857  0.0   0.0   0.0     0.0  \n",
       "2858  0.0   0.0   0.0     0.0  \n",
       "2859  0.0   0.0   0.0     0.0  \n",
       "\n",
       "[2860 rows x 4410 columns]"
      ]
     },
     "execution_count": 25,
     "metadata": {},
     "output_type": "execute_result"
    }
   ],
   "source": [
    "from sklearn.feature_extraction.text import TfidfVectorizer\n",
    "\n",
    "tfidfv = TfidfVectorizer(min_df=0., max_df=1., use_idf=True)\n",
    "tfidfv_matrix = tfidfv.fit_transform(corpus)\n",
    "tfidfv_matrix = tfidfv_matrix.toarray()\n",
    "\n",
    "vocab = tfidfv.get_feature_names()\n",
    "tfidf_df = pd.DataFrame(np.round(tfidfv_matrix, 2), columns=vocab)\n",
    "tfidf_df"
   ]
  },
  {
   "cell_type": "code",
   "execution_count": 26,
   "metadata": {},
   "outputs": [],
   "source": [
    "tfidf_df['class'] = df['class']"
   ]
  },
  {
   "cell_type": "code",
   "execution_count": 27,
   "metadata": {},
   "outputs": [],
   "source": [
    "tfidf_offensive = tfidf_df[tfidf_df['class'] == 1]\n",
    "tfidf_hate = tfidf_df[tfidf_df['class'] == 0]\n",
    "tfidf_offensive = tfidf_offensive.drop('class', axis='columns')\n",
    "tfidf_hate = tfidf_hate.drop('class', axis='columns')"
   ]
  },
  {
   "cell_type": "code",
   "execution_count": 28,
   "metadata": {},
   "outputs": [
    {
     "data": {
      "text/plain": [
       "<AxesSubplot:>"
      ]
     },
     "execution_count": 28,
     "metadata": {},
     "output_type": "execute_result"
    },
    {
     "data": {
      "image/png": "[encoded data removed]",
      "text/plain": [
       "<Figure size 432x288 with 1 Axes>"
      ]
     },
     "metadata": {
      "needs_background": "light"
     },
     "output_type": "display_data"
    }
   ],
   "source": [
    "tf_count_off=tfidf_offensive.sum()\n",
    "tf_off_largest = tf_count_off.nlargest(20)\n",
    "tf_off_largest.plot(kind='bar')"
   ]
  },
  {
   "cell_type": "code",
   "execution_count": 29,
   "metadata": {},
   "outputs": [
    {
     "data": {
      "text/plain": [
       "<AxesSubplot:>"
      ]
     },
     "execution_count": 29,
     "metadata": {},
     "output_type": "execute_result"
    },
    {
     "data": {
      "image/png": "[encoded data removed]",
      "text/plain": [
       "<Figure size 432x288 with 1 Axes>"
      ]
     },
     "metadata": {
      "needs_background": "light"
     },
     "output_type": "display_data"
    }
   ],
   "source": [
    "tf_count_hate=tfidf_hate.sum()\n",
    "tf_hate_largest = tf_count_hate.nlargest(20)\n",
    "tf_hate_largest.plot(kind='bar')"
   ]
  },
  {
   "cell_type": "markdown",
   "metadata": {},
   "source": [
    "Aggregate the 3 different dataframes and try out some modeling"
   ]
  },
  {
   "cell_type": "code",
   "execution_count": 31,
   "metadata": {},
   "outputs": [
    {
     "data": {
      "text/html": [
       "<div>\n",
       "<style scoped>\n",
       "    .dataframe tbody tr th:only-of-type {\n",
       "        vertical-align: middle;\n",
       "    }\n",
       "\n",
       "    .dataframe tbody tr th {\n",
       "        vertical-align: top;\n",
       "    }\n",
       "\n",
       "    .dataframe thead th {\n",
       "        text-align: right;\n",
       "    }\n",
       "</style>\n",
       "<table border=\"1\" class=\"dataframe\">\n",
       "  <thead>\n",
       "    <tr style=\"text-align: right;\">\n",
       "      <th></th>\n",
       "      <th>aa lol</th>\n",
       "      <th>aaaaaaaaand pron</th>\n",
       "      <th>aap be</th>\n",
       "      <th>aaron have</th>\n",
       "      <th>aaronmacgruder stuff</th>\n",
       "      <th>ab pron</th>\n",
       "      <th>ability to</th>\n",
       "      <th>abortion pron</th>\n",
       "      <th>about act</th>\n",
       "      <th>about after</th>\n",
       "      <th>...</th>\n",
       "      <th>zionist be</th>\n",
       "      <th>zoe ask</th>\n",
       "      <th>zog or</th>\n",
       "      <th>zone radius</th>\n",
       "      <th>zoom in</th>\n",
       "      <th>class</th>\n",
       "      <th>num_tokens</th>\n",
       "      <th>mention_count</th>\n",
       "      <th>url_count</th>\n",
       "      <th>hashtag_count</th>\n",
       "    </tr>\n",
       "  </thead>\n",
       "  <tbody>\n",
       "    <tr>\n",
       "      <th>0</th>\n",
       "      <td>0</td>\n",
       "      <td>0</td>\n",
       "      <td>0</td>\n",
       "      <td>0</td>\n",
       "      <td>0</td>\n",
       "      <td>0</td>\n",
       "      <td>0</td>\n",
       "      <td>0</td>\n",
       "      <td>0</td>\n",
       "      <td>0</td>\n",
       "      <td>...</td>\n",
       "      <td>0</td>\n",
       "      <td>0</td>\n",
       "      <td>0</td>\n",
       "      <td>0</td>\n",
       "      <td>0</td>\n",
       "      <td>1</td>\n",
       "      <td>5.0</td>\n",
       "      <td>0</td>\n",
       "      <td>0</td>\n",
       "      <td>0</td>\n",
       "    </tr>\n",
       "    <tr>\n",
       "      <th>1</th>\n",
       "      <td>0</td>\n",
       "      <td>0</td>\n",
       "      <td>0</td>\n",
       "      <td>0</td>\n",
       "      <td>0</td>\n",
       "      <td>0</td>\n",
       "      <td>0</td>\n",
       "      <td>0</td>\n",
       "      <td>0</td>\n",
       "      <td>0</td>\n",
       "      <td>...</td>\n",
       "      <td>0</td>\n",
       "      <td>0</td>\n",
       "      <td>0</td>\n",
       "      <td>0</td>\n",
       "      <td>0</td>\n",
       "      <td>1</td>\n",
       "      <td>18.0</td>\n",
       "      <td>0</td>\n",
       "      <td>0</td>\n",
       "      <td>0</td>\n",
       "    </tr>\n",
       "    <tr>\n",
       "      <th>2</th>\n",
       "      <td>0</td>\n",
       "      <td>0</td>\n",
       "      <td>0</td>\n",
       "      <td>0</td>\n",
       "      <td>0</td>\n",
       "      <td>0</td>\n",
       "      <td>0</td>\n",
       "      <td>0</td>\n",
       "      <td>0</td>\n",
       "      <td>0</td>\n",
       "      <td>...</td>\n",
       "      <td>0</td>\n",
       "      <td>0</td>\n",
       "      <td>0</td>\n",
       "      <td>0</td>\n",
       "      <td>0</td>\n",
       "      <td>1</td>\n",
       "      <td>10.0</td>\n",
       "      <td>0</td>\n",
       "      <td>0</td>\n",
       "      <td>0</td>\n",
       "    </tr>\n",
       "    <tr>\n",
       "      <th>3</th>\n",
       "      <td>0</td>\n",
       "      <td>0</td>\n",
       "      <td>0</td>\n",
       "      <td>0</td>\n",
       "      <td>0</td>\n",
       "      <td>0</td>\n",
       "      <td>0</td>\n",
       "      <td>0</td>\n",
       "      <td>0</td>\n",
       "      <td>0</td>\n",
       "      <td>...</td>\n",
       "      <td>0</td>\n",
       "      <td>0</td>\n",
       "      <td>0</td>\n",
       "      <td>0</td>\n",
       "      <td>0</td>\n",
       "      <td>1</td>\n",
       "      <td>14.0</td>\n",
       "      <td>0</td>\n",
       "      <td>0</td>\n",
       "      <td>0</td>\n",
       "    </tr>\n",
       "    <tr>\n",
       "      <th>4</th>\n",
       "      <td>0</td>\n",
       "      <td>0</td>\n",
       "      <td>0</td>\n",
       "      <td>0</td>\n",
       "      <td>0</td>\n",
       "      <td>0</td>\n",
       "      <td>0</td>\n",
       "      <td>0</td>\n",
       "      <td>0</td>\n",
       "      <td>0</td>\n",
       "      <td>...</td>\n",
       "      <td>0</td>\n",
       "      <td>0</td>\n",
       "      <td>0</td>\n",
       "      <td>0</td>\n",
       "      <td>0</td>\n",
       "      <td>1</td>\n",
       "      <td>22.0</td>\n",
       "      <td>1</td>\n",
       "      <td>1</td>\n",
       "      <td>0</td>\n",
       "    </tr>\n",
       "  </tbody>\n",
       "</table>\n",
       "<p>5 rows × 18894 columns</p>\n",
       "</div>"
      ],
      "text/plain": [
       "   aa lol  aaaaaaaaand pron  aap be  aaron have  aaronmacgruder stuff  \\\n",
       "0       0                 0       0           0                     0   \n",
       "1       0                 0       0           0                     0   \n",
       "2       0                 0       0           0                     0   \n",
       "3       0                 0       0           0                     0   \n",
       "4       0                 0       0           0                     0   \n",
       "\n",
       "   ab pron  ability to  abortion pron  about act  about after  ...  \\\n",
       "0        0           0              0          0            0  ...   \n",
       "1        0           0              0          0            0  ...   \n",
       "2        0           0              0          0            0  ...   \n",
       "3        0           0              0          0            0  ...   \n",
       "4        0           0              0          0            0  ...   \n",
       "\n",
       "   zionist be  zoe ask  zog or  zone radius  zoom in  class  num_tokens  \\\n",
       "0           0        0       0            0        0      1         5.0   \n",
       "1           0        0       0            0        0      1        18.0   \n",
       "2           0        0       0            0        0      1        10.0   \n",
       "3           0        0       0            0        0      1        14.0   \n",
       "4           0        0       0            0        0      1        22.0   \n",
       "\n",
       "   mention_count  url_count  hashtag_count  \n",
       "0              0          0              0  \n",
       "1              0          0              0  \n",
       "2              0          0              0  \n",
       "3              0          0              0  \n",
       "4              1          1              0  \n",
       "\n",
       "[5 rows x 18894 columns]"
      ]
     },
     "execution_count": 31,
     "metadata": {},
     "output_type": "execute_result"
    }
   ],
   "source": [
    "#add num_tokens, mention_count, url_count, hashtag_count\n",
    "\n",
    "new_columns = ['num_tokens', 'mention_count', 'url_count', 'hashtag_count']\n",
    "\n",
    "for col in new_columns:\n",
    "    ngrams_df[col] = df[col]\n",
    "    ngrams_3_df[col] = df[col]\n",
    "    tfidf_df[col] = df[col]"
   ]
  },
  {
   "cell_type": "markdown",
   "metadata": {},
   "source": [
    "Start with ngram, n=2"
   ]
  },
  {
   "cell_type": "code",
   "execution_count": 32,
   "metadata": {},
   "outputs": [],
   "source": [
    "X = ngrams_df.drop('class', axis='columns')\n",
    "y = ngrams_df['class'].astype(int)"
   ]
  },
  {
   "cell_type": "code",
   "execution_count": 33,
   "metadata": {},
   "outputs": [],
   "source": [
    "from sklearn.model_selection import train_test_split\n",
    "X_train, X_test, y_train, y_test = train_test_split(X, y, random_state=42)"
   ]
  },
  {
   "cell_type": "code",
   "execution_count": 34,
   "metadata": {},
   "outputs": [],
   "source": [
    "from sklearn.pipeline import Pipeline\n",
    "from sklearn.model_selection import KFold, GridSearchCV\n",
    "from sklearn.naive_bayes import GaussianNB\n",
    "from sklearn.feature_selection import SelectFromModel"
   ]
  },
  {
   "cell_type": "code",
   "execution_count": 35,
   "metadata": {},
   "outputs": [
    {
     "name": "stderr",
     "output_type": "stream",
     "text": [
      "/Users/Colin/opt/anaconda3/envs/machinelearning/lib/python3.7/site-packages/sklearn/model_selection/_split.py:297: FutureWarning: Setting a random_state has no effect since shuffle is False. This will raise an error in 0.24. You should leave random_state to its default (None), or set shuffle=True.\n",
      "  FutureWarning\n",
      "[Parallel(n_jobs=1)]: Using backend SequentialBackend with 1 concurrent workers.\n"
     ]
    },
    {
     "name": "stdout",
     "output_type": "stream",
     "text": [
      "Fitting 5 folds for each of 1 candidates, totalling 5 fits\n",
      "[CV]  ................................................................\n",
      "[CV] ................................................. , total=   3.6s\n",
      "[CV]  ................................................................\n"
     ]
    },
    {
     "name": "stderr",
     "output_type": "stream",
     "text": [
      "[Parallel(n_jobs=1)]: Done   1 out of   1 | elapsed:    3.6s remaining:    0.0s\n"
     ]
    },
    {
     "name": "stdout",
     "output_type": "stream",
     "text": [
      "[CV] ................................................. , total=   2.3s\n",
      "[CV]  ................................................................\n",
      "[CV] ................................................. , total=   2.3s\n",
      "[CV]  ................................................................\n",
      "[CV] ................................................. , total=   2.2s\n",
      "[CV]  ................................................................\n",
      "[CV] ................................................. , total=   2.4s\n"
     ]
    },
    {
     "name": "stderr",
     "output_type": "stream",
     "text": [
      "[Parallel(n_jobs=1)]: Done   5 out of   5 | elapsed:   13.0s finished\n"
     ]
    }
   ],
   "source": [
    "gnb = GaussianNB()\n",
    "param_grid = [{}]\n",
    "grid_search = GridSearchCV(gnb, \n",
    "                           param_grid,\n",
    "                           cv=KFold(n_splits=5, \n",
    "                                              random_state=42).split(X_train, y_train), \n",
    "                           verbose=2)\n",
    "y_preds = grid_search.fit(X_train, y_train).predict(X_test)"
   ]
  },
  {
   "cell_type": "code",
   "execution_count": 36,
   "metadata": {},
   "outputs": [
    {
     "data": {
      "text/plain": [
       "<sklearn.metrics._plot.confusion_matrix.ConfusionMatrixDisplay at 0x1a3d9d8ad0>"
      ]
     },
     "execution_count": 36,
     "metadata": {},
     "output_type": "execute_result"
    },
    {
     "data": {
      "image/png": "[encoded data removed]",
      "text/plain": [
       "<Figure size 432x288 with 2 Axes>"
      ]
     },
     "metadata": {
      "needs_background": "light"
     },
     "output_type": "display_data"
    }
   ],
   "source": [
    "from sklearn.metrics import plot_confusion_matrix\n",
    "class_names = ['Offensive', 'Hate']\n",
    "plot_confusion_matrix(grid_search, X_test, y_test, cmap=plt.cm.Blues, display_labels = class_names, values_format = '')"
   ]
  },
  {
   "cell_type": "code",
   "execution_count": 37,
   "metadata": {},
   "outputs": [
    {
     "name": "stdout",
     "output_type": "stream",
     "text": [
      "              precision    recall  f1-score   support\n",
      "\n",
      "           0       0.68      0.46      0.55       341\n",
      "           1       0.62      0.80      0.70       374\n",
      "\n",
      "    accuracy                           0.64       715\n",
      "   macro avg       0.65      0.63      0.62       715\n",
      "weighted avg       0.65      0.64      0.62       715\n",
      "\n"
     ]
    }
   ],
   "source": [
    "from sklearn.metrics import classification_report\n",
    "report = classification_report( y_test, y_preds)\n",
    "print(report)"
   ]
  },
  {
   "cell_type": "code",
   "execution_count": 38,
   "metadata": {},
   "outputs": [
    {
     "name": "stderr",
     "output_type": "stream",
     "text": [
      "/Users/Colin/opt/anaconda3/envs/machinelearning/lib/python3.7/site-packages/sklearn/model_selection/_split.py:297: FutureWarning: Setting a random_state has no effect since shuffle is False. This will raise an error in 0.24. You should leave random_state to its default (None), or set shuffle=True.\n",
      "  FutureWarning\n",
      "[Parallel(n_jobs=1)]: Using backend SequentialBackend with 1 concurrent workers.\n"
     ]
    },
    {
     "name": "stdout",
     "output_type": "stream",
     "text": [
      "Fitting 5 folds for each of 1 candidates, totalling 5 fits\n",
      "[CV]  ................................................................\n",
      "[CV] ................................................. , total= 1.3min\n",
      "[CV]  ................................................................\n"
     ]
    },
    {
     "name": "stderr",
     "output_type": "stream",
     "text": [
      "[Parallel(n_jobs=1)]: Done   1 out of   1 | elapsed:  1.3min remaining:    0.0s\n"
     ]
    },
    {
     "name": "stdout",
     "output_type": "stream",
     "text": [
      "[CV] ................................................. , total= 1.2min\n",
      "[CV]  ................................................................\n",
      "[CV] ................................................. , total= 1.2min\n",
      "[CV]  ................................................................\n",
      "[CV] ................................................. , total= 1.2min\n",
      "[CV]  ................................................................\n",
      "[CV] ................................................. , total= 1.2min\n"
     ]
    },
    {
     "name": "stderr",
     "output_type": "stream",
     "text": [
      "[Parallel(n_jobs=1)]: Done   5 out of   5 | elapsed:  6.2min finished\n"
     ]
    }
   ],
   "source": [
    "from sklearn.svm import SVC\n",
    "svc = SVC()\n",
    "param_grid = [{}]\n",
    "grid_search2 = GridSearchCV(svc, \n",
    "                           param_grid,\n",
    "                           cv=KFold(n_splits=5, \n",
    "                                              random_state=42).split(X_train, y_train), \n",
    "                           verbose=2)\n",
    "y_preds2 = grid_search2.fit(X_train, y_train).predict(X_test)"
   ]
  },
  {
   "cell_type": "code",
   "execution_count": 39,
   "metadata": {},
   "outputs": [
    {
     "data": {
      "text/plain": [
       "<sklearn.metrics._plot.confusion_matrix.ConfusionMatrixDisplay at 0x1a3d16b890>"
      ]
     },
     "execution_count": 39,
     "metadata": {},
     "output_type": "execute_result"
    },
    {
     "data": {
      "image/png": "[encoded data removed]",
      "text/plain": [
       "<Figure size 432x288 with 2 Axes>"
      ]
     },
     "metadata": {
      "needs_background": "light"
     },
     "output_type": "display_data"
    }
   ],
   "source": [
    "plot_confusion_matrix(grid_search2, X_test, y_test, cmap=plt.cm.Blues, display_labels = class_names, values_format = '')"
   ]
  },
  {
   "cell_type": "code",
   "execution_count": 41,
   "metadata": {},
   "outputs": [
    {
     "name": "stdout",
     "output_type": "stream",
     "text": [
      "              precision    recall  f1-score   support\n",
      "\n",
      "           0       0.53      0.56      0.55       341\n",
      "           1       0.58      0.55      0.56       374\n",
      "\n",
      "    accuracy                           0.55       715\n",
      "   macro avg       0.55      0.55      0.55       715\n",
      "weighted avg       0.56      0.55      0.55       715\n",
      "\n"
     ]
    }
   ],
   "source": [
    "report2 = classification_report( y_test, y_preds2)\n",
    "print(report2)"
   ]
  },
  {
   "cell_type": "markdown",
   "metadata": {},
   "source": [
    "ngram with n=3"
   ]
  },
  {
   "cell_type": "code",
   "execution_count": 46,
   "metadata": {},
   "outputs": [],
   "source": [
    "X = ngrams_3_df.drop('class', axis='columns')\n",
    "y = ngrams_3_df['class'].astype(int)"
   ]
  },
  {
   "cell_type": "code",
   "execution_count": 47,
   "metadata": {},
   "outputs": [],
   "source": [
    "X_train, X_test, y_train, y_test = train_test_split(X, y, random_state=42)"
   ]
  },
  {
   "cell_type": "code",
   "execution_count": 48,
   "metadata": {},
   "outputs": [
    {
     "name": "stderr",
     "output_type": "stream",
     "text": [
      "/Users/Colin/opt/anaconda3/envs/machinelearning/lib/python3.7/site-packages/sklearn/model_selection/_split.py:297: FutureWarning: Setting a random_state has no effect since shuffle is False. This will raise an error in 0.24. You should leave random_state to its default (None), or set shuffle=True.\n",
      "  FutureWarning\n",
      "[Parallel(n_jobs=1)]: Using backend SequentialBackend with 1 concurrent workers.\n"
     ]
    },
    {
     "name": "stdout",
     "output_type": "stream",
     "text": [
      "Fitting 5 folds for each of 1 candidates, totalling 5 fits\n",
      "[CV]  ................................................................\n",
      "[CV] ................................................. , total=   4.9s\n",
      "[CV]  ................................................................\n"
     ]
    },
    {
     "name": "stderr",
     "output_type": "stream",
     "text": [
      "[Parallel(n_jobs=1)]: Done   1 out of   1 | elapsed:    4.9s remaining:    0.0s\n"
     ]
    },
    {
     "name": "stdout",
     "output_type": "stream",
     "text": [
      "[CV] ................................................. , total=   4.5s\n",
      "[CV]  ................................................................\n",
      "[CV] ................................................. , total=   4.4s\n",
      "[CV]  ................................................................\n",
      "[CV] ................................................. , total=   4.1s\n",
      "[CV]  ................................................................\n",
      "[CV] ................................................. , total=   4.5s\n"
     ]
    },
    {
     "name": "stderr",
     "output_type": "stream",
     "text": [
      "[Parallel(n_jobs=1)]: Done   5 out of   5 | elapsed:   22.6s finished\n"
     ]
    }
   ],
   "source": [
    "grid_search3 = GridSearchCV(gnb, \n",
    "                           param_grid,\n",
    "                           cv=KFold(n_splits=5, \n",
    "                                              random_state=42).split(X_train, y_train), \n",
    "                           verbose=2)\n",
    "y_preds3 = grid_search3.fit(X_train, y_train).predict(X_test)"
   ]
  },
  {
   "cell_type": "code",
   "execution_count": 51,
   "metadata": {},
   "outputs": [
    {
     "data": {
      "text/plain": [
       "<sklearn.metrics._plot.confusion_matrix.ConfusionMatrixDisplay at 0x1a3d045e50>"
      ]
     },
     "execution_count": 51,
     "metadata": {},
     "output_type": "execute_result"
    },
    {
     "data": {
      "image/png": "[encoded data removed]",
      "text/plain": [
       "<Figure size 432x288 with 2 Axes>"
      ]
     },
     "metadata": {
      "needs_background": "light"
     },
     "output_type": "display_data"
    }
   ],
   "source": [
    "plot_confusion_matrix(grid_search3, X_test, y_test, cmap=plt.cm.Blues, display_labels = class_names, values_format = '')"
   ]
  },
  {
   "cell_type": "code",
   "execution_count": 52,
   "metadata": {},
   "outputs": [
    {
     "name": "stdout",
     "output_type": "stream",
     "text": [
      "              precision    recall  f1-score   support\n",
      "\n",
      "           0       0.68      0.46      0.55       341\n",
      "           1       0.62      0.80      0.70       374\n",
      "\n",
      "    accuracy                           0.64       715\n",
      "   macro avg       0.65      0.63      0.62       715\n",
      "weighted avg       0.65      0.64      0.62       715\n",
      "\n"
     ]
    }
   ],
   "source": [
    "report3 = classification_report( y_test, y_preds3)\n",
    "print(report)"
   ]
  },
  {
   "cell_type": "code",
   "execution_count": 53,
   "metadata": {},
   "outputs": [
    {
     "name": "stdout",
     "output_type": "stream",
     "text": [
      "Fitting 5 folds for each of 1 candidates, totalling 5 fits\n",
      "[CV]  ................................................................\n"
     ]
    },
    {
     "name": "stderr",
     "output_type": "stream",
     "text": [
      "/Users/Colin/opt/anaconda3/envs/machinelearning/lib/python3.7/site-packages/sklearn/model_selection/_split.py:297: FutureWarning: Setting a random_state has no effect since shuffle is False. This will raise an error in 0.24. You should leave random_state to its default (None), or set shuffle=True.\n",
      "  FutureWarning\n",
      "[Parallel(n_jobs=1)]: Using backend SequentialBackend with 1 concurrent workers.\n"
     ]
    },
    {
     "name": "stdout",
     "output_type": "stream",
     "text": [
      "[CV] ................................................. , total= 2.0min\n",
      "[CV]  ................................................................\n"
     ]
    },
    {
     "name": "stderr",
     "output_type": "stream",
     "text": [
      "[Parallel(n_jobs=1)]: Done   1 out of   1 | elapsed:  2.0min remaining:    0.0s\n"
     ]
    },
    {
     "name": "stdout",
     "output_type": "stream",
     "text": [
      "[CV] ................................................. , total= 1.9min\n",
      "[CV]  ................................................................\n",
      "[CV] ................................................. , total= 1.9min\n",
      "[CV]  ................................................................\n",
      "[CV] ................................................. , total= 1.9min\n",
      "[CV]  ................................................................\n",
      "[CV] ................................................. , total= 1.9min\n"
     ]
    },
    {
     "name": "stderr",
     "output_type": "stream",
     "text": [
      "[Parallel(n_jobs=1)]: Done   5 out of   5 | elapsed:  9.7min finished\n"
     ]
    }
   ],
   "source": [
    "grid_search4 = GridSearchCV(svc, \n",
    "                           param_grid,\n",
    "                           cv=KFold(n_splits=5, \n",
    "                                              random_state=42).split(X_train, y_train), \n",
    "                           verbose=2)\n",
    "y_preds4 = grid_search4.fit(X_train, y_train).predict(X_test)"
   ]
  },
  {
   "cell_type": "code",
   "execution_count": 54,
   "metadata": {},
   "outputs": [
    {
     "data": {
      "text/plain": [
       "<sklearn.metrics._plot.confusion_matrix.ConfusionMatrixDisplay at 0x1a3db88ed0>"
      ]
     },
     "execution_count": 54,
     "metadata": {},
     "output_type": "execute_result"
    },
    {
     "data": {
      "image/png": "[encoded data removed]",
      "text/plain": [
       "<Figure size 432x288 with 2 Axes>"
      ]
     },
     "metadata": {
      "needs_background": "light"
     },
     "output_type": "display_data"
    }
   ],
   "source": [
    "plot_confusion_matrix(grid_search4, X_test, y_test, cmap=plt.cm.Blues, display_labels = class_names, values_format = '')"
   ]
  },
  {
   "cell_type": "code",
   "execution_count": 55,
   "metadata": {},
   "outputs": [
    {
     "name": "stdout",
     "output_type": "stream",
     "text": [
      "              precision    recall  f1-score   support\n",
      "\n",
      "           0       0.68      0.46      0.55       341\n",
      "           1       0.62      0.80      0.70       374\n",
      "\n",
      "    accuracy                           0.64       715\n",
      "   macro avg       0.65      0.63      0.62       715\n",
      "weighted avg       0.65      0.64      0.62       715\n",
      "\n"
     ]
    }
   ],
   "source": [
    "report4 = classification_report( y_test, y_preds4)\n",
    "print(report)"
   ]
  },
  {
   "cell_type": "markdown",
   "metadata": {},
   "source": [
    "Now with tfidf"
   ]
  },
  {
   "cell_type": "code",
   "execution_count": 56,
   "metadata": {},
   "outputs": [],
   "source": [
    "X = tfidf_df.drop('class', axis='columns')\n",
    "y = tfidf_df['class'].astype(int)"
   ]
  },
  {
   "cell_type": "code",
   "execution_count": 57,
   "metadata": {},
   "outputs": [],
   "source": [
    "X_train, X_test, y_train, y_test = train_test_split(X, y, random_state=42)"
   ]
  },
  {
   "cell_type": "code",
   "execution_count": 58,
   "metadata": {},
   "outputs": [
    {
     "name": "stderr",
     "output_type": "stream",
     "text": [
      "/Users/Colin/opt/anaconda3/envs/machinelearning/lib/python3.7/site-packages/sklearn/model_selection/_split.py:297: FutureWarning: Setting a random_state has no effect since shuffle is False. This will raise an error in 0.24. You should leave random_state to its default (None), or set shuffle=True.\n",
      "  FutureWarning\n",
      "[Parallel(n_jobs=1)]: Using backend SequentialBackend with 1 concurrent workers.\n"
     ]
    },
    {
     "name": "stdout",
     "output_type": "stream",
     "text": [
      "Fitting 5 folds for each of 1 candidates, totalling 5 fits\n",
      "[CV]  ................................................................\n",
      "[CV] ................................................. , total=   0.8s\n",
      "[CV]  ................................................................\n"
     ]
    },
    {
     "name": "stderr",
     "output_type": "stream",
     "text": [
      "[Parallel(n_jobs=1)]: Done   1 out of   1 | elapsed:    0.8s remaining:    0.0s\n"
     ]
    },
    {
     "name": "stdout",
     "output_type": "stream",
     "text": [
      "[CV] ................................................. , total=   0.5s\n",
      "[CV]  ................................................................\n",
      "[CV] ................................................. , total=   0.4s\n",
      "[CV]  ................................................................\n",
      "[CV] ................................................. , total=   0.5s\n",
      "[CV]  ................................................................\n",
      "[CV] ................................................. , total=   0.5s\n"
     ]
    },
    {
     "name": "stderr",
     "output_type": "stream",
     "text": [
      "[Parallel(n_jobs=1)]: Done   5 out of   5 | elapsed:    2.7s finished\n"
     ]
    }
   ],
   "source": [
    "grid_search5 = GridSearchCV(gnb, \n",
    "                           param_grid,\n",
    "                           cv=KFold(n_splits=5, \n",
    "                                              random_state=42).split(X_train, y_train), \n",
    "                           verbose=2)\n",
    "y_preds5 = grid_search5.fit(X_train, y_train).predict(X_test)"
   ]
  },
  {
   "cell_type": "code",
   "execution_count": 59,
   "metadata": {},
   "outputs": [
    {
     "data": {
      "text/plain": [
       "<sklearn.metrics._plot.confusion_matrix.ConfusionMatrixDisplay at 0x1a3dc81d90>"
      ]
     },
     "execution_count": 59,
     "metadata": {},
     "output_type": "execute_result"
    },
    {
     "data": {
      "image/png": "[encoded data removed]",
      "text/plain": [
       "<Figure size 432x288 with 2 Axes>"
      ]
     },
     "metadata": {
      "needs_background": "light"
     },
     "output_type": "display_data"
    }
   ],
   "source": [
    "plot_confusion_matrix(grid_search5, X_test, y_test, cmap=plt.cm.Blues, display_labels = class_names, values_format = '')"
   ]
  },
  {
   "cell_type": "code",
   "execution_count": 60,
   "metadata": {},
   "outputs": [
    {
     "name": "stdout",
     "output_type": "stream",
     "text": [
      "              precision    recall  f1-score   support\n",
      "\n",
      "           0       0.57      0.40      0.47       341\n",
      "           1       0.57      0.73      0.64       374\n",
      "\n",
      "    accuracy                           0.57       715\n",
      "   macro avg       0.57      0.56      0.55       715\n",
      "weighted avg       0.57      0.57      0.56       715\n",
      "\n"
     ]
    }
   ],
   "source": [
    "report = classification_report( y_test, y_preds5)\n",
    "print(report)"
   ]
  },
  {
   "cell_type": "code",
   "execution_count": 61,
   "metadata": {},
   "outputs": [
    {
     "name": "stdout",
     "output_type": "stream",
     "text": [
      "Fitting 5 folds for each of 1 candidates, totalling 5 fits\n",
      "[CV]  ................................................................\n"
     ]
    },
    {
     "name": "stderr",
     "output_type": "stream",
     "text": [
      "/Users/Colin/opt/anaconda3/envs/machinelearning/lib/python3.7/site-packages/sklearn/model_selection/_split.py:297: FutureWarning: Setting a random_state has no effect since shuffle is False. This will raise an error in 0.24. You should leave random_state to its default (None), or set shuffle=True.\n",
      "  FutureWarning\n",
      "[Parallel(n_jobs=1)]: Using backend SequentialBackend with 1 concurrent workers.\n"
     ]
    },
    {
     "name": "stdout",
     "output_type": "stream",
     "text": [
      "[CV] ................................................. , total=  19.1s\n",
      "[CV]  ................................................................\n"
     ]
    },
    {
     "name": "stderr",
     "output_type": "stream",
     "text": [
      "[Parallel(n_jobs=1)]: Done   1 out of   1 | elapsed:   19.1s remaining:    0.0s\n"
     ]
    },
    {
     "name": "stdout",
     "output_type": "stream",
     "text": [
      "[CV] ................................................. , total=  19.1s\n",
      "[CV]  ................................................................\n",
      "[CV] ................................................. , total=  19.1s\n",
      "[CV]  ................................................................\n",
      "[CV] ................................................. , total=  19.1s\n",
      "[CV]  ................................................................\n",
      "[CV] ................................................. , total=  19.2s\n"
     ]
    },
    {
     "name": "stderr",
     "output_type": "stream",
     "text": [
      "[Parallel(n_jobs=1)]: Done   5 out of   5 | elapsed:  1.6min finished\n"
     ]
    }
   ],
   "source": [
    "grid_search6 = GridSearchCV(svc, \n",
    "                           param_grid,\n",
    "                           cv=KFold(n_splits=5, \n",
    "                                              random_state=42).split(X_train, y_train), \n",
    "                           verbose=2)\n",
    "y_preds6 = grid_search6.fit(X_train, y_train).predict(X_test)"
   ]
  },
  {
   "cell_type": "code",
   "execution_count": 62,
   "metadata": {},
   "outputs": [
    {
     "data": {
      "text/plain": [
       "<sklearn.metrics._plot.confusion_matrix.ConfusionMatrixDisplay at 0x1a3dd36b10>"
      ]
     },
     "execution_count": 62,
     "metadata": {},
     "output_type": "execute_result"
    },
    {
     "data": {
      "image/png": "[encoded data removed]",
      "text/plain": [
       "<Figure size 432x288 with 2 Axes>"
      ]
     },
     "metadata": {
      "needs_background": "light"
     },
     "output_type": "display_data"
    }
   ],
   "source": [
    "plot_confusion_matrix(grid_search6, X_test, y_test, cmap=plt.cm.Blues, display_labels = class_names, values_format = '')"
   ]
  },
  {
   "cell_type": "code",
   "execution_count": 63,
   "metadata": {},
   "outputs": [
    {
     "name": "stdout",
     "output_type": "stream",
     "text": [
      "              precision    recall  f1-score   support\n",
      "\n",
      "           0       0.57      0.40      0.47       341\n",
      "           1       0.57      0.73      0.64       374\n",
      "\n",
      "    accuracy                           0.57       715\n",
      "   macro avg       0.57      0.56      0.55       715\n",
      "weighted avg       0.57      0.57      0.56       715\n",
      "\n"
     ]
    }
   ],
   "source": [
    "report = classification_report( y_test, y_preds5)\n",
    "print(report)"
   ]
  }
 ],
 "metadata": {
  "kernelspec": {
   "display_name": "Python 3",
   "language": "python",
   "name": "python3"
  },
  "language_info": {
   "codemirror_mode": {
    "name": "ipython",
    "version": 3
   },
   "file_extension": ".py",
   "mimetype": "text/x-python",
   "name": "python",
   "nbconvert_exporter": "python",
   "pygments_lexer": "ipython3",
   "version": "3.7.9"
  }
 },
 "nbformat": 4,
 "nbformat_minor": 4
}
